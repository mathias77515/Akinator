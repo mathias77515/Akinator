{
 "cells": [
  {
   "cell_type": "markdown",
   "metadata": {},
   "source": [
    "# Mini-Projet : Modélisation et Machine Learning"
   ]
  },
  {
   "cell_type": "markdown",
   "metadata": {},
   "source": [
    "## Arbre de décision - Jeu Akinator"
   ]
  },
  {
   "cell_type": "markdown",
   "metadata": {},
   "source": [
    "![](Akinator'spicture.jpg)"
   ]
  },
  {
   "cell_type": "markdown",
   "metadata": {},
   "source": [
    "Le jeu Akinator est un jeu basé sur les arbres de décisions, qui avec quelques questions, peut trouver à quoi vous penser. Ici, on propose de reproduire ce jeu pour un dataset plus limité pour des raisons de simplicité et de temps. Créé par deux français, Jeff et Arnaud, edité par Elokence, le jeu connaît littéralement un pic de popularité dans les années 2009 - 2010.[[1](#Bibliographie)]\n",
    "\n",
    "On utilisera dans notre cas un jeu de donnée qui recense un certain nombre d'animaux ainsi que leurs caractéristiques physiques permettant des les différenciers les uns des autres. Pour commencer, nous verrons 3 différentes méthodes et nous prendrons comme choix d'animal à deviner le tigre. Ce choix est bien sûr totalement arbitraire et vous pourrez bien sur changer cet animal et choisir l'un de notre base de donnée."
   ]
  },
  {
   "cell_type": "markdown",
   "metadata": {},
   "source": [
    "## Sommaire\n",
    "\n",
    " 1. [Dataset : Présentation et limites](#Le-dataset-:-Présentation-et-limites)\n",
    " 2. [Déroulement du projet](#Déroulement-du-projet)\n",
    " 3. [Approche déterministe](#Approche-déterministe)\n",
    "     1. [Questions aléatoires](#Questions-aléatoires)\n",
    "     2. [Questions dirigées](#Questions-dirigées)\n",
    "     3. [Questions semi-dirigées](#Questions-semi-dirigées)\n",
    " 4. [Automatisation des algorithmes](#Automatisation-des-algorithmes)\n",
    "     1. [Présentation de l'automatisation](#Présentation-de-l'automatisation)\n",
    "         1. [Questions aléatoires automatiques](#Questions-aléatoires-automatiques)\n",
    "         2. [Questions dirigées automatiques](#Questions-dirigées-automatiques)\n",
    "         3. [Questions semi-dirigées automatiques](#Questions-semi-dirigées-automatiques)\n",
    "     2. [Définition d'une classe](#Définition-d'une-classe)\n",
    " 5. [Analyse](#Analyse)\n",
    "     1. [Convergence des algorithmes](#Convergence-des-algorithmes)\n",
    "     2. [Influence du nombre de données](#Influence-du-nombre-de-données)\n",
    "     3. [Le paramètre $\\Xi$](#Le-paramètre-\\Xi)\n",
    " 6. [Autres méthodes](#Autres-méthodes)\n",
    "     1. [Arbre de décision](#Arbre-de-décision)\n",
    "     2. [Random Forest](#Random-Forest)\n",
    " 7. [Approche Probabiliste : Inférence Bayésienne](#Approche-Probabiliste-:-Inférence-Bayésienne)\n",
    " 8. [Méthodes de visualisation / Classifications](#Méthodes-de-visualisation-/-Classifications)\n",
    "     1. [PCA](#PCA)\n",
    "     2. [Kmeans](#Kmeans)\n",
    " 9. [Ouverture](#Ouverture)\n",
    " 10. [Retour sur le mini projet](#Retour-sur-le-mini-projet)\n",
    "     1. [Inconvénients](#Inconvénients)\n",
    "     2. [Avantages : Résumé des choses apprises](#Avantages-:-Résumé-des-choses-apprises)\n",
    " 11. [Bibliographie](#Bibliographie)"
   ]
  },
  {
   "cell_type": "markdown",
   "metadata": {},
   "source": [
    "# Le dataset : Présentation et limites"
   ]
  },
  {
   "cell_type": "markdown",
   "metadata": {},
   "source": [
    "Le jeu Akinator possède une base de donnée immensément grande, de plus, chacun peut la compléter librement. Dans notre cas, nous avons utilisé une base de donnée déjà existante, complétée par nos soins. Le dataset que nous avons séléctionné provient du site kaggle : [[5](#Bibliographie)], et contient des données d'animaux venant d'un zoo. Il contenait au départ une liste de 101 animaux, tous étant présents en général dans les zoos. On voit ici un premier problème, nous avions des animaux sauvages mais pas d'animaux famillier tels que le chien, le chat, la vache, etc... Il y a donc eu un premier travail manuel afin de compléter notre base de donnée afin qu'elle possède un maximum d'animaux, ou plutôt qu'elle possède les animaux les plus communément choisis. En effet, dans notre base de donnée initiale, certains animaux étaient complètement inconnus du grand public (par exemple \"aardvark\" ou \"l'oryctérope du cap\" en français..), nous avons donc choisi de supprimer ces animaux de la liste car on considère qu'ils ont très peu de chance d'être choisis au départ. Au final, nous nous retrouvons finalement avec une liste de 162 animaux parmis les plus connus.\n",
    "\n",
    "Par ailleurs, notre liste de départ contenait une quinzaine de caractéristiques physiques différentes, ce qui n'est évidement pas assez pour tous les distinguer de manière unique. En effet, pour un humain il est facile de distinguer par exemple un cheval et une vache. Cependant, pour l'ordinateur, ces animaux ne sont que des chiffres, il faut donc trouver assez de caractéristiques physiques afin que celui-ci puisse distinguer tous les animaux entre eux. Il y a donc eu encore un travail de réflexion sur les questions pertinentes à poser afin de distinguer le plus efficacement les animaux. Malgré tous nos efforts, il reste encore un groupe composé de 3 animaux, et un autre de 2 que l'on ne peut malheuresement pas séparer à moins de poser des questions très pointilleuses, ce que nous n'avons pas choisi de faire."
   ]
  },
  {
   "cell_type": "markdown",
   "metadata": {},
   "source": [
    "# Déroulement du projet"
   ]
  },
  {
   "cell_type": "markdown",
   "metadata": {},
   "source": [
    "Après ce travail en amont sur le dataset, il a fallu penser l'algorithme d'akinator. Plusieurs algorithmes vous seront présentés dans ce compte-rendu. En effet une première approche a été l'approche déterministe. En effet tout le cerveau d'akinator tient dans le fait d'aller chercher les bonnes informations dans la base de données, ceci de façon la plus efficace possible et donc en limitant les questions. Nous proposerons donc dans cette approche plusieurs algorithmes, commençant de la manière la plus simple de poser les questions (aléatoirement) à la plus rapide (éliminer le plus de choix possible).\n",
    "\n",
    "Par ailleurs, nous proposons ici une autre manière de visualiser les donnée à travers plusieurs algorithmes comme l'analyse des composantes principales, ou bien l'études d'arbres de décisions directements implantés dans la bibliothèque Sklearn (Decision Tree & Random Forest). \n",
    "\n",
    "Pour commencer, interessons nous ici à notre akinator, en suivant une approche déterministe."
   ]
  },
  {
   "cell_type": "markdown",
   "metadata": {},
   "source": [
    "#### <font color ='green'> Importation des modules importants </font>"
   ]
  },
  {
   "cell_type": "code",
   "execution_count": 1,
   "metadata": {},
   "outputs": [],
   "source": [
    "import numpy as np\n",
    "import matplotlib.pyplot as plt\n",
    "import pandas as pd\n",
    "import random\n",
    "from sklearn import tree\n",
    "from IPython.display import display, Markdown, clear_output\n",
    "import ipywidgets as widgets\n",
    "from IPython.display import Image"
   ]
  },
  {
   "cell_type": "markdown",
   "metadata": {},
   "source": [
    "Les questions suivantes ont été choisies minutieusement de façon à :\n",
    "   - Etre les plus pertientes possibles afin d'éliminer un large choix d'animaux à chaque question\n",
    "   - Etre les plus précises possibles afin d'éviter tout doute ou encore tout penchant subjectif\n",
    "\n",
    "Celles-ci sont regroupées dans un tableau qui nous servira dans la suite :"
   ]
  },
  {
   "cell_type": "code",
   "execution_count": 3,
   "metadata": {},
   "outputs": [],
   "source": [
    "questions = [\"Votre animal possède-t-il une épaisse fourrure ?\",\"Votre animal vit-il en troupeau ou en groupe ?\",\"Votre animal est-il un charognard ?\",\"Votre animal possède-t-il une queue rayée ?\",\"Votre animal possède-t-il de longues griffes acérées ?\",\"Retrouve-t-on votre animal dans le désert ?\",\"Votre animal se nourrit-il de sang humain ?\",\"Votre animal est-il nocturne ?\",\"Votre animal possède-t-il relativement un long cou ?\",\"Votre animal possède-t-il des défenses ?\",\"Votre animal possède-t-il des cornes ?\",\"Votre animal tiendrait-il, dans son entièreté dans le creux de votre de main ?\",\"Votre animal est-il le petit de son espèce ? \" ,\" Votre animal se trouve-t-il abondement en ville ?  \", \"Votre animal est-il comestible dans la coutume Européenne ?\",\"Votre animal vit-il à proximité d’une source aquatique ?\",\"Votre animal peut-il vivre dans la forêt ?\", \"Votre animal peut-il vivre dans la jungle ?\", \"Votre animal est-il un canidé ?\", \"Votre animal est-il un félin ?\", \"Votre animal provient-il de la savane africaine ?\", \"Votre animal pèse-t-il au moins deux hommes ?\", \"Votre animal a-t-il des poils ? \", \"Votre animal a-t-il des plumes ? \", \"Votre animal pond-t-il des oeufs ? \", \"Votre animal produit-il du lait ? \", \"Votre animal peut-il voler ? \", \"Votre animal est-il aquatique ? \",\n",
    "\n",
    "\"Votre animal chasse-t-il sa nourriture ? \", \"Votre animal possède-t-il des dents ? \", \"Votre animal possède-t-il une colonne vertébrale ? \", \"Votre animal possède-t-il des poumons ? \", \"Votre animal est-il venimeux ? \",\n",
    "\n",
    "\"Votre animal possède-t-il des nageoires ? \", \"Votre animal possède-t-il une queue ? \", \"Votre animal est il un animal domestique ? \", \"Votre animal possède-il 0 pattes ? \", \"Votre animal a-t-il 2 pattes ? \",\n",
    "\n",
    "\"Votre animal a-t-il 4 pattes ? \", \"Votre animal a-t-il 5 pattes ? \", \"Votre animal a-t-il 6 pattes ? \", \"Votre animal a-t-il 8 pattes ? \", \"Votre animal est-il un mammifère ? \", \"Votre animal est-il un oiseau ? \", \"Votre animal est-il un reptile ? \"\n",
    "\n",
    ", \"Votre animal est-il un poisson ? \", \"Votre animal est-il un amphibien ? \", \"Votre animal est-il un insecte ? \", \"Votre animal est-il un invertébré ? \"]"
   ]
  },
  {
   "cell_type": "markdown",
   "metadata": {},
   "source": [
    "# Approche déterministe"
   ]
  },
  {
   "cell_type": "markdown",
   "metadata": {},
   "source": [
    "En adoptant une approche déterministe du problème, on va considérer que le problème peut être résolu de manière certaine. Chaque étape (chaque réponse de l'interlocuteur) mènera forcément vers une réponse et nous ne proposerons une réponse que si l'on est sur de celle-ci en vertu des réponses précédentes du joueur. En effet, dans un premier temps, l'interlocuteur aura plusieurs choix de réponses :\n",
    "\n",
    "+ Vrai\n",
    "+ Faux\n",
    "+ Ne sait pas\n",
    "\n",
    "Ici, dans notre approche déterministe, on la réponse \"Ne sait pas\" n'influe pas sur la convergence et donc, vulgairement dit, sur la probabilité de trouver notre animal final. Cette réponse changera simplement la question afin de continuer la convergence.\n",
    "\n",
    "\n",
    "\n",
    "On va maintenant définir toutes les fonctions qui serviront lors de nos algorithmes. On commence par définir une fonction qui en fonction de l'indice de la question et de la réponse, supprime les animaux qui ne nous intérressent plus."
   ]
  },
  {
   "cell_type": "code",
   "execution_count": 4,
   "metadata": {},
   "outputs": [],
   "source": [
    "def delete_tab(X, r, ind) :\n",
    "    col = X[:, ind+1]\n",
    "    ind_col_1 = np.where(col == 1)[0]                       # On cherche où se trouve les 1 et les 0\n",
    "    ind_col_0 = np.where(col == 0)[0]\n",
    "    if r == 1 :\n",
    "        X = np.delete(X, ind_col_0, 0)                      # Supprime les animaux qui ne nous intéresse pas\n",
    "    else :\n",
    "        X = np.delete(X, ind_col_1, 0)\n",
    "    return X"
   ]
  },
  {
   "cell_type": "markdown",
   "metadata": {},
   "source": [
    "## Questions aléatoires"
   ]
  },
  {
   "cell_type": "markdown",
   "metadata": {},
   "source": [
    "#### <font color ='green'> Importation des données </font>"
   ]
  },
  {
   "cell_type": "markdown",
   "metadata": {},
   "source": [
    "On commence par importer nos données et créer une copie, en effet, nous allons modifier le tableau pour chaque algorithme."
   ]
  },
  {
   "cell_type": "markdown",
   "metadata": {},
   "source": [
    " <div class=\"alert alert-warning\">\n",
    " Note : Delimiter à changer parfois pour des raisons obscures.. nous pensons que cela viens du fait que l'on utilise excel ou libroffice : \";\" pour excel , \",\" pour libroffice.\n",
    " </div>"
   ]
  },
  {
   "cell_type": "code",
   "execution_count": 5,
   "metadata": {},
   "outputs": [],
   "source": [
    "df = pd.read_csv('data_new.csv', delimiter = ';', encoding = \"latin1\")                   # Chargement du fichier CSV\n",
    "data = pd.DataFrame(df)                                                                  # Création du tableau pandas\n",
    "data = data.to_numpy()                                                                   # Conversion en tableau NumPy\n",
    "data_copy = data.copy()                                                                  # Copie du tableau de donnée"
   ]
  },
  {
   "cell_type": "markdown",
   "metadata": {},
   "source": [
    "Voici ici un aperçu de nos données, nous avons une base de donnée contenant des animaux et leurs caractéristiques physiques en binaire."
   ]
  },
  {
   "cell_type": "code",
   "execution_count": 6,
   "metadata": {},
   "outputs": [
    {
     "data": {
      "text/html": [
       "<div>\n",
       "<style scoped>\n",
       "    .dataframe tbody tr th:only-of-type {\n",
       "        vertical-align: middle;\n",
       "    }\n",
       "\n",
       "    .dataframe tbody tr th {\n",
       "        vertical-align: top;\n",
       "    }\n",
       "\n",
       "    .dataframe thead th {\n",
       "        text-align: right;\n",
       "    }\n",
       "</style>\n",
       "<table border=\"1\" class=\"dataframe\">\n",
       "  <thead>\n",
       "    <tr style=\"text-align: right;\">\n",
       "      <th></th>\n",
       "      <th>animal_name</th>\n",
       "      <th>fourrure épaisse</th>\n",
       "      <th>Troupeau ou groupe</th>\n",
       "      <th>charognard</th>\n",
       "      <th>queue rayée</th>\n",
       "      <th>griffes</th>\n",
       "      <th>desert</th>\n",
       "      <th>sang humain</th>\n",
       "      <th>nocturne</th>\n",
       "      <th>long cou</th>\n",
       "      <th>...</th>\n",
       "      <th>5_pattes</th>\n",
       "      <th>6_pattes</th>\n",
       "      <th>8_pattes</th>\n",
       "      <th>Mammifères</th>\n",
       "      <th>Oiseaux</th>\n",
       "      <th>Reptile</th>\n",
       "      <th>Poisson</th>\n",
       "      <th>Amphibien</th>\n",
       "      <th>Insecte</th>\n",
       "      <th>Invertébré</th>\n",
       "    </tr>\n",
       "  </thead>\n",
       "  <tbody>\n",
       "    <tr>\n",
       "      <th>0</th>\n",
       "      <td>Zèbre</td>\n",
       "      <td>0</td>\n",
       "      <td>1</td>\n",
       "      <td>0</td>\n",
       "      <td>1</td>\n",
       "      <td>0</td>\n",
       "      <td>0</td>\n",
       "      <td>0</td>\n",
       "      <td>0</td>\n",
       "      <td>0</td>\n",
       "      <td>...</td>\n",
       "      <td>0</td>\n",
       "      <td>0</td>\n",
       "      <td>0</td>\n",
       "      <td>1</td>\n",
       "      <td>0</td>\n",
       "      <td>0</td>\n",
       "      <td>0</td>\n",
       "      <td>0</td>\n",
       "      <td>0</td>\n",
       "      <td>0</td>\n",
       "    </tr>\n",
       "    <tr>\n",
       "      <th>1</th>\n",
       "      <td>Agneau</td>\n",
       "      <td>0</td>\n",
       "      <td>1</td>\n",
       "      <td>0</td>\n",
       "      <td>0</td>\n",
       "      <td>0</td>\n",
       "      <td>0</td>\n",
       "      <td>0</td>\n",
       "      <td>0</td>\n",
       "      <td>0</td>\n",
       "      <td>...</td>\n",
       "      <td>0</td>\n",
       "      <td>0</td>\n",
       "      <td>0</td>\n",
       "      <td>1</td>\n",
       "      <td>0</td>\n",
       "      <td>0</td>\n",
       "      <td>0</td>\n",
       "      <td>0</td>\n",
       "      <td>0</td>\n",
       "      <td>0</td>\n",
       "    </tr>\n",
       "    <tr>\n",
       "      <th>2</th>\n",
       "      <td>Souris</td>\n",
       "      <td>0</td>\n",
       "      <td>1</td>\n",
       "      <td>0</td>\n",
       "      <td>0</td>\n",
       "      <td>0</td>\n",
       "      <td>0</td>\n",
       "      <td>0</td>\n",
       "      <td>0</td>\n",
       "      <td>0</td>\n",
       "      <td>...</td>\n",
       "      <td>0</td>\n",
       "      <td>0</td>\n",
       "      <td>0</td>\n",
       "      <td>1</td>\n",
       "      <td>0</td>\n",
       "      <td>0</td>\n",
       "      <td>0</td>\n",
       "      <td>0</td>\n",
       "      <td>0</td>\n",
       "      <td>0</td>\n",
       "    </tr>\n",
       "    <tr>\n",
       "      <th>3</th>\n",
       "      <td>Rat</td>\n",
       "      <td>0</td>\n",
       "      <td>0</td>\n",
       "      <td>0</td>\n",
       "      <td>0</td>\n",
       "      <td>0</td>\n",
       "      <td>0</td>\n",
       "      <td>0</td>\n",
       "      <td>0</td>\n",
       "      <td>0</td>\n",
       "      <td>...</td>\n",
       "      <td>0</td>\n",
       "      <td>0</td>\n",
       "      <td>0</td>\n",
       "      <td>1</td>\n",
       "      <td>0</td>\n",
       "      <td>0</td>\n",
       "      <td>0</td>\n",
       "      <td>0</td>\n",
       "      <td>0</td>\n",
       "      <td>0</td>\n",
       "    </tr>\n",
       "    <tr>\n",
       "      <th>4</th>\n",
       "      <td>Singe</td>\n",
       "      <td>0</td>\n",
       "      <td>1</td>\n",
       "      <td>0</td>\n",
       "      <td>0</td>\n",
       "      <td>0</td>\n",
       "      <td>0</td>\n",
       "      <td>0</td>\n",
       "      <td>0</td>\n",
       "      <td>0</td>\n",
       "      <td>...</td>\n",
       "      <td>0</td>\n",
       "      <td>0</td>\n",
       "      <td>0</td>\n",
       "      <td>1</td>\n",
       "      <td>0</td>\n",
       "      <td>0</td>\n",
       "      <td>0</td>\n",
       "      <td>0</td>\n",
       "      <td>0</td>\n",
       "      <td>0</td>\n",
       "    </tr>\n",
       "  </tbody>\n",
       "</table>\n",
       "<p>5 rows × 50 columns</p>\n",
       "</div>"
      ],
      "text/plain": [
       "  animal_name  fourrure épaisse  Troupeau ou groupe  charognard  queue rayée  \\\n",
       "0       Zèbre                 0                   1           0            1   \n",
       "1      Agneau                 0                   1           0            0   \n",
       "2      Souris                 0                   1           0            0   \n",
       "3         Rat                 0                   0           0            0   \n",
       "4       Singe                 0                   1           0            0   \n",
       "\n",
       "   griffes  desert  sang humain  nocturne  long cou  ...  5_pattes  6_pattes  \\\n",
       "0        0       0            0         0         0  ...         0         0   \n",
       "1        0       0            0         0         0  ...         0         0   \n",
       "2        0       0            0         0         0  ...         0         0   \n",
       "3        0       0            0         0         0  ...         0         0   \n",
       "4        0       0            0         0         0  ...         0         0   \n",
       "\n",
       "   8_pattes  Mammifères  Oiseaux  Reptile  Poisson  Amphibien  Insecte  \\\n",
       "0         0           1        0        0        0          0        0   \n",
       "1         0           1        0        0        0          0        0   \n",
       "2         0           1        0        0        0          0        0   \n",
       "3         0           1        0        0        0          0        0   \n",
       "4         0           1        0        0        0          0        0   \n",
       "\n",
       "   Invertébré  \n",
       "0           0  \n",
       "1           0  \n",
       "2           0  \n",
       "3           0  \n",
       "4           0  \n",
       "\n",
       "[5 rows x 50 columns]"
      ]
     },
     "execution_count": 6,
     "metadata": {},
     "output_type": "execute_result"
    }
   ],
   "source": [
    "df.head()"
   ]
  },
  {
   "cell_type": "markdown",
   "metadata": {},
   "source": [
    "On commence par préparer la liste de question aléatoire contenant les indices des questions que l'on posera."
   ]
  },
  {
   "cell_type": "code",
   "execution_count": 7,
   "metadata": {},
   "outputs": [
    {
     "name": "stdout",
     "output_type": "stream",
     "text": [
      "On posera les questions dans cet ordre : [21, 25, 16, 27, 38, 23, 0, 7, 13, 40, 9, 19, 14, 31, 1, 29, 37, 17, 43, 35, 28, 24, 42, 18, 46, 41, 47, 48, 12, 45, 20, 34, 15, 3, 11, 33, 6, 44, 2, 26, 5, 39, 8, 32, 10, 4, 36, 30, 22]\n"
     ]
    }
   ],
   "source": [
    "A = np.arange(len(questions))\n",
    "A = A.tolist()\n",
    "random.shuffle(A)                                                    # Mélange la liste d'indice\n",
    "print(\"On posera les questions dans cet ordre : {}\".format(A))"
   ]
  },
  {
   "cell_type": "code",
   "execution_count": 8,
   "metadata": {},
   "outputs": [
    {
     "name": "stdout",
     "output_type": "stream",
     "text": [
      "La liste contient 162 animaux.\n"
     ]
    }
   ],
   "source": [
    "print(\"La liste contient {} animaux.\".format(data.shape[0]))"
   ]
  },
  {
   "cell_type": "markdown",
   "metadata": {},
   "source": [
    "Dans cet algorithme, nous disposons de 3 réponses différentes à chaque question, on a :"
   ]
  },
  {
   "cell_type": "code",
   "execution_count": 9,
   "metadata": {},
   "outputs": [
    {
     "name": "stdout",
     "output_type": "stream",
     "text": [
      "\n",
      "Différentes réponses possibles : \n",
      "\n",
      "Si la réponse est oui, entrez 1\n",
      "Si la réponse est non, entrez 0\n",
      "Si vous ne connaissez pas la réponse, entrez 3\n"
     ]
    }
   ],
   "source": [
    "print(\"\\n Différentes réponses possibles : \")\n",
    "print(\"\\n Si la réponse est oui, entrez 1.\")\n",
    "print(\"Si la réponse est non, entrez 0.\")\n",
    "print(\"Si vous ne connaissez pas la réponse, entrez 3.\")"
   ]
  },
  {
   "cell_type": "markdown",
   "metadata": {},
   "source": [
    "On commence par définir une fonction qui traitera les données en fonction de la réponse de l'éxecuteur du programme. Si la réponse est vrai ou faux (1 ou 0 respectivement dans l'algorithme), alors il éliminera les choix qui ne nous concernent plus."
   ]
  },
  {
   "cell_type": "code",
   "execution_count": 10,
   "metadata": {},
   "outputs": [],
   "source": [
    "def choix_rep(X, r, ind_question, inf) :\n",
    "    if r == 1 or r == 0 :\n",
    "        X = delete_tab(X, r, ind_question[0])                           # Elimine les mauvais choix\n",
    "    else :\n",
    "        print(\"Nous n'avons pas compris votre réponse.\")\n",
    "        inf = False\n",
    "    return X, inf"
   ]
  },
  {
   "cell_type": "markdown",
   "metadata": {},
   "source": [
    "On créer maintenant une fonction qui nous permettra d'arrêter l'algorithme sous certaines conditions. En effet, si celui-ci a retiré tous les animaux de sa liste, alors on arrête de processus. Quand nous verrons d'autres méthodes, nous pourrons rajouter d'autres conditions d'arrêts."
   ]
  },
  {
   "cell_type": "code",
   "execution_count": 11,
   "metadata": {},
   "outputs": [],
   "source": [
    "def condition_arret_alea(X, inf) :\n",
    "    if X.shape[0] == 0 :                                           # Si on a plus d'animaux dans la liste, on arrête le processus\n",
    "        print()\n",
    "        print(\"Erreur, nous n'avons pas pu trouver votre animal.\")\n",
    "        inf = False\n",
    "        return inf\n",
    "    else :\n",
    "        inf = True\n",
    "        return inf"
   ]
  },
  {
   "cell_type": "markdown",
   "metadata": {},
   "source": [
    "On pourra maintenant définir une fonction qui posera les questions à l'éxecuteur du programme et qui renverra la réponse."
   ]
  },
  {
   "cell_type": "code",
   "execution_count": 12,
   "metadata": {},
   "outputs": [],
   "source": [
    "def ask_question_alea(ind) :\n",
    "    rep = int(input(questions[A[ind]]))                                         # Pose la question à l'éxecuteur du programme\n",
    "    return rep"
   ]
  },
  {
   "cell_type": "markdown",
   "metadata": {},
   "source": [
    "Après avoir défini ces trois fonctions, on pourra maintenant passer à la boucle principale qui élimine différents choix au tour par tour. Notre boucle est composé de 3 parties différentes, une qui pose la question et récupère la réponse, la suivante qui traite les données en fonction de la réponse et enfin la dernière qui regarde s'il faut continuer ou s'arrêter. A la fin, on affiche le nombre d'itération nécéssaire pour converger vers la réponse ainsi que la ou les réponses trouvées. Si la réponse est 3, cela signifie que l'on ne connaît pas la réponse à la question, l'algorithme en posera donc une autre sans changer les données à cet instant. En effet, la création de cette réponse vient du fait que pour certains animaux, la réponse n'est pas \"évidente\". On souhaite que l'interlocuteur ne soit pas bloqué s'il ne connaît pas la réponse à une question ou s'il n'en est pas sur."
   ]
  },
  {
   "cell_type": "code",
   "execution_count": 13,
   "metadata": {},
   "outputs": [],
   "source": [
    "def Akinator_alea(X) :\n",
    "    data_shape_alea = [X.shape[0]]\n",
    "    data_tab_alea = [X]\n",
    "    rep_ind_alea = np.zeros((2, len(questions)))                  # tableau contenant les réponses ainsi que les indices des questions posées\n",
    "    inf = True\n",
    "    i = 1\n",
    "    i_dont_know_alea = 0\n",
    "    while inf == True :\n",
    "        if i < len(A) and len(X[:, 0]) != 1 :\n",
    "            print()\n",
    "            \n",
    "            ### Pose la question et récupère la réponse\n",
    "            \n",
    "            rep = ask_question_alea(i)\n",
    "            rep_ind_alea[0, i] = rep\n",
    "            rep_ind_alea[1, i] = A[i]\n",
    "            \n",
    "            if rep == 3 :\n",
    "                pass\n",
    "            else :\n",
    "            \n",
    "                ### Traitement du tableau en fonction de la réponse donnée\n",
    "            \n",
    "                X, inf = choix_rep(X, rep, [A[i]], inf)\n",
    "            \n",
    "            data_shape_alea.append(X.shape[0])\n",
    "            print(X.shape)\n",
    "            print()\n",
    "            data_tab_alea.append(X)\n",
    "            \n",
    "            ### Conditions d'arrêts de l'algorithme\n",
    "            \n",
    "            inf = condition_arret_alea(X, inf)\n",
    "            \n",
    "            i += 1\n",
    "        else :\n",
    "            print(\"Convergence après {} itérations\".format(i))\n",
    "            print()\n",
    "            print(\"Voici le résultat : {}\".format(X[:, 0]))\n",
    "            inf = False\n",
    "    return X, data_shape_alea, rep_ind_alea"
   ]
  },
  {
   "cell_type": "markdown",
   "metadata": {},
   "source": [
    "Il ne reste plus qu'à appeler notre fonction et à répondre correctement aux questions."
   ]
  },
  {
   "cell_type": "code",
   "execution_count": 14,
   "metadata": {},
   "outputs": [
    {
     "name": "stdout",
     "output_type": "stream",
     "text": [
      "\n"
     ]
    },
    {
     "name": "stdin",
     "output_type": "stream",
     "text": [
      "Votre animal produit-il du lait ?  1\n"
     ]
    },
    {
     "name": "stdout",
     "output_type": "stream",
     "text": [
      "(73, 50)\n",
      "\n",
      "\n"
     ]
    },
    {
     "name": "stdin",
     "output_type": "stream",
     "text": [
      "Votre animal peut-il vivre dans la forêt ? 0\n"
     ]
    },
    {
     "name": "stdout",
     "output_type": "stream",
     "text": [
      "(58, 50)\n",
      "\n",
      "\n"
     ]
    },
    {
     "name": "stdin",
     "output_type": "stream",
     "text": [
      "Votre animal est-il aquatique ?  0\n"
     ]
    },
    {
     "name": "stdout",
     "output_type": "stream",
     "text": [
      "(47, 50)\n",
      "\n",
      "\n"
     ]
    },
    {
     "name": "stdin",
     "output_type": "stream",
     "text": [
      "Votre animal a-t-il 4 pattes ?  1\n"
     ]
    },
    {
     "name": "stdout",
     "output_type": "stream",
     "text": [
      "(46, 50)\n",
      "\n",
      "\n"
     ]
    },
    {
     "name": "stdin",
     "output_type": "stream",
     "text": [
      "Votre animal a-t-il des plumes ?  0\n"
     ]
    },
    {
     "name": "stdout",
     "output_type": "stream",
     "text": [
      "(46, 50)\n",
      "\n",
      "\n"
     ]
    },
    {
     "name": "stdin",
     "output_type": "stream",
     "text": [
      "Votre animal possède-t-il une épaisse fourrure ? 3\n"
     ]
    },
    {
     "name": "stdout",
     "output_type": "stream",
     "text": [
      "(46, 50)\n",
      "\n",
      "\n"
     ]
    },
    {
     "name": "stdin",
     "output_type": "stream",
     "text": [
      "Votre animal est-il nocturne ? 0\n"
     ]
    },
    {
     "name": "stdout",
     "output_type": "stream",
     "text": [
      "(46, 50)\n",
      "\n",
      "\n"
     ]
    },
    {
     "name": "stdin",
     "output_type": "stream",
     "text": [
      " Votre animal se trouve-t-il abondement en ville ?   0\n"
     ]
    },
    {
     "name": "stdout",
     "output_type": "stream",
     "text": [
      "(41, 50)\n",
      "\n",
      "\n"
     ]
    },
    {
     "name": "stdin",
     "output_type": "stream",
     "text": [
      "Votre animal a-t-il 6 pattes ?  0\n"
     ]
    },
    {
     "name": "stdout",
     "output_type": "stream",
     "text": [
      "(41, 50)\n",
      "\n",
      "\n"
     ]
    },
    {
     "name": "stdin",
     "output_type": "stream",
     "text": [
      "Votre animal possède-t-il des défenses ? 0\n"
     ]
    },
    {
     "name": "stdout",
     "output_type": "stream",
     "text": [
      "(39, 50)\n",
      "\n",
      "\n"
     ]
    },
    {
     "name": "stdin",
     "output_type": "stream",
     "text": [
      "Votre animal est-il un félin ? 1\n"
     ]
    },
    {
     "name": "stdout",
     "output_type": "stream",
     "text": [
      "(9, 50)\n",
      "\n",
      "\n"
     ]
    },
    {
     "name": "stdin",
     "output_type": "stream",
     "text": [
      "Votre animal est-il comestible dans la coutume Européenne ? 0\n"
     ]
    },
    {
     "name": "stdout",
     "output_type": "stream",
     "text": [
      "(9, 50)\n",
      "\n",
      "\n"
     ]
    },
    {
     "name": "stdin",
     "output_type": "stream",
     "text": [
      "Votre animal possède-t-il des poumons ?  1\n"
     ]
    },
    {
     "name": "stdout",
     "output_type": "stream",
     "text": [
      "(9, 50)\n",
      "\n",
      "\n"
     ]
    },
    {
     "name": "stdin",
     "output_type": "stream",
     "text": [
      "Votre animal vit-il en troupeau ou en groupe ? 0\n"
     ]
    },
    {
     "name": "stdout",
     "output_type": "stream",
     "text": [
      "(7, 50)\n",
      "\n",
      "\n"
     ]
    },
    {
     "name": "stdin",
     "output_type": "stream",
     "text": [
      "Votre animal possède-t-il des dents ?  1\n"
     ]
    },
    {
     "name": "stdout",
     "output_type": "stream",
     "text": [
      "(7, 50)\n",
      "\n",
      "\n"
     ]
    },
    {
     "name": "stdin",
     "output_type": "stream",
     "text": [
      "Votre animal a-t-il 2 pattes ?  0\n"
     ]
    },
    {
     "name": "stdout",
     "output_type": "stream",
     "text": [
      "(7, 50)\n",
      "\n",
      "\n"
     ]
    },
    {
     "name": "stdin",
     "output_type": "stream",
     "text": [
      "Votre animal peut-il vivre dans la jungle ? 1\n"
     ]
    },
    {
     "name": "stdout",
     "output_type": "stream",
     "text": [
      "(3, 50)\n",
      "\n",
      "\n"
     ]
    },
    {
     "name": "stdin",
     "output_type": "stream",
     "text": [
      "Votre animal est-il un oiseau ?  0\n"
     ]
    },
    {
     "name": "stdout",
     "output_type": "stream",
     "text": [
      "(3, 50)\n",
      "\n",
      "\n"
     ]
    },
    {
     "name": "stdin",
     "output_type": "stream",
     "text": [
      "Votre animal est il un animal domestique ?  0\n"
     ]
    },
    {
     "name": "stdout",
     "output_type": "stream",
     "text": [
      "(3, 50)\n",
      "\n",
      "\n"
     ]
    },
    {
     "name": "stdin",
     "output_type": "stream",
     "text": [
      "Votre animal chasse-t-il sa nourriture ?  1\n"
     ]
    },
    {
     "name": "stdout",
     "output_type": "stream",
     "text": [
      "(3, 50)\n",
      "\n",
      "\n"
     ]
    },
    {
     "name": "stdin",
     "output_type": "stream",
     "text": [
      "Votre animal pond-t-il des oeufs ?  0\n"
     ]
    },
    {
     "name": "stdout",
     "output_type": "stream",
     "text": [
      "(3, 50)\n",
      "\n",
      "\n"
     ]
    },
    {
     "name": "stdin",
     "output_type": "stream",
     "text": [
      "Votre animal est-il un mammifère ?  1\n"
     ]
    },
    {
     "name": "stdout",
     "output_type": "stream",
     "text": [
      "(3, 50)\n",
      "\n",
      "\n"
     ]
    },
    {
     "name": "stdin",
     "output_type": "stream",
     "text": [
      "Votre animal est-il un canidé ? 0\n"
     ]
    },
    {
     "name": "stdout",
     "output_type": "stream",
     "text": [
      "(3, 50)\n",
      "\n",
      "\n"
     ]
    },
    {
     "name": "stdin",
     "output_type": "stream",
     "text": [
      "Votre animal est-il un amphibien ?  0\n"
     ]
    },
    {
     "name": "stdout",
     "output_type": "stream",
     "text": [
      "(3, 50)\n",
      "\n",
      "\n"
     ]
    },
    {
     "name": "stdin",
     "output_type": "stream",
     "text": [
      "Votre animal a-t-il 8 pattes ?  0\n"
     ]
    },
    {
     "name": "stdout",
     "output_type": "stream",
     "text": [
      "(3, 50)\n",
      "\n",
      "\n"
     ]
    },
    {
     "name": "stdin",
     "output_type": "stream",
     "text": [
      "Votre animal est-il un insecte ?  0\n"
     ]
    },
    {
     "name": "stdout",
     "output_type": "stream",
     "text": [
      "(3, 50)\n",
      "\n",
      "\n"
     ]
    },
    {
     "name": "stdin",
     "output_type": "stream",
     "text": [
      "Votre animal est-il un invertébré ?  0\n"
     ]
    },
    {
     "name": "stdout",
     "output_type": "stream",
     "text": [
      "(3, 50)\n",
      "\n",
      "\n"
     ]
    },
    {
     "name": "stdin",
     "output_type": "stream",
     "text": [
      "Votre animal est-il le petit de son espèce ?  0\n"
     ]
    },
    {
     "name": "stdout",
     "output_type": "stream",
     "text": [
      "(3, 50)\n",
      "\n",
      "\n"
     ]
    },
    {
     "name": "stdin",
     "output_type": "stream",
     "text": [
      "Votre animal est-il un poisson ?  0\n"
     ]
    },
    {
     "name": "stdout",
     "output_type": "stream",
     "text": [
      "(3, 50)\n",
      "\n",
      "\n"
     ]
    },
    {
     "name": "stdin",
     "output_type": "stream",
     "text": [
      "Votre animal provient-il de la savane africaine ? 0\n"
     ]
    },
    {
     "name": "stdout",
     "output_type": "stream",
     "text": [
      "(3, 50)\n",
      "\n",
      "\n"
     ]
    },
    {
     "name": "stdin",
     "output_type": "stream",
     "text": [
      "Votre animal possède-t-il une queue ?  1\n"
     ]
    },
    {
     "name": "stdout",
     "output_type": "stream",
     "text": [
      "(3, 50)\n",
      "\n",
      "\n"
     ]
    },
    {
     "name": "stdin",
     "output_type": "stream",
     "text": [
      "Votre animal vit-il à proximité d’une source aquatique ? 0\n"
     ]
    },
    {
     "name": "stdout",
     "output_type": "stream",
     "text": [
      "(3, 50)\n",
      "\n",
      "\n"
     ]
    },
    {
     "name": "stdin",
     "output_type": "stream",
     "text": [
      "Votre animal possède-t-il une queue rayée ? 3\n"
     ]
    },
    {
     "name": "stdout",
     "output_type": "stream",
     "text": [
      "(3, 50)\n",
      "\n",
      "\n"
     ]
    },
    {
     "name": "stdin",
     "output_type": "stream",
     "text": [
      "Votre animal tiendrait-il, dans son entièreté dans le creux de votre de main ? 0\n"
     ]
    },
    {
     "name": "stdout",
     "output_type": "stream",
     "text": [
      "(3, 50)\n",
      "\n",
      "\n"
     ]
    },
    {
     "name": "stdin",
     "output_type": "stream",
     "text": [
      "Votre animal possède-t-il des nageoires ?  0\n"
     ]
    },
    {
     "name": "stdout",
     "output_type": "stream",
     "text": [
      "(3, 50)\n",
      "\n",
      "\n"
     ]
    },
    {
     "name": "stdin",
     "output_type": "stream",
     "text": [
      "Votre animal se nourrit-il de sang humain ? 0\n"
     ]
    },
    {
     "name": "stdout",
     "output_type": "stream",
     "text": [
      "(3, 50)\n",
      "\n",
      "\n"
     ]
    },
    {
     "name": "stdin",
     "output_type": "stream",
     "text": [
      "Votre animal est-il un reptile ?  0\n"
     ]
    },
    {
     "name": "stdout",
     "output_type": "stream",
     "text": [
      "(3, 50)\n",
      "\n",
      "\n"
     ]
    },
    {
     "name": "stdin",
     "output_type": "stream",
     "text": [
      "Votre animal est-il un charognard ? 0\n"
     ]
    },
    {
     "name": "stdout",
     "output_type": "stream",
     "text": [
      "(3, 50)\n",
      "\n",
      "\n"
     ]
    },
    {
     "name": "stdin",
     "output_type": "stream",
     "text": [
      "Votre animal peut-il voler ?  0\n"
     ]
    },
    {
     "name": "stdout",
     "output_type": "stream",
     "text": [
      "(3, 50)\n",
      "\n",
      "\n"
     ]
    },
    {
     "name": "stdin",
     "output_type": "stream",
     "text": [
      "Retrouve-t-on votre animal dans le désert ? 0\n"
     ]
    },
    {
     "name": "stdout",
     "output_type": "stream",
     "text": [
      "(3, 50)\n",
      "\n",
      "\n"
     ]
    },
    {
     "name": "stdin",
     "output_type": "stream",
     "text": [
      "Votre animal a-t-il 5 pattes ?  0\n"
     ]
    },
    {
     "name": "stdout",
     "output_type": "stream",
     "text": [
      "(3, 50)\n",
      "\n",
      "\n"
     ]
    },
    {
     "name": "stdin",
     "output_type": "stream",
     "text": [
      "Votre animal possède-t-il relativement un long cou ? 0\n"
     ]
    },
    {
     "name": "stdout",
     "output_type": "stream",
     "text": [
      "(3, 50)\n",
      "\n",
      "\n"
     ]
    },
    {
     "name": "stdin",
     "output_type": "stream",
     "text": [
      "Votre animal est-il venimeux ?  0\n"
     ]
    },
    {
     "name": "stdout",
     "output_type": "stream",
     "text": [
      "(3, 50)\n",
      "\n",
      "\n"
     ]
    },
    {
     "name": "stdin",
     "output_type": "stream",
     "text": [
      "Votre animal possède-t-il des cornes ? 0\n"
     ]
    },
    {
     "name": "stdout",
     "output_type": "stream",
     "text": [
      "(3, 50)\n",
      "\n",
      "\n"
     ]
    },
    {
     "name": "stdin",
     "output_type": "stream",
     "text": [
      "Votre animal possède-t-il de longues griffes acérées ? 1\n"
     ]
    },
    {
     "name": "stdout",
     "output_type": "stream",
     "text": [
      "(2, 50)\n",
      "\n",
      "\n"
     ]
    },
    {
     "name": "stdin",
     "output_type": "stream",
     "text": [
      "Votre animal possède-il 0 pattes ?  0\n"
     ]
    },
    {
     "name": "stdout",
     "output_type": "stream",
     "text": [
      "(2, 50)\n",
      "\n",
      "\n"
     ]
    },
    {
     "name": "stdin",
     "output_type": "stream",
     "text": [
      "Votre animal possède-t-il une colonne vertébrale ?  1\n"
     ]
    },
    {
     "name": "stdout",
     "output_type": "stream",
     "text": [
      "(2, 50)\n",
      "\n",
      "\n"
     ]
    },
    {
     "name": "stdin",
     "output_type": "stream",
     "text": [
      "Votre animal a-t-il des poils ?  1\n"
     ]
    },
    {
     "name": "stdout",
     "output_type": "stream",
     "text": [
      "(2, 50)\n",
      "\n",
      "Convergence après 49 itérations\n",
      "\n",
      "Voici le résultat : ['Tigre' 'Puma']\n"
     ]
    }
   ],
   "source": [
    "X_final_alea, X_shape_alea, tab_ind_alea = Akinator_alea(data)"
   ]
  },
  {
   "cell_type": "markdown",
   "metadata": {},
   "source": [
    "On observe que l'on converge vers un animal ou une petite liste d'animaux au bout d'un certains nombre de questions posées. Ce nombre peut être réduit par la méthode que l'on verra dans la second partie. La méthode aléatoire fonctionne, mais n'est pas optimale, elle posera beaucoup trop de question inutile à la convergence ce qui augmente les chances de se tromper à certaines questions. De plus, nous avons répondu \"Ne sait pas\" à l'une des questions, ce qui fait que l'algorithme n'a pas pu différencier le tigre du puma (dans notre cas). Evidemment, si l'on avait répondu correctement à cette question, l'algorithme aurait trouvé le tigre comme réponse finale."
   ]
  },
  {
   "cell_type": "markdown",
   "metadata": {},
   "source": [
    "## Questions dirigées"
   ]
  },
  {
   "cell_type": "markdown",
   "metadata": {},
   "source": [
    "Après réflexion, nous avons pensé qu'une manière de réduire le nombre de question est de diriger ces dernières en fonction des réponses précédentes. Pour cela, nous avons établi une méthode dite de \"minimisation de la différence\". Ce terme vient du fait que l'on pose la question qui minimise la différence entre le nombre de vrai et de faux. Cette méthode va nous permettre de poser la question qui à chaque tour élimine le plus d'animaux possible quelque soit la réponse. En effet, la nuance réside dans le fait que cette méthode ne pose pas la question qui supprime le plus d'animaux à chaque tour selon un choix que l'on ne connait pas, mais celle qui, quelque soit la réponse, supprimera un nombre non négligeable de choix. Ceci est le meilleur compromis que l'on puisse faire sans connaître la réponse du joueur."
   ]
  },
  {
   "cell_type": "markdown",
   "metadata": {},
   "source": [
    "#### <font color ='green'> Importation des données </font>"
   ]
  },
  {
   "cell_type": "code",
   "execution_count": 15,
   "metadata": {},
   "outputs": [
    {
     "name": "stdout",
     "output_type": "stream",
     "text": [
      "Taille du tableau de données : (162, 50)\n"
     ]
    }
   ],
   "source": [
    "df = pd.read_csv('data_new.csv', delimiter = ';', encoding = \"latin1\")\n",
    "data = pd.DataFrame(df)\n",
    "data = data.to_numpy()\n",
    "data_copy = data.copy()\n",
    "print(\"Taille du tableau de données : {}\".format(data.shape))"
   ]
  },
  {
   "cell_type": "markdown",
   "metadata": {},
   "source": [
    "Pour cette méthode, on ajoute une option de réponse : si jamais l'utilisateur s'est trompé de réponse à la question précédente, il pourra taper le chiffre 4 afin de revenir à cette dernière. Cependant, il ne faut pas répondre deux fois d'affilée le chiffre 4, on ne pourra pas revenir deux tableaux en arrière."
   ]
  },
  {
   "cell_type": "code",
   "execution_count": 17,
   "metadata": {},
   "outputs": [
    {
     "name": "stdout",
     "output_type": "stream",
     "text": [
      "Différentes réponses possibles : \n",
      "\n",
      "Si la réponse est oui, entrez 1\n",
      "Si la réponse est non, entrez 0\n",
      "Si vous ne connaissez pas la réponse, entrez 3\n",
      "Si vous voulez revenir en arrière, entrez 4\n"
     ]
    }
   ],
   "source": [
    "print(\"Différentes réponses possibles : \")\n",
    "print()\n",
    "print(\"Si la réponse est oui, entrez 1\")\n",
    "print(\"Si la réponse est non, entrez 0\")\n",
    "print(\"Si vous ne connaissez pas la réponse, entrez 3\")\n",
    "print(\"Si vous voulez revenir en arrière, entrez 4\")"
   ]
  },
  {
   "cell_type": "markdown",
   "metadata": {},
   "source": [
    "On pourra utiliser la même fonction \"choix_rep\" que précédemment. On ajoutera en plus une option permettant de revenir en arrière dans nos choix."
   ]
  },
  {
   "cell_type": "markdown",
   "metadata": {},
   "source": [
    "Par ailleurs, nous avons la même condition d'arrêt que dans la partie \"Questions aléatoires\", cependant nous allons en rajouter une. En effet, cet algorithme devrait normalement converger plus vite que le précédent, ce qui nous obligerait à arrêter le processus si la convergence maximale est atteinte avant la fin des questions. Ici, nous avons rajouté le fait que si sur 3 itérations, le nombre d'animaux n'a pas diminué, on considère que la convergence est faite, on peut donc arrêter le processus."
   ]
  },
  {
   "cell_type": "code",
   "execution_count": 18,
   "metadata": {},
   "outputs": [],
   "source": [
    "def condition_arret_bis(X, ind, inf, ds) :\n",
    "    if X.shape[0] == 0 :                                                                            # Condition qui arrête le programme si il ne reste plus d'animaux\n",
    "        print()\n",
    "        print(\"Erreur, nous n'avons pas pu trouver votre animal.\")\n",
    "        inf = False\n",
    "        return inf\n",
    "\n",
    "    if ds[ind] - ds[ind - 1] == 0 and ds[ind] - ds[ind - 2] == 0 and ds[ind] - ds[ind - 3] == 0:    # Condition qui arrête la boucle si l'algorithme ne converge plus\n",
    "        print()\n",
    "        print(\"On ne peut pas différencier ces animaux.\")\n",
    "        print()\n",
    "        print(X[:, 0])\n",
    "        print()\n",
    "        print(\"Convergence après {} itérations.\".format(ind-2))\n",
    "        inf = False\n",
    "        return inf\n",
    "    else :\n",
    "        inf = True\n",
    "        return inf"
   ]
  },
  {
   "cell_type": "markdown",
   "metadata": {},
   "source": [
    "Définition une fonction qui pose la question à notre interlocuteur et qui en retourne la réponse de ce dernier :"
   ]
  },
  {
   "cell_type": "code",
   "execution_count": 19,
   "metadata": {},
   "outputs": [],
   "source": [
    "def ask_question_dirige(indice_question) :\n",
    "    rep = int(input(questions[indice_question]))                                         # Pose la question à l'éxecuteur du programme\n",
    "    return rep"
   ]
  },
  {
   "cell_type": "markdown",
   "metadata": {},
   "source": [
    "Afin de calculer l'indice de la question, il nous faut une fonction qui calcule le nombre de 1 et de 0 dans chaque colonne de notre base de donnée. Ceci nous permettra de choisir la question qui minimisera la différence des deux."
   ]
  },
  {
   "cell_type": "code",
   "execution_count": 20,
   "metadata": {},
   "outputs": [],
   "source": [
    "def count(X) :\n",
    "    X = X[:, 1:]\n",
    "    nb_col = np.zeros((2, len(X[0])))\n",
    "    for i in range(len(X[0])) :\n",
    "        ind_1 = np.where(X[:, i] == 1)                        # Index des 0 et des 1 pour chaque colonne\n",
    "        ind_0 = np.where(X[:, i] == 0)\n",
    "        nb_col[0, i] = len(ind_0[0])                          # Compte le nombre d'occurence de 0 et de 1\n",
    "        nb_col[1, i] = len(ind_1[0])\n",
    "    return nb_col"
   ]
  },
  {
   "cell_type": "markdown",
   "metadata": {},
   "source": [
    "Passons à la boucle principale de notre méthode, qui serait en quelque sorte le cerveau d'akinator. Elle est identique à la première méthode sauf dans le choix de la question posée. Avant, les questions étaient posées aléatoirement, maintenant elles sont dirigées vers la question qui éliminera le plus d'animaux à chaque tour."
   ]
  },
  {
   "cell_type": "markdown",
   "metadata": {},
   "source": [
    "On commence par définir les tableaux qui nous serviront à faire nos sauvegardes à chaque itérations. Ensuite, dans notre boucle principale, on voit que l'on a l'option \"ne sait pas\" (comme précédemment) ainsi qu'une option de retour en arrière. En effet, il se peut qu'une mauvaise manipulation entraîne une erreur dans la réponse. On souhaite donc que l'interlocuteur n'ait pas à relancer l'algorithme s'il se trompe."
   ]
  },
  {
   "cell_type": "markdown",
   "metadata": {},
   "source": [
    " <div class=\"alert alert-warning\">\n",
    " Attention : On ne peut revenir en arrière qu'une fois à la suite : si l'on se trompe deux fois d'affilée dans la réponse, il faudra relancer l'algorithme.\n",
    " </div>"
   ]
  },
  {
   "cell_type": "code",
   "execution_count": 21,
   "metadata": {},
   "outputs": [],
   "source": [
    "def Akinator_dirige(X) :\n",
    "    A = np.arange(len(questions))\n",
    "    data_shape = np.zeros(len(questions))\n",
    "    data_shape = [X.shape[0]]\n",
    "    data_tab = [X]\n",
    "    indice = []\n",
    "    indice_dont_know = []\n",
    "    rep_ind = np.zeros((2, len(questions)))\n",
    "    inf = True\n",
    "    i = 0\n",
    "    i_dont_know = 0\n",
    "    while inf == True :\n",
    "        if i < len(A) and len(X[:, 0]) != 1 :\n",
    "            print()\n",
    "            tab = count(X)                                                       # Compte le nombre de 1 et 0 pour chaque caractéristique physique\n",
    "            diff_tab = abs(tab[0] - tab[1])                                      # Fait la différence des deux\n",
    "            diff_tab[indice_dont_know] = np.nan\n",
    "            ind_question = np.where(diff_tab == min(diff_tab))[0]                # Recherche de la question la plus optimale à poser\n",
    "            indice.append(ind_question[0])                                       # Sauvegarde de l'indice de la question\n",
    "                \n",
    "            rep = ask_question_dirige(indice[-1])\n",
    "            \n",
    "            rep_ind[0, i] = rep\n",
    "            rep_ind[1, i] = indice[-1]\n",
    "            \n",
    "            if rep == 3 :                                                         # Si on ne sait pas la réponse, sauvegarde l'indice de la question\n",
    "                indice_dont_know.append(indice[-1])\n",
    "            elif rep == 4 :\n",
    "                X = data_tab[i-1]\n",
    "            else :\n",
    "                ### Traitement du tableau en fonction de la réponse donnée\n",
    "\n",
    "                X, inf = choix_rep(X, rep, [ind_question[0]], inf)\n",
    "\n",
    "            data_shape.append(X.shape[0])                                         # Sauvegarde le nombre d'animaux restant à chaques tours\n",
    "            print(\"Vos données ont une dimension de {}\".format(X.shape))\n",
    "            data_tab.append(X)                                                    # Sauvegarde le tableau de données modifiées à chaques tours\n",
    "\n",
    "\n",
    "            ### Conditions d'arrêts de l'algorithme\n",
    "\n",
    "            inf = condition_arret_bis(X, i, inf, data_shape)                   # Condition d'arrêt de la boucle\n",
    "\n",
    "            i += 1\n",
    "        else :\n",
    "            rep_ind = np.delete(rep_ind, np.arange(i, len(questions)), 1)\n",
    "            print(\"Convergence après {} itérations.\".format(i))                   # Affiche le nombre d'itération pour atteindre la convergence\n",
    "            print(\"\\n Voici le résultat : {}\".format(X[:, 0]))                       # Affiche les solutions\n",
    "            inf = False\n",
    "    return X, data_shape, rep_ind"
   ]
  },
  {
   "cell_type": "code",
   "execution_count": 22,
   "metadata": {},
   "outputs": [
    {
     "name": "stdout",
     "output_type": "stream",
     "text": [
      "\n"
     ]
    },
    {
     "name": "stdin",
     "output_type": "stream",
     "text": [
      "Votre animal pond-t-il des oeufs ?  0\n"
     ]
    },
    {
     "name": "stdout",
     "output_type": "stream",
     "text": [
      "Vos données ont une dimension de (81, 50)\n",
      "\n"
     ]
    },
    {
     "name": "stdin",
     "output_type": "stream",
     "text": [
      "Votre animal chasse-t-il sa nourriture ?  0\n"
     ]
    },
    {
     "name": "stdout",
     "output_type": "stream",
     "text": [
      "Vos données ont une dimension de (47, 50)\n",
      "\n"
     ]
    },
    {
     "name": "stdin",
     "output_type": "stream",
     "text": [
      "Votre animal vit-il en troupeau ou en groupe ? 4\n"
     ]
    },
    {
     "name": "stdout",
     "output_type": "stream",
     "text": [
      "Vos données ont une dimension de (81, 50)\n",
      "\n"
     ]
    },
    {
     "name": "stdin",
     "output_type": "stream",
     "text": [
      "Votre animal chasse-t-il sa nourriture ?  1\n"
     ]
    },
    {
     "name": "stdout",
     "output_type": "stream",
     "text": [
      "Vos données ont une dimension de (34, 50)\n",
      "\n"
     ]
    },
    {
     "name": "stdin",
     "output_type": "stream",
     "text": [
      "Votre animal pèse-t-il au moins deux hommes ? 1\n"
     ]
    },
    {
     "name": "stdout",
     "output_type": "stream",
     "text": [
      "Vos données ont une dimension de (10, 50)\n",
      "\n"
     ]
    },
    {
     "name": "stdin",
     "output_type": "stream",
     "text": [
      "Votre animal possède-il 0 pattes ?  0\n"
     ]
    },
    {
     "name": "stdout",
     "output_type": "stream",
     "text": [
      "Vos données ont une dimension de (5, 50)\n",
      "\n"
     ]
    },
    {
     "name": "stdin",
     "output_type": "stream",
     "text": [
      "Votre animal vit-il en troupeau ou en groupe ? 0\n"
     ]
    },
    {
     "name": "stdout",
     "output_type": "stream",
     "text": [
      "Vos données ont une dimension de (3, 50)\n",
      "\n"
     ]
    },
    {
     "name": "stdin",
     "output_type": "stream",
     "text": [
      "Votre animal possède-t-il une épaisse fourrure ? 0\n"
     ]
    },
    {
     "name": "stdout",
     "output_type": "stream",
     "text": [
      "Vos données ont une dimension de (2, 50)\n",
      "\n"
     ]
    },
    {
     "name": "stdin",
     "output_type": "stream",
     "text": [
      "Votre animal possède-t-il de longues griffes acérées ? 1\n"
     ]
    },
    {
     "name": "stdout",
     "output_type": "stream",
     "text": [
      "Vos données ont une dimension de (1, 50)\n",
      "Convergence après 9 itérations.\n",
      "\n",
      "Voici le résultat : ['Tigre']\n"
     ]
    }
   ],
   "source": [
    "X_final, X_shape, rep_ind = Akinator_dirige(data)"
   ]
  },
  {
   "cell_type": "markdown",
   "metadata": {},
   "source": [
    "On remarque tout de suite la rapidité de la convergence de l'algorithme par rapport au précédent. En effet, les questions ont été posées dans l'ordre qui nous arrange le plus : a chaque itération, on élimine le maximum d'animaux indépendamment du futur choix de l'interlocuteur. De plus, lorsqu'on a posé la deuxième question, nous nous sommes trompés dans la réponse, nous sommes donc revenus en arrière grâce à la nouvelle commande."
   ]
  },
  {
   "cell_type": "markdown",
   "metadata": {},
   "source": [
    "## Questions semi-dirigées"
   ]
  },
  {
   "cell_type": "markdown",
   "metadata": {},
   "source": [
    "Nous avons aussi voulu expérimenter une autre méthode qui consiste à, en quelque sorte combiner les deux méthodes vu précédement. Ici, nous allons nous intéresser à une méthode qui cherchera les questions qui feront diminuer le nombres d'animaux mais qui, contrairement à la seconde méthode, ne choisira pas celle qui minimise la différence entre les vrai et faux, mais posera une question aléatoirement parmis les questions faisant diminuer la taille des données. Le but ici est de voir si cet algorithme converge plus vite que ceux des deux méthodes précédentes."
   ]
  },
  {
   "cell_type": "markdown",
   "metadata": {},
   "source": [
    "#### <font color ='green'> Importation des données </font>"
   ]
  },
  {
   "cell_type": "code",
   "execution_count": 23,
   "metadata": {},
   "outputs": [],
   "source": [
    "df = pd.read_csv('data_new.csv', delimiter = ';', encoding = \"latin1\")\n",
    "data = pd.DataFrame(df)\n",
    "data = data.to_numpy()\n",
    "data_copy = data.copy()"
   ]
  },
  {
   "cell_type": "code",
   "execution_count": 24,
   "metadata": {},
   "outputs": [
    {
     "name": "stdout",
     "output_type": "stream",
     "text": [
      "Nous avons une liste de 162 animaux.\n"
     ]
    }
   ],
   "source": [
    "print(\"Nous avons une liste de {} animaux.\".format(data.shape[0]))"
   ]
  },
  {
   "cell_type": "markdown",
   "metadata": {},
   "source": [
    "Pour cette méthode, nous utiliserons les mêmes conditions d'arrêts que pour l'algorithme des questions dirigées, il n'est donc pas utile de redéfinir la fonction. On pourra directement voir la définition principale qui est :"
   ]
  },
  {
   "cell_type": "code",
   "execution_count": 25,
   "metadata": {},
   "outputs": [],
   "source": [
    "def Akinator_semi_dirige(X) :\n",
    "    A = np.arange(len(questions))\n",
    "    data_shape2 = [X.shape[0]]\n",
    "    data_tab = [X]\n",
    "    indice = []\n",
    "    indice_dont_know = []\n",
    "    rep_ind = np.zeros((2, len(questions)))\n",
    "    inf = True\n",
    "    i = 0\n",
    "    i_dont_know = 0\n",
    "    while inf == True :\n",
    "        if i < len(A) and len(X[:, 0]) != 1 :\n",
    "            print()\n",
    "            tab = count(X)                                               # Compte le nombre de 1 et de 0\n",
    "            diff_tab = abs(tab[0] - tab[1])                              # Fait la différence des deux\n",
    "            diff_tab[indice_dont_know] = np.nan                          # Met des NaN aux questions dont on ne connaît pas la réponse -> ne pas reposer la question\n",
    "            ind_question = np.where(diff_tab != data_shape2[i])          # Indice des questions où l'on a pas encore répondu\n",
    "            if len(ind_question[0]) == 0 :                               # Si il n'y a plus assez de question qui permette d'éliminer des données, on stop la boucle\n",
    "                print(\"Convergence en {} itérations\".format(i))\n",
    "                print()\n",
    "                print(\"Voici les choix : {}\".format(X[:, 0]))\n",
    "                inf = False\n",
    "            else :\n",
    "                nb_alea = np.random.randint(0, len(ind_question[0]))      # Tire aléatoirement une question parmis celle qui diminue le nombre d'animaux\n",
    "                #X[:, nb_alea] = np.nan\n",
    "                indice.append(nb_alea)\n",
    "                rep = int(input(questions[ind_question[0][nb_alea]]))\n",
    "            \n",
    "                rep_ind[0, i] = rep\n",
    "                rep_ind[1, i] = indice[-1]\n",
    "                \n",
    "                if rep == 3 :                                                         # Si on ne sait pas la réponse, sauvegarde l'indice de la question\n",
    "                    indice_dont_know.append(indice[-1])\n",
    "                    pass\n",
    "                elif rep == 4 :                                                       # Si on s'est trompé de réponse, on peut revenir en arrière\n",
    "                    X = data_tab[i-1]\n",
    "                    pass\n",
    "                else :\n",
    "            \n",
    "                    X, inf = choix_rep(X, rep, [ind_question[0][nb_alea]], inf)       # Traite le tableau de donnée en fonction de la réponse\n",
    "            \n",
    "            \n",
    "                data_shape2.append(X.shape[0])\n",
    "                print(X.shape)\n",
    "                print()\n",
    "                data_tab.append(X)\n",
    "        \n",
    "                ### Conditions d'arrêts\n",
    "        \n",
    "                inf = condition_arret_bis(X, i, inf, data_shape2)\n",
    "        \n",
    "                i += 1\n",
    "    \n",
    "        else :\n",
    "            print(\"Convergence après {} itérations\".format(i))\n",
    "            print()\n",
    "            print(\"Voici le résultat : {}\".format(X[:, 0]))\n",
    "            inf = False\n",
    "    return X, data_shape2, rep_ind"
   ]
  },
  {
   "cell_type": "code",
   "execution_count": 26,
   "metadata": {},
   "outputs": [
    {
     "name": "stdout",
     "output_type": "stream",
     "text": [
      "\n"
     ]
    },
    {
     "name": "stdin",
     "output_type": "stream",
     "text": [
      "Votre animal a-t-il des plumes ?  0\n"
     ]
    },
    {
     "name": "stdout",
     "output_type": "stream",
     "text": [
      "(136, 50)\n",
      "\n",
      "\n"
     ]
    },
    {
     "name": "stdin",
     "output_type": "stream",
     "text": [
      "Votre animal possède-t-il des nageoires ?  0\n"
     ]
    },
    {
     "name": "stdout",
     "output_type": "stream",
     "text": [
      "(115, 50)\n",
      "\n",
      "\n"
     ]
    },
    {
     "name": "stdin",
     "output_type": "stream",
     "text": [
      "Retrouve-t-on votre animal dans le désert ? 0\n"
     ]
    },
    {
     "name": "stdout",
     "output_type": "stream",
     "text": [
      "(111, 50)\n",
      "\n",
      "\n"
     ]
    },
    {
     "name": "stdin",
     "output_type": "stream",
     "text": [
      "Votre animal possède-t-il relativement un long cou ? 0\n"
     ]
    },
    {
     "name": "stdout",
     "output_type": "stream",
     "text": [
      "(110, 50)\n",
      "\n",
      "\n"
     ]
    },
    {
     "name": "stdin",
     "output_type": "stream",
     "text": [
      "Votre animal est-il un reptile ?  0\n"
     ]
    },
    {
     "name": "stdout",
     "output_type": "stream",
     "text": [
      "(102, 50)\n",
      "\n",
      "\n"
     ]
    },
    {
     "name": "stdin",
     "output_type": "stream",
     "text": [
      "Votre animal a-t-il 2 pattes ?  0\n"
     ]
    },
    {
     "name": "stdout",
     "output_type": "stream",
     "text": [
      "(100, 50)\n",
      "\n",
      "\n"
     ]
    },
    {
     "name": "stdin",
     "output_type": "stream",
     "text": [
      "Votre animal possède-t-il des poumons ?  1\n"
     ]
    },
    {
     "name": "stdout",
     "output_type": "stream",
     "text": [
      "(82, 50)\n",
      "\n",
      "\n"
     ]
    },
    {
     "name": "stdin",
     "output_type": "stream",
     "text": [
      "Votre animal est-il un félin ? 1\n"
     ]
    },
    {
     "name": "stdout",
     "output_type": "stream",
     "text": [
      "(9, 50)\n",
      "\n",
      "\n"
     ]
    },
    {
     "name": "stdin",
     "output_type": "stream",
     "text": [
      "Votre animal vit-il en troupeau ou en groupe ? 0\n"
     ]
    },
    {
     "name": "stdout",
     "output_type": "stream",
     "text": [
      "(7, 50)\n",
      "\n",
      "\n"
     ]
    },
    {
     "name": "stdin",
     "output_type": "stream",
     "text": [
      "Votre animal possède-t-il une épaisse fourrure ? 0\n"
     ]
    },
    {
     "name": "stdout",
     "output_type": "stream",
     "text": [
      "(6, 50)\n",
      "\n",
      "\n"
     ]
    },
    {
     "name": "stdin",
     "output_type": "stream",
     "text": [
      "Votre animal possède-t-il de longues griffes acérées ? 1\n"
     ]
    },
    {
     "name": "stdout",
     "output_type": "stream",
     "text": [
      "(4, 50)\n",
      "\n",
      "\n"
     ]
    },
    {
     "name": "stdin",
     "output_type": "stream",
     "text": [
      "Votre animal pèse-t-il au moins deux hommes ? 1\n"
     ]
    },
    {
     "name": "stdout",
     "output_type": "stream",
     "text": [
      "(1, 50)\n",
      "\n",
      "Convergence après 12 itérations\n",
      "\n",
      "Voici le résultat : ['Tigre']\n"
     ]
    }
   ],
   "source": [
    "X_final_semi_dirige, data_shape_semi_dirige, rep_ind_semi_dirige = Akinator_semi_dirige(data)"
   ]
  },
  {
   "cell_type": "markdown",
   "metadata": {},
   "source": [
    "On observe au final que cette méthode est, en effet plus performante que la méthode des questions aléatoires. Ceci viens du fait qu'elle évite de créer des \"paliers\" car l'algorithme de méthode semi dirigé pose les questions qui permettent forcément d'enlever des animaux. Cependant, elle reste moins performante que la méthode des questions dirigées car celle-ci ne permet pas d'éliminer à tous les tours un maximum de choix : elle peut en éliminer beaucoup comme très peu."
   ]
  },
  {
   "cell_type": "markdown",
   "metadata": {},
   "source": [
    "On a donc vu 3 algorithmes différents qui converge plus ou moins rapidement vers la solution qui on le rappelle est le tigre. Nous analyserons les résultats de la rapidité de convergence de ces algorithmes dans la partie 5 : Analyse située plus loin dans ce notebook. On a vu que nos algorithmes ont besoin que quelqu'un réponde aux questions, dans le cas d'un jeu, cela est une bonne chose, mais dans le cas d'une analyse, nous aurons besoin que nos fonctions répondent elles-mêmes à leurs questions en allant la chercher dans la base de données."
   ]
  },
  {
   "cell_type": "markdown",
   "metadata": {},
   "source": [
    "# Automatisation des algorithmes"
   ]
  },
  {
   "cell_type": "markdown",
   "metadata": {},
   "source": [
    "### Présentation de l'automatisation"
   ]
  },
  {
   "cell_type": "markdown",
   "metadata": {},
   "source": [
    "Après avoir expérimenté un peu les 3 différentes méthodes, nous pouvons commencer à les utiliser afin de faire de l'analyse de données. Comme il paraît assez fastidieux de répondre à toutes les questions pour analyser nos données car il y a potentiellement une chance de se tromper dans les réponses, nous avons, dans cette partie, créé un algorithme qui répond automatiquement aux questions et qui nous montre le résultat final. On commence par recharger les données ici."
   ]
  },
  {
   "cell_type": "markdown",
   "metadata": {},
   "source": [
    "#### <font color ='green'> Importation des données </font>"
   ]
  },
  {
   "cell_type": "code",
   "execution_count": 27,
   "metadata": {},
   "outputs": [
    {
     "name": "stdout",
     "output_type": "stream",
     "text": [
      "Taille des données : (162, 50)\n"
     ]
    }
   ],
   "source": [
    "df = pd.read_csv('data_new.csv', delimiter = ';', encoding = \"latin1\")\n",
    "data = pd.DataFrame(df)\n",
    "data = data.to_numpy()\n",
    "data_copy = data.copy()\n",
    "print(\"Taille des données : {}\".format(data.shape))"
   ]
  },
  {
   "cell_type": "code",
   "execution_count": 28,
   "metadata": {},
   "outputs": [
    {
     "name": "stdout",
     "output_type": "stream",
     "text": [
      "On posera les questions dans cet ordre : [24, 48, 38, 37, 1, 2, 42, 12, 32, 10, 13, 11, 36, 41, 15, 34, 8, 22, 21, 30, 33, 43, 23, 3, 7, 16, 44, 18, 9, 6, 28, 40, 5, 19, 46, 29, 45, 31, 35, 47, 26, 20, 14, 4, 27, 25, 17, 0, 39]\n"
     ]
    }
   ],
   "source": [
    "A = np.arange(len(questions))\n",
    "A = A.tolist()\n",
    "random.shuffle(A)                                                    # Mélange la liste d'indice\n",
    "print(\"On posera les questions dans cet ordre : {}\".format(A))"
   ]
  },
  {
   "cell_type": "markdown",
   "metadata": {},
   "source": [
    "Dans cette partie, pour rendre l'analyse de données plus simple, nous allons automatiser les définitions que l'on a créé auparavant. Nous aurons tout d'abord besoin de définir une fonction qui, en fonction de la question posée et de l'animal choisi, ira chercher la bonne réponse dans le dataset. On aura donc :"
   ]
  },
  {
   "cell_type": "code",
   "execution_count": 29,
   "metadata": {},
   "outputs": [],
   "source": [
    "def rep_quest(X, indice_animal, indice_question):\n",
    "    if X[indice_animal, indice_question+1] == 1:\n",
    "        return 1\n",
    "    else :\n",
    "        return 0"
   ]
  },
  {
   "cell_type": "markdown",
   "metadata": {},
   "source": [
    "On peut donc maintenant redéfinir la fonction \"ask_question_alea\" comme :"
   ]
  },
  {
   "cell_type": "code",
   "execution_count": 30,
   "metadata": {},
   "outputs": [],
   "source": [
    "def ask_question_alea_auto(X, indice_animal, ind) :\n",
    "    rep = rep_quest(X, indice_animal, A[ind])\n",
    "    return rep"
   ]
  },
  {
   "cell_type": "markdown",
   "metadata": {},
   "source": [
    "### Questions aléatoires automatiques"
   ]
  },
  {
   "cell_type": "markdown",
   "metadata": {},
   "source": [
    "Dans cette sous-partie, nous allons redéfinir quasiment la même fonction que \"Akinator_alea\" sauf qu'au lieu d'attendre qu'un interlocuteur réponde à la question, la fonction ira chercher elle-même la réponse dans la base de donnée. On a donc :"
   ]
  },
  {
   "cell_type": "code",
   "execution_count": 31,
   "metadata": {},
   "outputs": [],
   "source": [
    "def Akinator_alea_auto(X, indice_animal, info = True) :\n",
    "    data_shape_alea = [data.shape[0]]                                                 \n",
    "    data_tab_alea = [X]\n",
    "    indice_alea = []\n",
    "    indice_dont_know_alea = []\n",
    "    rep_ind_alea = np.zeros((2, len(questions)))\n",
    "    inf = True\n",
    "    i = 0\n",
    "    i_dont_know_alea = 0\n",
    "    while inf == True :\n",
    "        if i < len(A) and len(X[:, 0]) != 1 :\n",
    "            #print()\n",
    "            \n",
    "            ### Pose la question et récupère la réponse\n",
    "            \n",
    "            rep = ask_question_alea_auto(data_copy, indice_animal, i)\n",
    "            rep_ind_alea[0, i] = rep\n",
    "            rep_ind_alea[1, i] = A[i]\n",
    "        \n",
    "            ### Traitement du tableau en fonction de la réponse donnée\n",
    "            \n",
    "            X, inf = choix_rep(X, rep, [A[i]], inf)\n",
    "            \n",
    "            data_shape_alea.append(X.shape[0])\n",
    "            #print(\"Dimension des données restantes : {}\".format(X.shape))\n",
    "            #print()\n",
    "            data_tab_alea.append(X)\n",
    "            \n",
    "            ### Conditions d'arrêts de l'algorithme\n",
    "            \n",
    "            inf = condition_arret_alea(X, inf)\n",
    "            \n",
    "            i += 1\n",
    "        else :\n",
    "            if info == True :\n",
    "                print(\"Convergence après {} itérations\".format(i))\n",
    "                print()\n",
    "                print(\"Voici le résultat : {}\".format(X[:, 0]))\n",
    "            inf = False\n",
    "    return X, data_shape_alea, rep_ind_alea"
   ]
  },
  {
   "cell_type": "code",
   "execution_count": 32,
   "metadata": {},
   "outputs": [
    {
     "name": "stdout",
     "output_type": "stream",
     "text": [
      "Convergence après 31 itérations\n",
      "\n",
      "Voici le résultat : ['Tigre']\n"
     ]
    }
   ],
   "source": [
    "X_final_alea_auto, X_shape_alea_auto, tab_ind_alea_auto = Akinator_alea_auto(data, 24)"
   ]
  },
  {
   "cell_type": "markdown",
   "metadata": {},
   "source": [
    "### Questions dirigées automatiques"
   ]
  },
  {
   "cell_type": "markdown",
   "metadata": {},
   "source": [
    "#### <font color ='green'> Importation des données </font>"
   ]
  },
  {
   "cell_type": "code",
   "execution_count": 33,
   "metadata": {},
   "outputs": [
    {
     "name": "stdout",
     "output_type": "stream",
     "text": [
      "Taille des données : (162, 50)\n"
     ]
    }
   ],
   "source": [
    "df = pd.read_csv('data_new.csv', delimiter = ';', encoding = \"latin1\")\n",
    "data = pd.DataFrame(df)\n",
    "data = data.to_numpy()\n",
    "data_copy = data.copy()\n",
    "print(\"Taille des données : {}\".format(data.shape))"
   ]
  },
  {
   "cell_type": "markdown",
   "metadata": {},
   "source": [
    "On peut maintenant définir la fonction principale en reprenant l'algorithme de \"Questions dirigées\" afin que la convergence soit le plus rapide possible. Cette fois-ci, au lieu de demander la réponse à l'exécuteur du programme, on appelle notre fonction qui trouve la réponse dans le tableau de donnée."
   ]
  },
  {
   "cell_type": "code",
   "execution_count": 34,
   "metadata": {},
   "outputs": [],
   "source": [
    "def Akinator_dirige_auto(X, indice_animal, info = True) :\n",
    "    A = np.arange(len(questions))\n",
    "    data_shape = np.zeros(len(questions))\n",
    "    data_shape = [X.shape[0]]\n",
    "    data_tab = [X]\n",
    "    indice = []\n",
    "    indice_dont_know = []\n",
    "    rep_ind = np.zeros((2, len(questions)))\n",
    "    inf = True\n",
    "    i = 0\n",
    "    i_dont_know = 0\n",
    "    while inf == True :\n",
    "        if i < len(A) and len(X[:, 0]) != 1 :\n",
    "            #print()\n",
    "            tab = count(X)                                                       # Compte le nombre de 1 et 0 pour chaque caractéristique physique\n",
    "            diff_tab = abs(tab[0] - tab[1])                                      # Fait la différence des deux\n",
    "            ind_question = np.where(diff_tab == min(diff_tab))[0]                # Recherche de la question la plus optimale à poser\n",
    "            indice.append(ind_question[0])                                       # Sauvegarde de l'indice de la question\n",
    "                \n",
    "            rep = rep_quest(data_copy, indice_animal, ind_question[0])\n",
    "            \n",
    "            rep_ind[0, i] = rep\n",
    "            rep_ind[1, i] = indice[-1]\n",
    "\n",
    "            X, inf = choix_rep(X, rep, [ind_question[0]], inf)\n",
    "\n",
    "            data_shape.append(X.shape[0])                                         # Sauvegarde le nombre d'animaux restant à chaques tours\n",
    "            #print(\"Vos données ont une dimension de {}\".format(X.shape))\n",
    "            data_tab.append(X)                                                    # Sauvegarde le tableau de données modifiées à chaques tours\n",
    "\n",
    "\n",
    "            ### Conditions d'arrêts de l'algorithme\n",
    "\n",
    "            inf = condition_arret_bis(X, i, inf, data_shape)                   # Condition d'arrêt de la boucle\n",
    "\n",
    "            i += 1\n",
    "        else :\n",
    "            rep_ind = np.delete(rep_ind, np.arange(i, len(questions)), 1)\n",
    "            if info == True :\n",
    "                print(\"Convergence après {} itérations.\".format(i))                   # Affiche le nombre d'itération pour atteindre la convergence\n",
    "                print()\n",
    "                print(\"Voici le résultat : {}\".format(X[:, 0]))                       # Affiche les solutions\n",
    "            inf = False\n",
    "    return X, data_shape, rep_ind"
   ]
  },
  {
   "cell_type": "markdown",
   "metadata": {},
   "source": [
    "On rappelle que le tigre porte l'indice 24 dans notre tableau de données."
   ]
  },
  {
   "cell_type": "code",
   "execution_count": 35,
   "metadata": {},
   "outputs": [
    {
     "name": "stdout",
     "output_type": "stream",
     "text": [
      "Convergence après 7 itérations.\n",
      "\n",
      "Voici le résultat : ['Tigre']\n"
     ]
    }
   ],
   "source": [
    "data_final_auto, data_shape_auto, rep_ind_auto = Akinator_dirige_auto(data, 24)"
   ]
  },
  {
   "cell_type": "markdown",
   "metadata": {},
   "source": [
    "### Questions semi-dirigées automatiques"
   ]
  },
  {
   "cell_type": "markdown",
   "metadata": {},
   "source": [
    "#### <font color ='green'> Importation des données </font>"
   ]
  },
  {
   "cell_type": "code",
   "execution_count": 36,
   "metadata": {},
   "outputs": [
    {
     "name": "stdout",
     "output_type": "stream",
     "text": [
      "Taille des données : (162, 50)\n"
     ]
    }
   ],
   "source": [
    "df = pd.read_csv('data_new.csv', delimiter = ';', encoding = \"latin1\")\n",
    "data = pd.DataFrame(df)\n",
    "data = data.to_numpy()\n",
    "data_copy = data.copy()\n",
    "print(\"Taille des données : {}\".format(data.shape))"
   ]
  },
  {
   "cell_type": "code",
   "execution_count": 37,
   "metadata": {},
   "outputs": [],
   "source": [
    "def Akinator_semi_dirige_auto(X, indice_animal, info = True) :\n",
    "        A = np.arange(len(questions))\n",
    "        data_shape2 = [X.shape[0]]\n",
    "        data_tab = [X]\n",
    "        indice = []\n",
    "        indice_dont_know = []\n",
    "        rep_ind = np.zeros((2, len(questions)))\n",
    "        inf = True\n",
    "        i = 0\n",
    "        i_dont_know = 0\n",
    "        while inf == True :\n",
    "            if i < len(A) and len(X[:, 0]) != 1 :\n",
    "                #print()\n",
    "                tab = count(X)\n",
    "                diff_tab = abs(tab[0] - tab[1])\n",
    "                diff_tab[indice_dont_know] = np.nan\n",
    "                ind_question = np.where(diff_tab != data_shape2[i])\n",
    "                if len(ind_question[0]) == 0 :                               # Si il n'y a plus assez de question qui permette d'éliminer des données, on stop la boucle\n",
    "                    print(\"Convergence en {} itérations\".format(i))\n",
    "                    print()\n",
    "                    print(\"Voici les choix : {}\".format(X[:, 0]))\n",
    "                    inf = False\n",
    "                else :\n",
    "                    nb_alea = np.random.randint(0, len(ind_question[0]))\n",
    "                    #X[:, nb_alea] = np.nan\n",
    "                    indice.append(nb_alea)\n",
    "                    rep = rep_quest(data_copy, indice_animal, ind_question[0][nb_alea])   # Répond à la question automatiquement en fonction de l'indice et de l'animal\n",
    "            \n",
    "                    rep_ind[0, i] = rep\n",
    "                    rep_ind[1, i] = indice[-1]\n",
    "                \n",
    "                    if rep == 3 :                                                         # Si on ne sait pas la réponse, sauvegarde l'indice de la question\n",
    "                        indice_dont_know.append(indice[-1])\n",
    "                        pass\n",
    "                    elif rep == 4 :                                                       # Si on s'est trompé de réponse, opn peut revenir à la question d'avant\n",
    "                        X = data_tab[i-1]\n",
    "                        pass\n",
    "                    else :\n",
    "            \n",
    "                        X, inf = choix_rep(X, rep, [ind_question[0][nb_alea]], inf)\n",
    "            \n",
    "            \n",
    "                    data_shape2.append(X.shape[0])\n",
    "                    #print(X.shape)\n",
    "                    #print()\n",
    "                    data_tab.append(X)\n",
    "        \n",
    "                    ### Conditions d'arrêts\n",
    "        \n",
    "                    inf = condition_arret_bis(X, i, inf, data_shape2)\n",
    "        \n",
    "                    i += 1\n",
    "    \n",
    "            else :\n",
    "                if info == True :\n",
    "                    print(\"Convergence après {} itérations\".format(i))\n",
    "                    print()\n",
    "                    print(\"Voici le résultat : {}\".format(X[:, 0]))\n",
    "                inf = False\n",
    "        return X, data_shape2, rep_ind"
   ]
  },
  {
   "cell_type": "code",
   "execution_count": 38,
   "metadata": {},
   "outputs": [
    {
     "name": "stdout",
     "output_type": "stream",
     "text": [
      "Convergence après 12 itérations\n",
      "\n",
      "Voici le résultat : ['Tigre']\n"
     ]
    }
   ],
   "source": [
    "X_final_semi_dirige, data_shape_semi_dirige, rep_ind_semi_dirige = Akinator_semi_dirige_auto(data, 24)"
   ]
  },
  {
   "cell_type": "markdown",
   "metadata": {},
   "source": [
    "### Définition d'une classe"
   ]
  },
  {
   "cell_type": "markdown",
   "metadata": {},
   "source": [
    "Maintenant que nous avons vu nos trois algorithmes ainsi que leurs versions automatiques, nous allons pouvoir écrire une classe regroupant ces trois dernières méthodes afin que l'on puisse utiliser la méthode que l'on veut en très peu de temps. Il suffit d'appeler la classe par \"Akinator(data)\", puis ensuite d'appeler le type d'algorithme voulu, nous avons 6 choix disponibles :\n",
    "\n",
    "+ akinator_alea(data)\n",
    "+ akinator_alea_auto(data, indice_animal)\n",
    "+ akinator_dirige(data)\n",
    "+ akinator_dirige_auto(data, indice_animal)\n",
    "+ akinator_semi_dirige(data)\n",
    "+ akinator_semi_dirige_auto(data, indice_animal)"
   ]
  },
  {
   "cell_type": "code",
   "execution_count": 39,
   "metadata": {},
   "outputs": [],
   "source": [
    "class Akinator :\n",
    "    def __init__(self, X) :\n",
    "        self.data = X\n",
    "        self.data_copy = data_copy\n",
    "\n",
    "    def akinator_alea(self, X) :        \n",
    "        data_shape_alea = [data.shape[0]]\n",
    "        data_tab_alea = [X]\n",
    "        indice_alea = []\n",
    "        indice_dont_know_alea = []\n",
    "        rep_ind_alea = np.zeros((2, len(questions)))\n",
    "        inf = True\n",
    "        i = 1\n",
    "        i_dont_know_alea = 0\n",
    "        while inf == True :\n",
    "            if i < len(A) and len(X[:, 0]) != 1 :\n",
    "            \n",
    "                ### Pose la question et récupère la réponse\n",
    "            \n",
    "                rep = ask_question_alea(i)\n",
    "                rep_ind_alea[0, i] = rep\n",
    "                rep_ind_alea[1, i] = A[i]\n",
    "            \n",
    "                if rep == 3 :\n",
    "                    pass\n",
    "                else :\n",
    "            \n",
    "                    ### Traitement du tableau en fonction de la réponse donnée\n",
    "            \n",
    "                    X, inf = choix_rep(X, rep, [A[i]], inf)\n",
    "            \n",
    "                data_shape_alea.append(X.shape[0])\n",
    "                data_tab_alea.append(X)\n",
    "            \n",
    "                ### Conditions d'arrêts de l'algorithme\n",
    "            \n",
    "                inf = condition_arret_alea(X, inf)\n",
    "            \n",
    "                i += 1\n",
    "            else :\n",
    "                print(\"Convergence après {} itérations\".format(i))\n",
    "                print()\n",
    "                print(\"Voici le résultat : {}\".format(X[:, 0]))\n",
    "                inf = False\n",
    "        return X, data_shape_alea, rep_ind_alea\n",
    "\n",
    "    def akinator_alea_auto(self, X, indice_animal) :\n",
    "        data_shape_alea = [data.shape[0]]\n",
    "        data_tab_alea = [X]\n",
    "        indice_alea = []\n",
    "        indice_dont_know_alea = []\n",
    "        rep_ind_alea = np.zeros((2, len(questions)))\n",
    "        inf = True\n",
    "        i = 0\n",
    "        i_dont_know_alea = 0\n",
    "        while inf == True :\n",
    "            if i < len(A) and len(X[:, 0]) != 1 :\n",
    "            \n",
    "                ### Pose la question et récupère la réponse\n",
    "            \n",
    "                rep = ask_question_alea_auto(data_copy, indice_animal, i)\n",
    "                rep_ind_alea[0, i] = rep\n",
    "                rep_ind_alea[1, i] = A[i]\n",
    "        \n",
    "                ### Traitement du tableau en fonction de la réponse donnée\n",
    "            \n",
    "                X, inf = choix_rep(X, rep, [A[i]], inf)\n",
    "            \n",
    "                data_shape_alea.append(X.shape[0])\n",
    "                data_tab_alea.append(X)\n",
    "            \n",
    "                ### Conditions d'arrêts de l'algorithme\n",
    "            \n",
    "                inf = condition_arret_alea(X, inf)\n",
    "            \n",
    "                i += 1\n",
    "            else :\n",
    "                print(\"Convergence après {} itérations\".format(i))\n",
    "                print()\n",
    "                print(\"Voici le résultat : {}\".format(X[:, 0]))\n",
    "                inf = False\n",
    "        return X, data_shape_alea, rep_ind_alea\n",
    "\n",
    "    def akinator_dirige(self, X) :\n",
    "        A = np.arange(len(questions))\n",
    "        data_shape = np.zeros(len(questions))\n",
    "        data_shape = [X.shape[0]]\n",
    "        data_tab = [X]\n",
    "        indice = []\n",
    "        indice_dont_know = []\n",
    "        rep_ind = np.zeros((2, len(questions)))\n",
    "        inf = True\n",
    "        i = 0\n",
    "        i_dont_know = 0\n",
    "        while inf == True :\n",
    "            if i < len(A) and len(X[:, 0]) != 1 :\n",
    "                tab = count(X)                                                       # Compte le nombre de 1 et 0 pour chaque caractéristique physique\n",
    "                diff_tab = abs(tab[0] - tab[1])                                      # Fait la différence des deux\n",
    "                diff_tab[indice_dont_know] = np.nan\n",
    "                ind_question = np.where(diff_tab == min(diff_tab))[0]                # Recherche de la question la plus optimale à poser\n",
    "                indice.append(ind_question[0])                                       # Sauvegarde de l'indice de la question\n",
    "                \n",
    "                rep = ask_question_dirige(indice[-1])\n",
    "            \n",
    "                rep_ind[0, i] = rep\n",
    "                rep_ind[1, i] = indice[-1]\n",
    "            \n",
    "                if rep == 3 :                                                         # Si on ne sait pas la réponse, sauvegarde l'indice de la question\n",
    "                    indice_dont_know.append(indice[-1])\n",
    "                    pass\n",
    "                elif rep == 4 :\n",
    "                    X = data_tab[i-1]\n",
    "                    pass\n",
    "                else :\n",
    "                    ### Traitement du tableau en fonction de la réponse donnée\n",
    "\n",
    "                    X, inf = choix_rep(X, rep, [ind_question[0]], inf)\n",
    "\n",
    "                data_shape.append(X.shape[0])                                         # Sauvegarde le nombre d'animaux restant à chaques tours\n",
    "                data_tab.append(X)                                                    # Sauvegarde le tableau de données modifiées à chaques tours\n",
    "\n",
    "\n",
    "                ### Conditions d'arrêts de l'algorithme\n",
    "\n",
    "                inf = condition_arret_bis(X, i, inf, data_shape)                   # Condition d'arrêt de la boucle\n",
    "\n",
    "                i += 1\n",
    "            else :\n",
    "                rep_ind = np.delete(rep_ind, np.arange(i, len(questions)), 1)\n",
    "                print(\"Convergence après {} itérations.\".format(i))                   # Affiche le nombre d'itération pour atteindre la convergence\n",
    "                print()\n",
    "                print(\"Voici le résultat : {}\".format(X[:, 0]))                       # Affiche les solutions\n",
    "                inf = False\n",
    "        return X, data_shape, rep_ind\n",
    "\n",
    "    def akinator_dirige_auto(self, X, indice_animal) :\n",
    "        A = np.arange(len(questions))\n",
    "        data_shape = np.zeros(len(questions))\n",
    "        data_shape = [X.shape[0]]\n",
    "        data_tab = [X]\n",
    "        indice = []\n",
    "        indice_dont_know = []\n",
    "        rep_ind = np.zeros((2, len(questions)))\n",
    "        inf = True\n",
    "        i = 0\n",
    "        i_dont_know = 0\n",
    "        while inf == True :\n",
    "            if i < len(A) and len(X[:, 0]) != 1 :\n",
    "                tab = count(X)                                                       # Compte le nombre de 1 et 0 pour chaque caractéristique physique\n",
    "                diff_tab = abs(tab[0] - tab[1])                                      # Fait la différence des deux\n",
    "                ind_question = np.where(diff_tab == min(diff_tab))[0]                # Recherche de la question la plus optimale à poser\n",
    "                indice.append(ind_question[0])                                       # Sauvegarde de l'indice de la question\n",
    "                \n",
    "                rep = rep_quest(data_copy, indice_animal, ind_question[0])\n",
    "            \n",
    "                rep_ind[0, i] = rep\n",
    "                rep_ind[1, i] = indice[-1]\n",
    "\n",
    "                X, inf = choix_rep(X, rep, [ind_question[0]], inf)\n",
    "\n",
    "                data_shape.append(X.shape[0])                                         # Sauvegarde le nombre d'animaux restant à chaques tours\n",
    "                data_tab.append(X)                                                    # Sauvegarde le tableau de données modifiées à chaques tours\n",
    "\n",
    "\n",
    "                ### Conditions d'arrêts de l'algorithme\n",
    "\n",
    "                inf = condition_arret_bis(X, i, inf, data_shape)                   # Condition d'arrêt de la boucle\n",
    "\n",
    "                i += 1\n",
    "            else :\n",
    "                rep_ind = np.delete(rep_ind, np.arange(i, len(questions)), 1)\n",
    "                print(\"Convergence après {} itérations.\".format(i))                   # Affiche le nombre d'itération pour atteindre la convergence\n",
    "                print()\n",
    "                print(\"Voici le résultat : {}\".format(X[:, 0]))                       # Affiche les solutions\n",
    "                inf = False\n",
    "        return X, data_shape, rep_ind\n",
    "\n",
    "    def akinator_semi_dirige(self, X) :\n",
    "        A = np.arange(len(questions))\n",
    "        data_shape2 = [X.shape[0]]\n",
    "        data_tab = [X]\n",
    "        indice = []\n",
    "        indice_dont_know = []\n",
    "        rep_ind = np.zeros((2, len(questions)))\n",
    "        inf = True\n",
    "        i = 0\n",
    "        i_dont_know = 0\n",
    "        while inf == True :\n",
    "            if i < len(A) and len(X[:, 0]) != 1 :\n",
    "                tab = count(X)\n",
    "                diff_tab = abs(tab[0] - tab[1])\n",
    "                diff_tab[indice_dont_know] = np.nan\n",
    "                ind_question = np.where(diff_tab != data_shape2[i])\n",
    "                if len(ind_question[0]) == 0 :                               # Si il n'y a plus assez de question qui permette d'éliminer des données, on stop la boucle\n",
    "                    print(\"Convergence en {} itérations\".format(i))\n",
    "                    print()\n",
    "                    print(\"Voici les choix : {}\".format(X[:, 0]))\n",
    "                    inf = False\n",
    "                else :\n",
    "                    nb_alea = np.random.randint(0, len(ind_question[0]))\n",
    "                    indice.append(nb_alea)\n",
    "                    rep = int(input(questions[ind_question[0][nb_alea]]))\n",
    "            \n",
    "                    rep_ind[0, i] = rep\n",
    "                    rep_ind[1, i] = indice[-1]\n",
    "                \n",
    "                    if rep == 3 :                                                         # Si on ne sait pas la réponse, sauvegarde l'indice de la question\n",
    "                        indice_dont_know.append(indice[-1])\n",
    "                        pass\n",
    "                    elif rep == 4 :\n",
    "                        X = data_tab[i-1]\n",
    "                        pass\n",
    "                    else :\n",
    "            \n",
    "                        X, inf = choix_rep(X, rep, [ind_question[0][nb_alea]], inf)\n",
    "            \n",
    "            \n",
    "                    data_shape2.append(X.shape[0])\n",
    "                    data_tab.append(X)\n",
    "        \n",
    "                    ### Conditions d'arrêts\n",
    "        \n",
    "                    inf = condition_arret_bis(X, i, inf, data_shape2)\n",
    "        \n",
    "                    i += 1\n",
    "    \n",
    "            else :\n",
    "                print(\"Convergence après {} itérations\".format(i))\n",
    "                print()\n",
    "                print(\"Voici le résultat : {}\".format(X[:, 0]))\n",
    "                inf = False\n",
    "        return X, data_shape2, rep_ind\n",
    "\n",
    "    def akinator_semi_dirige_auto(self, X, indice_animal) :\n",
    "        A = np.arange(len(questions))\n",
    "        data_shape2 = [X.shape[0]]\n",
    "        data_tab = [X]\n",
    "        indice = []\n",
    "        indice_dont_know = []\n",
    "        rep_ind = np.zeros((2, len(questions)))\n",
    "        inf = True\n",
    "        i = 0\n",
    "        i_dont_know = 0\n",
    "        while inf == True :\n",
    "            if i < len(A) and len(X[:, 0]) != 1 :\n",
    "                tab = count(X)\n",
    "                diff_tab = abs(tab[0] - tab[1])\n",
    "                diff_tab[indice_dont_know] = np.nan\n",
    "                ind_question = np.where(diff_tab != data_shape2[i])\n",
    "                if len(ind_question[0]) == 0 :                               # Si il n'y a plus assez de question qui permette d'éliminer des données, on stop la boucle\n",
    "                    print(\"Convergence en {} itérations\".format(i))\n",
    "                    print()\n",
    "                    print(\"Voici les choix : {}\".format(X[:, 0]))\n",
    "                    inf = False\n",
    "                else :\n",
    "                    nb_alea = np.random.randint(0, len(ind_question[0]))\n",
    "                    #X[:, nb_alea] = np.nan\n",
    "                    indice.append(nb_alea)\n",
    "                    rep = rep_quest(data_copy, indice_animal, ind_question[0][nb_alea])\n",
    "            \n",
    "                    rep_ind[0, i] = rep\n",
    "                    rep_ind[1, i] = indice[-1]\n",
    "                \n",
    "                    if rep == 3 :                                                         # Si on ne sait pas la réponse, sauvegarde l'indice de la question\n",
    "                        indice_dont_know.append(indice[-1])\n",
    "                        pass\n",
    "                    elif rep == 4 :\n",
    "                        X = data_tab[i-1]\n",
    "                        pass\n",
    "                    else :\n",
    "            \n",
    "                        X, inf = choix_rep(X, rep, [ind_question[0][nb_alea]], inf)\n",
    "            \n",
    "            \n",
    "                    data_shape2.append(X.shape[0])\n",
    "                    data_tab.append(X)\n",
    "        \n",
    "                    ### Conditions d'arrêts\n",
    "        \n",
    "                    inf = condition_arret_bis(X, i, inf, data_shape2)\n",
    "        \n",
    "                    i += 1\n",
    "    \n",
    "            else :\n",
    "                print(\"Convergence après {} itérations\".format(i))\n",
    "                print()\n",
    "                print(\"Voici le résultat : {}\".format(X[:, 0]))\n",
    "                inf = False\n",
    "        return X, data_shape2, rep_ind"
   ]
  },
  {
   "cell_type": "markdown",
   "metadata": {},
   "source": [
    "#### <font color ='green'> Importation des données </font>"
   ]
  },
  {
   "cell_type": "code",
   "execution_count": 40,
   "metadata": {},
   "outputs": [
    {
     "name": "stdout",
     "output_type": "stream",
     "text": [
      "Taille des données : (162, 50)\n"
     ]
    }
   ],
   "source": [
    "df = pd.read_csv('data_new.csv', delimiter = ';', encoding = \"latin1\")\n",
    "data = pd.DataFrame(df)\n",
    "data = data.to_numpy()\n",
    "data_copy = data.copy()\n",
    "print(\"Taille des données : {}\".format(data.shape))\n",
    "A = np.arange(len(questions))\n",
    "A = A.tolist()\n",
    "random.shuffle(A)  "
   ]
  },
  {
   "cell_type": "markdown",
   "metadata": {},
   "source": [
    "Ici, nous avons créé un widget permettant de choisir simplement l'algorithme que l'on veut appliquer."
   ]
  },
  {
   "cell_type": "code",
   "execution_count": 41,
   "metadata": {},
   "outputs": [
    {
     "data": {
      "application/vnd.jupyter.widget-view+json": {
       "model_id": "458d6f5b051c4e2e8e13ae4759368fb5",
       "version_major": 2,
       "version_minor": 0
      },
      "text/plain": [
       "Dropdown(description='Number:', options=(('Aléatoire', 1), ('Aléatoire automatique', 2), ('Dirigé', 3), ('Diri…"
      ]
     },
     "metadata": {},
     "output_type": "display_data"
    }
   ],
   "source": [
    "drop = widgets.Dropdown(options = [('Aléatoire', 1), ('Aléatoire automatique', 2), ('Dirigé', 3), ('Dirigé automatique', 4), ('Semi-dirigé', 5), ('Semi-dirigé automatique', 6)], value = 1, description='Number:',)\n",
    "drop"
   ]
  },
  {
   "cell_type": "markdown",
   "metadata": {},
   "source": [
    "On pourra à présent définir une fonction qui nous permettra de choisir un type d'algorithme de manière plus simple et l'appliquer à nos données. Elle prend en entrée un tableau de donnée, l'indice de l'animal (la position de l'animal dans notre tableau de data) dont on veut étudier la convergence et enfin le type d'algorithme que l'on souhaite appliquer, on a :"
   ]
  },
  {
   "cell_type": "code",
   "execution_count": 42,
   "metadata": {},
   "outputs": [],
   "source": [
    "def choice_algo(X, ind_animal, type_algo) :\n",
    "    h = Akinator(X)\n",
    "    if type_algo == 1 :\n",
    "        X, Y, Z = h.akinator_alea(X)\n",
    "    elif type_algo == 2 :\n",
    "        X, Y, Z = h.akinator_alea_auto(X, ind_animal)\n",
    "    elif type_algo == 3 :\n",
    "        X, Y, Z = h.akinator_dirige(X)\n",
    "    elif type_algo == 4 :\n",
    "        X, Y, Z = h.akinator_dirige_auto(X, ind_animal)\n",
    "    elif type_algo == 5 :\n",
    "        X, Y, Z = h.akinator_semi_dirige(X)\n",
    "    else :\n",
    "        X, Y, Z = h.akinator_semi_dirige_auto(X, ind_animal)\n",
    "    return X, Y, Z"
   ]
  },
  {
   "cell_type": "markdown",
   "metadata": {},
   "source": [
    "Maintenant que l'on peut appliquer n'importe quel algorithme, on va pouvoir choisir l'animal sur lequel on veut étudier la convergence. On définit ici un tableau contenant toutes les classes d'animaux."
   ]
  },
  {
   "cell_type": "code",
   "execution_count": 43,
   "metadata": {},
   "outputs": [],
   "source": [
    "categorie = [\"Mammifère\", \"Oiseaux\", \"Reptile\", \"Poisson\", \"Amphibien\", \"Insecte\", \"Invertébré\"]"
   ]
  },
  {
   "cell_type": "markdown",
   "metadata": {},
   "source": [
    "Ici, on a un premier widget qui demande de choisir la classe de l'animal."
   ]
  },
  {
   "cell_type": "code",
   "execution_count": 44,
   "metadata": {},
   "outputs": [
    {
     "data": {
      "application/vnd.jupyter.widget-view+json": {
       "model_id": "8959a23310e844c991b629510acee42a",
       "version_major": 2,
       "version_minor": 0
      },
      "text/plain": [
       "Dropdown(description=' Catégorie :', options=('Mammifère', 'Oiseaux', 'Reptile', 'Poisson', 'Amphibien', 'Inse…"
      ]
     },
     "metadata": {},
     "output_type": "display_data"
    }
   ],
   "source": [
    "menu1 = widgets.Dropdown(\n",
    "       options = categorie,\n",
    "       value = categorie[0],\n",
    "       description = ' Catégorie :')\n",
    "\n",
    "menu1"
   ]
  },
  {
   "cell_type": "markdown",
   "metadata": {},
   "source": [
    "Cette fonction nous permet d'avoir les différentes lignes des animaux correspondant à la classe précédemment choisie."
   ]
  },
  {
   "cell_type": "code",
   "execution_count": 45,
   "metadata": {},
   "outputs": [],
   "source": [
    "def choix_menu(X) :\n",
    "    for i in range(len(categorie)) :\n",
    "        if categorie[i] == X :\n",
    "            return 43 + i"
   ]
  },
  {
   "cell_type": "markdown",
   "metadata": {},
   "source": [
    "On récupère les animaux de cette classe."
   ]
  },
  {
   "cell_type": "code",
   "execution_count": 46,
   "metadata": {},
   "outputs": [],
   "source": [
    "ind = np.where(data_copy[:, choix_menu(menu1.value)] == 1)[0]\n",
    "animaux = data_copy[ind, 0]"
   ]
  },
  {
   "cell_type": "markdown",
   "metadata": {},
   "source": [
    "Enfin, on choisit l'animal souhaité."
   ]
  },
  {
   "cell_type": "code",
   "execution_count": 47,
   "metadata": {},
   "outputs": [
    {
     "data": {
      "application/vnd.jupyter.widget-view+json": {
       "model_id": "d7d63b5bd2904496bb50149f4b4f9317",
       "version_major": 2,
       "version_minor": 0
      },
      "text/plain": [
       "Dropdown(description=' Animaux :', options=('Zèbre', 'Agneau', 'Souris', 'Rat', 'Singe', 'Koala', 'Orque', 'Ch…"
      ]
     },
     "metadata": {},
     "output_type": "display_data"
    }
   ],
   "source": [
    "menu2 = widgets.Dropdown(\n",
    "       options = animaux,\n",
    "       value = animaux[0],\n",
    "       description = ' Animaux :')\n",
    "\n",
    "menu2"
   ]
  },
  {
   "cell_type": "code",
   "execution_count": 48,
   "metadata": {},
   "outputs": [],
   "source": [
    "ind_animal = np.where(menu2.value == data_copy[:, 0])[0]                            # On récupère l'indice de l'animal choisit"
   ]
  },
  {
   "cell_type": "markdown",
   "metadata": {},
   "source": [
    "On peut donc appeler notre fonction qui exécute l'algorithme."
   ]
  },
  {
   "cell_type": "code",
   "execution_count": 49,
   "metadata": {},
   "outputs": [
    {
     "name": "stdout",
     "output_type": "stream",
     "text": [
      "Convergence après 7 itérations.\n",
      "\n",
      "Voici le résultat : ['Tigre']\n"
     ]
    }
   ],
   "source": [
    "X, Y, Z = choice_algo(data, ind_animal, drop.value)"
   ]
  },
  {
   "cell_type": "markdown",
   "metadata": {},
   "source": [
    "# Analyse"
   ]
  },
  {
   "cell_type": "markdown",
   "metadata": {},
   "source": [
    "## Convergence des algorithmes"
   ]
  },
  {
   "cell_type": "code",
   "execution_count": 52,
   "metadata": {},
   "outputs": [
    {
     "name": "stdout",
     "output_type": "stream",
     "text": [
      "Taille des données : (162, 50)\n"
     ]
    }
   ],
   "source": [
    "df = pd.read_csv('data_new.csv', delimiter = ';', encoding = \"latin1\")\n",
    "data = pd.DataFrame(df)\n",
    "data = data.to_numpy()\n",
    "data_copy = data.copy()\n",
    "print(\"Taille des données : {}\".format(data.shape))\n",
    "A = np.arange(len(questions))\n",
    "A = A.tolist()\n",
    "random.shuffle(A)"
   ]
  },
  {
   "cell_type": "markdown",
   "metadata": {},
   "source": [
    "Passons à l'analyse de nos données. Pour se faire on pourra visualiser leurs convergences sur un graphique pour vérifier lequel fonctionne le mieux, dans quel cas et tenter une explication. On rappelle que le tigre a pour indice dans notre tableau le numéro 24. On a donc :"
   ]
  },
  {
   "cell_type": "code",
   "execution_count": 53,
   "metadata": {},
   "outputs": [
    {
     "name": "stdout",
     "output_type": "stream",
     "text": [
      "Convergence après 44 itérations\n",
      "\n",
      "Voici le résultat : ['Tigre']\n",
      "\n",
      "\n",
      "Convergence après 7 itérations.\n",
      "\n",
      "Voici le résultat : ['Tigre']\n",
      "\n",
      "\n",
      "Convergence après 15 itérations\n",
      "\n",
      "Voici le résultat : ['Tigre']\n"
     ]
    }
   ],
   "source": [
    "X_alea, shape_alea, rep_alea = choice_algo(data_copy, 24, 2)\n",
    "print()\n",
    "print()\n",
    "X_dirige, shape_dirige, rep_dirige = choice_algo(data_copy, 24, 4)\n",
    "print()\n",
    "print()\n",
    "X_semi_dirige, shape_semi_dirige, rep_semi_dirige = choice_algo(data_copy, 24, 6)"
   ]
  },
  {
   "cell_type": "markdown",
   "metadata": {},
   "source": [
    "On voit clairement ici que la méthode des questions dirigées est celle qui est la plus efficace en terme de rendu. En effet au bout de 7 itérations, notre akinator a trouvé l'animal auquel on pense alors qu'il en faut plus pour la méthode semi-dirigée. La méthode aléatoire parle d'elle même, elle prend en moyenne beaucoup d'étape, néanmoins, gardons à l'esprit que dans certains cas elle peut s'avérer redoutablement efficace quand l'animal en question possède une caractéristique unique. Dans ce cas si l'algorithme pose une question qui différencie l'animal de tout le reste, alors la convergence peut s'effectuer en très peu d'étapes."
   ]
  },
  {
   "cell_type": "markdown",
   "metadata": {},
   "source": [
    "## Moyenne, écart-type"
   ]
  },
  {
   "cell_type": "markdown",
   "metadata": {},
   "source": [
    "Afin d'avoir une idée globale des convergences, étudions les sorties des algorithmes des 3 méthodes précédentes sur un assez grand nombre d'itérations, puis traçons-en la moyenne et une estimation de l'écart-type :"
   ]
  },
  {
   "cell_type": "code",
   "execution_count": 55,
   "metadata": {},
   "outputs": [
    {
     "name": "stdout",
     "output_type": "stream",
     "text": [
      "Moyennes selon le type de méthode :\n",
      "Aléatoire :  29.99\n",
      "Dirigé :  7.0\n",
      "Semi-dirigé :  10.93\n",
      "\n",
      "Ecart-type selon le type de méthode :\n",
      "Aléatoire :  11.014985247380045\n",
      "Dirigé :  0.0\n",
      "Semi-dirigé :  3.8788013612455075\n"
     ]
    }
   ],
   "source": [
    "N = 100 # Nombre de fois que l'on veut relancer l'algorithme.\n",
    "iteration = np.zeros((N,3)) # Tableau récupérant le nombre d'itérations de nos algorithmes\n",
    "\n",
    "for i in range(N):\n",
    "    A = np.arange(len(questions))\n",
    "    A = A.tolist()\n",
    "    random.shuffle(A)   \n",
    "    \n",
    "    X_alea, shape_alea, rep_alea = Akinator_alea_auto(data_copy, 24, info = False)\n",
    "    X_dirige, shape_dirige, rep_dirige = Akinator_dirige_auto(data_copy, 24, info = False)\n",
    "    X_semi_dirige, shape_semi_dirige, rep_semi_dirige = Akinator_semi_dirige_auto(data_copy, 24, info = False)\n",
    "    \n",
    "    iteration[i][0] = len(shape_alea) - 1  #-1 car on ne compte pas la dernière étape qui montre l'animal en question\n",
    "    iteration[i][1] = len(shape_dirige) - 1\n",
    "    iteration[i][2] = len(shape_semi_dirige) - 1\n",
    "    \n",
    "    \n",
    "moyenne = np.zeros(3)\n",
    "sigma = np.zeros(3)\n",
    "\n",
    "for i in range(3):\n",
    "    moyenne[i] = np.mean(iteration[:,i])\n",
    "    sigma[i] = np.std(iteration[:,i])\n",
    "\n",
    "print(\"Moyennes selon le type de méthode :\")\n",
    "print(\"Aléatoire : \",moyenne[0])\n",
    "print(\"Dirigé : \",moyenne[1])\n",
    "print(\"Semi-dirigé : \",moyenne[2])\n",
    "print()\n",
    "print(\"Ecart-type selon le type de méthode :\")\n",
    "print(\"Aléatoire : \",sigma[0])\n",
    "print(\"Dirigé : \", sigma[1])\n",
    "print(\"Semi-dirigé : \", sigma[2])"
   ]
  },
  {
   "cell_type": "markdown",
   "metadata": {},
   "source": [
    "On remarque plusieurs choses : d'une part, comme attendu, en moyenne l'algorithme qui pose le plus de questions est celui de la méthode aléatoire et son écart-type est grand ce qui montre son caractère aléatoire. Par ailleurs, on voit que la moyenne de questions de la méthode dirigée est fixe, et ne varie pas, en effet il n'y a qu'un seul chemin pour minimiser ce nombre de question, dans le cas du tigre, il est de 7.\n",
    "\n",
    "Par ailleurs nous n'avons une information que sur la finalité de nos questions, il serait interessant de voir comment converge les algorithmes, représentons donc leurs évolutions au fur et à mesure des questions :"
   ]
  },
  {
   "cell_type": "markdown",
   "metadata": {},
   "source": [
    "<div class='alert alert-info'>\n",
    "On crée un widget permettant de choisir les courbes que l'on veut tracer. Pour sélectionner les courbes, appuyez sur Ctrl et cliquer sur les courbes souhaitées.\n",
    "<\\div>"
   ]
  },
  {
   "cell_type": "code",
   "execution_count": 56,
   "metadata": {},
   "outputs": [
    {
     "data": {
      "application/vnd.jupyter.widget-view+json": {
       "model_id": "8e60f44b8e554290a91c930a8bf4ef57",
       "version_major": 2,
       "version_minor": 0
      },
      "text/plain": [
       "SelectMultiple(description='Courbes : ', index=(0,), options=('Aléatoire', 'Semi-Dirigées', 'Dirigées'), value…"
      ]
     },
     "metadata": {},
     "output_type": "display_data"
    }
   ],
   "source": [
    "select_courbe = widgets.SelectMultiple(\n",
    "    options=['Aléatoire', 'Semi-Dirigées', 'Dirigées'],\n",
    "    value=['Aléatoire'],\n",
    "    description='Courbes : ',\n",
    "    disabled=False\n",
    ")\n",
    "select_courbe"
   ]
  },
  {
   "cell_type": "code",
   "execution_count": 57,
   "metadata": {},
   "outputs": [
    {
     "data": {
      "image/png": "[encoded data removed]",
      "text/plain": [
       "<Figure size 432x432 with 1 Axes>"
      ]
     },
     "metadata": {
      "needs_background": "light"
     },
     "output_type": "display_data"
    }
   ],
   "source": [
    "plt.figure(figsize = (6, 6))\n",
    "for i in range(len(select_courbe.value)) :\n",
    "    if len(np.where(select_courbe.value[i] == 'Aléatoire')[0]) != 0 :                              # Si on a sélectionner \"Questions aléatoires\"\n",
    "        plt.plot(shape_alea, 'x-b', label = 'Questions aléatoires')\n",
    "        plt.axvline(np.arange(len(shape_alea))[-1], ls = '--', c = 'blue', lw = 1)\n",
    "    if len(np.where(select_courbe.value[i] == 'Semi-Dirigées')[0]) != 0 :                          # Si on a sélectionner \"Questions semi-dirigées\"\n",
    "        plt.plot(shape_semi_dirige, 'x-g', label = 'Questions semi-dirigées')\n",
    "        plt.axvline(np.arange(len(shape_semi_dirige))[-1], ls = '--', c = 'green', lw = 1)\n",
    "    if len(np.where(select_courbe.value[i] == 'Dirigées')[0]) != 0 :                               # Si on a sélectionner \"Questions dirigées\"\n",
    "        plt.plot(shape_dirige, 'x-r', label = 'Questions dirigées (minimum)')\n",
    "        plt.axvline(np.arange(len(shape_dirige))[-1], ls = '--', c = 'red', lw = 1)\n",
    "\n",
    "plt.xlabel('Nombres de questions')\n",
    "plt.ylabel(\"Nombre d'animaux restants\")\n",
    "plt.grid(True)\n",
    "plt.legend()\n",
    "plt.show()"
   ]
  },
  {
   "cell_type": "markdown",
   "metadata": {},
   "source": [
    "On voit donc que l'algorithme de questions dirigées converge beaucoup plus vite que l'algorithme de questions aléatoires et un peu plus vite que l'algorithme de questions semi-dirigées. On s'attendait à ce résultat car l'algorithme de questions dirigées permet de choisir les questions en fonction de nos données. En effet, dans le cas des autres méthodes, une part aléatoire joue très souvent en notre défaveur.\n",
    "\n",
    "Grossièrement, l'algorithme de questions aléatoires possèdes deux \"phases\":\n",
    "+ Une phase très piquée, ou l'on converge très vite vers un animal ou un groupe d'animaux.\n",
    "+ Une phase de plateau, ou l'algorithme pose des questions qui, soit ne font pas avancer le jeu soit n'apportent pas d'information pertinentes quant à l'évolution de celui-ci.\n",
    "\n",
    "Nous pouvons nous poser quelques questions :\n",
    "+ L'algorithme pose des questions aléatoires : mais pourquoi donc a-t-on une phase très décroissante ?\n",
    "+ Pourquoi cette forme si intriguante ? Il serait quand même plus logique d'avoir une forme très irrégulière qui indiquerait le caractère aléatoire..\n",
    "\n",
    "La réponse se trouve dans nos données : Les questions ne sont pas toutes indépendantes, en effet par exemple une question typique serait : \"votre animal est-il un mammifère ?\" ou bien  \"Votre animal possède-t-il des poumons ?\", or si ce sont bien deux questions distinctes, elle ont un lien fort : un mammifère possède des poumons. Mais un reptile aussi... C'est pourquoi l'algorithme utilise indirectement la dépendance des questions (car ceux-ci sont en plus grande proportion), ce qui mène à la phase piquée. Une fois qu'il ne reste plus que des questions très spécifiques (\"votre animal est-il comestible dans la coutume européenne ?\"), on atteint cette phase de plateau.\n",
    "\n",
    "Par ailleurs, on remarque cependant que l'algorithme de questions aléatoires, dans sa phase décroissante piquée, est plus efficace que celui des questions semi-dirigées."
   ]
  },
  {
   "cell_type": "markdown",
   "metadata": {},
   "source": [
    "## Influence du nombre de données"
   ]
  },
  {
   "cell_type": "markdown",
   "metadata": {},
   "source": [
    "Un autre aspect intéressant à étudier est l'influence du nombre de données initiales sur le résultat final. En effet, intuitivement, si nous avons un jeu de données très limité, il est clair que la convergence va être très rapide. Au contraire, si le jeu possède une base de donnée très grande, la convergence va être très lente, et il va falloir poser plus de questions.\n",
    "\n",
    "Visualisons-le : Nous allons tracer la convergence de notre algorithme pour une taille de liste initiale d'animaux différentes. Nous ferons ceci pour l'algorithme le plus efficace que l'on a, à savoir la méthode des questions dirigées.\n",
    "\n",
    "Prenons une liste initiale de $n_1 = 25$, $n_2 = 50$, $n_3 = 100$ et $n_4 = 162$ animaux et regardons la convergence."
   ]
  },
  {
   "cell_type": "code",
   "execution_count": 58,
   "metadata": {},
   "outputs": [
    {
     "name": "stdout",
     "output_type": "stream",
     "text": [
      "Taille des données : (162, 50)\n"
     ]
    }
   ],
   "source": [
    "df = pd.read_csv('data_new.csv', delimiter = ';', encoding = \"latin1\")\n",
    "data = pd.DataFrame(df)\n",
    "data = data.to_numpy()\n",
    "data_copy = data.copy()\n",
    "print(\"Taille des données : {}\".format(data.shape))\n",
    "categorie = [\"Mammifère\", \"Oiseaux\", \"Reptile\", \"Poisson\", \"Amphibien\", \"Insecte\", \"Invertébré\"]"
   ]
  },
  {
   "cell_type": "markdown",
   "metadata": {},
   "source": [
    "De la même manière que précédement, on va choisir la classe d'un animal."
   ]
  },
  {
   "cell_type": "code",
   "execution_count": 59,
   "metadata": {},
   "outputs": [
    {
     "data": {
      "application/vnd.jupyter.widget-view+json": {
       "model_id": "3e06bd43180247849751287cb9044f7a",
       "version_major": 2,
       "version_minor": 0
      },
      "text/plain": [
       "Dropdown(description=' Catégorie :', options=('Mammifère', 'Oiseaux', 'Reptile', 'Poisson', 'Amphibien', 'Inse…"
      ]
     },
     "metadata": {},
     "output_type": "display_data"
    }
   ],
   "source": [
    "menu1 = widgets.Dropdown(\n",
    "       options = categorie,\n",
    "       value = categorie[0],\n",
    "       description = ' Catégorie :')\n",
    "\n",
    "menu1"
   ]
  },
  {
   "cell_type": "code",
   "execution_count": 60,
   "metadata": {},
   "outputs": [],
   "source": [
    "ind = np.where(data_copy[:, choix_menu(menu1.value)] == 1)[0]\n",
    "animaux = data_copy[ind, 0]"
   ]
  },
  {
   "cell_type": "markdown",
   "metadata": {},
   "source": [
    "Puis un animal appartenant à cette classe :"
   ]
  },
  {
   "cell_type": "code",
   "execution_count": 61,
   "metadata": {},
   "outputs": [
    {
     "data": {
      "application/vnd.jupyter.widget-view+json": {
       "model_id": "9a655ed4d2be4e598b3e111f0ae4599f",
       "version_major": 2,
       "version_minor": 0
      },
      "text/plain": [
       "Dropdown(description=' Animaux :', options=('Zèbre', 'Agneau', 'Souris', 'Rat', 'Singe', 'Koala', 'Orque', 'Ch…"
      ]
     },
     "metadata": {},
     "output_type": "display_data"
    }
   ],
   "source": [
    "menu2 = widgets.Dropdown(\n",
    "       options = animaux,\n",
    "       value = animaux[0],\n",
    "       description = ' Animaux :')\n",
    "\n",
    "menu2"
   ]
  },
  {
   "cell_type": "code",
   "execution_count": 62,
   "metadata": {},
   "outputs": [
    {
     "name": "stdout",
     "output_type": "stream",
     "text": [
      "Voici les données de votre animal : ['Tigre' 0 0 0 0 1 0 0 0 0 0 0 0 0 0 0 0 0 1 0 1 0 1 1 0 0 1 0 0 1 1 1 1 0\n",
      " 0 1 0 0 0 1 0 0 0 1 0 0 0 0 0 0]\n"
     ]
    }
   ],
   "source": [
    "ind_animal = np.where(menu2.value == data_copy[:, 0])[0]                            # On récupère l'indice de l'animal choisit\n",
    "nb_data = np.array([25, 50, 100, data_copy.shape[0]]) - 1\n",
    "data_ani = [data[ind_animal[0]]]                                                    # On récupère les réponses pour cet animal\n",
    "print(\"Voici les données de votre animal : {}\".format(data_ani[0]))\n",
    "data_ss_ani = np.delete(data_copy, ind_animal[0], 0)                                # On supprime la ligne concernant notre animal pour le futur tirage aléatoire"
   ]
  },
  {
   "cell_type": "markdown",
   "metadata": {},
   "source": [
    "On peut maintenant définir une fonction qui fera un tirage aléatoire parmis la liste de données."
   ]
  },
  {
   "cell_type": "code",
   "execution_count": 64,
   "metadata": {},
   "outputs": [],
   "source": [
    "def selection(X, nb_choix) :\n",
    "    N = X.shape[0]\n",
    "    random_choice = random.sample(range(data_ss_ani.shape[0]), nb_choix)\n",
    "    new_data = data_ss_ani[random_choice]\n",
    "    return new_data"
   ]
  },
  {
   "cell_type": "markdown",
   "metadata": {},
   "source": [
    "On peut maintenant visualiser les résultats de la convergence pour chaque liste de taille différentes."
   ]
  },
  {
   "cell_type": "code",
   "execution_count": 76,
   "metadata": {},
   "outputs": [
    {
     "name": "stdout",
     "output_type": "stream",
     "text": [
      "Convergence après 4 itérations.\n",
      "\n",
      "Voici le résultat : ['Tigre']\n",
      "Convergence après 6 itérations.\n",
      "\n",
      "Voici le résultat : ['Tigre']\n",
      "Convergence après 6 itérations.\n",
      "\n",
      "Voici le résultat : ['Tigre']\n",
      "Convergence après 7 itérations.\n",
      "\n",
      "Voici le résultat : ['Tigre']\n"
     ]
    },
    {
     "data": {
      "image/png": "[encoded data removed]",
      "text/plain": [
       "<Figure size 504x504 with 1 Axes>"
      ]
     },
     "metadata": {
      "needs_background": "light"
     },
     "output_type": "display_data"
    }
   ],
   "source": [
    "plt.figure(figsize = (7, 7))\n",
    "a = []\n",
    "color = ['x-r', 'x-b', 'x-g', 'x-m']\n",
    "for i, j in enumerate(nb_data) :\n",
    "    X = selection(data_ss_ani, nb_data[i])                                                     # On effectue un tirage aleatoire de donnée\n",
    "    X = np.concatenate((X, data_ani), axis = 0)                                                # On ajoute l'animal que l'on a choisit au début\n",
    "    \n",
    "    H = Akinator(data)\n",
    "    data_final, X_shape, rep_ind = H.akinator_dirige_auto(X, ind_animal[0])                    # On applique l'algorithme principal                      \n",
    "    a.append(X_shape)                                                                          # On sauvegarde le nombre d'animaux à la fin de l'algorithme pour la suite \n",
    "    plt.plot(X_shape, color[i], label = \"{} animaux\".format(j + 1))\n",
    "\n",
    "plt.xlabel(\"Nombre de question posée\")\n",
    "plt.ylabel(\"Nombre d'animaux restants\")\n",
    "plt.title(\"Visualisation de la convergence pour différentes listes\")\n",
    "plt.legend()\n",
    "plt.show()"
   ]
  },
  {
   "cell_type": "markdown",
   "metadata": {},
   "source": [
    "Nous allons analyser cette figure mais il nous faut manipuler un peu ces données afin de les rendres plus lisibles"
   ]
  },
  {
   "cell_type": "markdown",
   "metadata": {},
   "source": [
    "## Le paramètre $\\Xi$"
   ]
  },
  {
   "cell_type": "markdown",
   "metadata": {},
   "source": [
    "La courbe précédente nous permet de voir que le nombre d'animaux restants dans notre liste après chaque question. Elle décroit exponentiellement avec le nombre de questions posées. Afin d'avoir une idée claire de cette courbe nous nous proposons ici de la modéliser et de faire une régression linéaire. Pour cela nous prenons le logarithme des valeurs de la liste de notre nombre d'animaux afin de nous réduire à un fit linéaire, puis nous appliquons la régréssion linéaire grâce à la méthode des moindres carrés."
   ]
  },
  {
   "cell_type": "code",
   "execution_count": 80,
   "metadata": {},
   "outputs": [
    {
     "data": {
      "image/png": "[encoded data removed]",
      "text/plain": [
       "<Figure size 576x576 with 1 Axes>"
      ]
     },
     "metadata": {
      "needs_background": "light"
     },
     "output_type": "display_data"
    }
   ],
   "source": [
    "def lin(x,m,b): # Modèle de fit linéaire\n",
    "    return m*x + b\n",
    "\n",
    "\n",
    "plt.figure(figsize = (8,8))\n",
    "label = [\"25 Animaux\", \"50 Animaux\", \"100 Animaux\", \"162 Animaux\"]\n",
    "label_ajust = [\"Ajustement 25\", \"Ajustement 50\", \"Ajustement 100\", \"Ajustement 162\"]\n",
    "\n",
    "for i in range(len(a)):\n",
    "    #récupération manuelle des data\n",
    "    data = np.array(a[i])\n",
    "\n",
    "    #log des donnée pour un fit linéaire plus clair\n",
    "    log_data = np.log(data)\n",
    "\n",
    "    #abscisses:\n",
    "    x = np.arange(len(data))\n",
    "\n",
    "    #fits linéaires par des polynômes de degrés 1 avec la méthode des moindres carrés :\n",
    "    fit = np.polyfit(x, log_data,1)\n",
    "    #Affichage des plots linéaires\n",
    "    plt.plot(x, log_data,'+--',label = label[i])\n",
    "    #Affichage des ajustements\n",
    "    plt.plot(x, lin(x, fit[0], fit[1]),label = label_ajust[i])\n",
    "\n",
    "plt.title(\"Evolution du nombre d'animaux (en échelle log) restant au fur et à mesure des réponses\")    \n",
    "plt.ylabel(\"Nombres d'animaux restants [Echelle log]\")\n",
    "plt.xlabel(\"Nombre de questions\")\n",
    "plt.legend()\n",
    "plt.show()"
   ]
  },
  {
   "cell_type": "markdown",
   "metadata": {},
   "source": [
    "On remarque ici que d'une part plus le nombre d'animaux dans la liste initiale est élevé et plus l'algorithme va devoir poser de question pour trouver l'animal auquel le joueur pense. En effet ceci s'explique naturellement par le fait que les animaux ont beaucoup de caractéristiques communes, il va donc falloir poser plus de questions pour les différencier."
   ]
  },
  {
   "cell_type": "markdown",
   "metadata": {},
   "source": [
    "La non-linéarité en fin de tracé viens du fait que le tracé exponentiel plus haut deviens assez linéaire en fin de course car l'algorithme a convergé, ainsi le passage au logarithme cause cette non-linéarité.\n",
    "Dans le cas du tigre : pour ~25 animaux dans notre liste initiale, l'algorithme converge au bout de 4-5 étapes, pour ~50 animaux l'algorithme converge en ~6 questions, puis pour une liste plus grande de 100-200 animaux, le graphique nous montre que la convergence -quand elle est assurée- s'effectue en + 7-8 étapes(questions). On verifie donc ce qui est cité précédemment : Plus notre base de données est grande plus il va falloir poser de questions. Notons que ce n'est pas le seul paramètre : le nombre d'animaux peut être énorme mais les animaux peuvent aussi avoir beaucoup de caratéristiques différentes, auquel cas l'algorithme pourrait converger de façon correcte."
   ]
  },
  {
   "cell_type": "markdown",
   "metadata": {},
   "source": [
    "On peut se demander quel est le paramètre important à minimiser ici pour décrire l'efficacité ; soit N le nombre d'animaux dans notre liste initiale, soit n le nombre de questions posées par l'algorithme. Le tracé de N en fonction de n nous donne la figure précédente en décroissance exponentielle. En première approche on peut on penser que c'est n le nombre de question qu'il faudrait minimiser et dans les faits c'est exact, le but est de deviner l'animal auquel le joueur pense avec un minimum de questions, néanmoins ce nombre de reflète pas l'efficacité de l'algorithme à deviner l'animal le plus rapidement possible car le nombre de question est corrélé au nombre d'animaux qu'il y a dans notre liste initiale. Un paramètre pertinent serait le nombre de questions relatif :\n",
    "\n",
    "$$ \\Xi = \\frac{n}{N}$$\n",
    "\n",
    "En effet d'une part ce nombre rends compte du fait qu'il faut minimiser le nombre de questions mais prends en compte le nombre d'animaux dans nos données initiales. D'autres part N > n en général, on a ici une mesure de l'efficacité \"absolue\" de notre algorithme."
   ]
  },
  {
   "cell_type": "code",
   "execution_count": 81,
   "metadata": {},
   "outputs": [],
   "source": [
    "def Xi(n, N) :\n",
    "    return n/N"
   ]
  },
  {
   "cell_type": "code",
   "execution_count": 82,
   "metadata": {},
   "outputs": [
    {
     "name": "stdout",
     "output_type": "stream",
     "text": [
      "Questions aléatoires : Xi = 0.776\n",
      "Questions dirigées : Xi = 0.163\n",
      "Questions semi-dirigées : Xi = 0.204\n"
     ]
    }
   ],
   "source": [
    "Xi_alea = Xi(len(shape_alea), len(questions))\n",
    "Xi_dirige = Xi(len(shape_dirige), len(questions))\n",
    "Xi_semi_dirige = Xi(len(shape_semi_dirige), len(questions))\n",
    "\n",
    "print(\"Questions aléatoires : Xi = {}\".format(np.round(Xi_alea, 3)))\n",
    "print(\"Questions dirigées : Xi = {}\".format(np.round(Xi_dirige, 3)))\n",
    "print(\"Questions semi-dirigées : Xi = {}\".format(np.round(Xi_semi_dirige, 3)))"
   ]
  },
  {
   "cell_type": "markdown",
   "metadata": {},
   "source": [
    "On voit donc bien que l'algorithme le plus efficace est celui qui a le terme $\\Xi$ le plus petit, il s'agit bien de celui de questions dirigées."
   ]
  },
  {
   "cell_type": "markdown",
   "metadata": {},
   "source": [
    "# Autres méthodes"
   ]
  },
  {
   "cell_type": "markdown",
   "metadata": {},
   "source": [
    "Précédemment, nous avons conçu et vu plusieurs méthodes pour séparer nos animaux et en reconnaître un seul parmis une vaste liste. Nous allons à présent nous intéresser à deux autres méthodes capables du même résultat."
   ]
  },
  {
   "cell_type": "markdown",
   "metadata": {},
   "source": [
    "## Arbre de décision"
   ]
  },
  {
   "cell_type": "markdown",
   "metadata": {},
   "source": [
    "Un arbre de décision est une aide à la décision sous forme d'un arbre, il permet d'arriver à un résultat grâce à des questions dont les réponses sont sous forme binaire. Dans, cette partie, nous allons essayer de construire l'arbre de décision qui nous permettra de remonter jusqu'à l'animal que l'on souhaite retrouver. On commence par définir une variable qui contiendra les caractéristiques physiques pour chaque animal et une autre variable qui elle contiendra le nom des différents animaux."
   ]
  },
  {
   "cell_type": "code",
   "execution_count": 83,
   "metadata": {},
   "outputs": [],
   "source": [
    "from sklearn.tree import DecisionTreeClassifier\n",
    "\n",
    "X = data_copy[:, 1:]\n",
    "y = data_copy[:, 0]"
   ]
  },
  {
   "cell_type": "markdown",
   "metadata": {},
   "source": [
    "On peut maintenant créer notre arbre en spécifiant qu'il ne s'arrête que lorsque tout a été classé. On entrainera celui-ci sur nos données X et y qui sont respectivement les tableaux de caractéristiques ainsi que les noms des animaux. Ici, on entraîne l'arbre qu'on nomme \"clf\" qui sera un arbre de décision entraîné sur toute les étapes (questions) possibles. Pour qu'on puisse un peu mieux visualiser cet arbre, nous zoomerons sur ses premières étapes."
   ]
  },
  {
   "cell_type": "code",
   "execution_count": 87,
   "metadata": {},
   "outputs": [],
   "source": [
    "clf = tree.DecisionTreeClassifier(max_depth = None)                        # Si max_depth = None, affiche toutes les étapes\n",
    "clf = clf.fit(X, y)                                                        # Entraîne l'arbre"
   ]
  },
  {
   "cell_type": "markdown",
   "metadata": {},
   "source": [
    "Au préalable, nous avons écrit les noms des caractéristiques afin que l'arbre soit plus lisible, nous pourrons donc voir quelle caractéristique a été observé à chaque noeud. "
   ]
  },
  {
   "cell_type": "code",
   "execution_count": 88,
   "metadata": {},
   "outputs": [],
   "source": [
    "caracteristiques = [\"Fourrure épaisse\", \"Troupeau ou groupe\", \"Charognard\", \"Queue rayée\", \"Griffes\", \"Désert\", \"Sang humain\", \"Nocturne\", \"Long cou\", \"Défenses\", \"Cornes\", \"Creux de la main\", \"Petit d'un animal\", \"Ville\", \"Comestible en Europe\", \"Vit proche de l'eau\", \"Forêt\", \"Jungle\", \"Canidé\", \"Félin\", \"Savane africaine\", \"Poid\", \"Poil\", \"Plume\", \"Oeuf\", \"Lait\", \"Vole\", \"Aquatique\", \n",
    "                    \"Prédateur\", \"Dent\", \"Colonne vertébrale\", \"Poumon\", \"Venimeux\", \"Nageoire\", \"Queue\", \"Domestique\", \"0 patte\", \"2 pattes\", \"4 pattes\", \"5 pattes\", \"6 patte\",\n",
    "                    \"8 pattes\", \"Mammifère\", \"Oiseaux\", \"Reptile\", \"Poisson\", \"Amphibien\", \"Insecte\", \"Invertébré\"]"
   ]
  },
  {
   "cell_type": "markdown",
   "metadata": {},
   "source": [
    "Ici, on affiche les deux arbres qui représentent la séparation des animaux en fonction des questions posées."
   ]
  },
  {
   "cell_type": "code",
   "execution_count": 89,
   "metadata": {},
   "outputs": [
    {
     "data": {
      "image/png": "[encoded data removed]",
      "text/plain": [
       "<Figure size 1080x1080 with 2 Axes>"
      ]
     },
     "metadata": {
      "needs_background": "light"
     },
     "output_type": "display_data"
    }
   ],
   "source": [
    "plt.figure(figsize = (15, 15))\n",
    "plt.subplot(121)\n",
    "tree.plot_tree(clf, feature_names = caracteristiques, filled = True)\n",
    "plt.title(\"Arbre entier\")\n",
    "plt.subplot(122)\n",
    "tree.plot_tree(clf, feature_names = caracteristiques, filled = True, max_depth = 1)\n",
    "plt.title(\"Premières étapes de l'arbre\")\n",
    "plt.show()"
   ]
  },
  {
   "cell_type": "markdown",
   "metadata": {},
   "source": [
    "Ci-dessus, on peut voir notre arbre de décision en entier à gauche, celui-ci est très grand et peu lisible, on affiche donc la première étape sur la droite. On voit que l'on part de notre liste de départ tout en haut, puis au fur et à mesure que l'on descend, la liste se rétrécit jusqu'à converger vers des animaux seuls. Ceux-ci sont représentés en couleur sur l'arbre. On voit donc que pour certains animaux, cet arbre permet de converger très rapidement (environ 4-5 étapes). Cependant, on voit aussi que l'arbre de décision a du mal à séparer d'autres animaux. Nous verrons plus tard lesquels et nous expliquerons pourquoi."
   ]
  },
  {
   "cell_type": "markdown",
   "metadata": {},
   "source": [
    "On va à présent afficher quelques caractéristiques de cet arbre, pour commencer, on affichera le nombre de classe (ici d'animaux) et le nombre de features (ici les caractéristiques de chaque animal)."
   ]
  },
  {
   "cell_type": "code",
   "execution_count": 90,
   "metadata": {},
   "outputs": [
    {
     "name": "stdout",
     "output_type": "stream",
     "text": [
      "Nombre d'animaux : 162\n",
      "Nombre de carcatéristiques physiques : 49\n"
     ]
    }
   ],
   "source": [
    "print(\"Nombre d'animaux : {}\".format(clf.n_classes_))\n",
    "print(\"Nombre de carcatéristiques physiques : {}\".format(clf.n_features_))"
   ]
  },
  {
   "cell_type": "markdown",
   "metadata": {},
   "source": [
    "On retrouve le nombre de caractéristiques physiques, qui n'est rien d'autre que le nombre de questions que l'on a afin de différencier les animaux."
   ]
  },
  {
   "cell_type": "markdown",
   "metadata": {},
   "source": [
    "On peut maintenant afficher le nombre maximum d'étape de l'arbre ainsi que son score. Ici, le score représente la proportion d'animaux qui ont été identifiés et ceci de manière unique."
   ]
  },
  {
   "cell_type": "code",
   "execution_count": 92,
   "metadata": {},
   "outputs": [
    {
     "name": "stdout",
     "output_type": "stream",
     "text": [
      "\n",
      "L'arbre a au maximum 17 étapes.\n",
      "Score : 0.981\n"
     ]
    }
   ],
   "source": [
    "max_depth = clf.get_depth()\n",
    "score_arbre = clf.score(X, y)\n",
    "print()\n",
    "print(\"L'arbre a au maximum {} étapes.\".format(max_depth))\n",
    "print(\"Score : {}\".format(np.round(score_arbre, 3)))"
   ]
  },
  {
   "cell_type": "markdown",
   "metadata": {},
   "source": [
    "On voit ici que notre arbre arrive à distinguer environ $98 \\%$ des animaux, ce qui signifie qu'il arrive plutôt bien à séparer nos animaux, seul $2 %$ d'entre eux ne sont pas identifiés de manière unique. Dans la cellule du dessous, on va voir une commande qui nous permet de voir l'importance de chaque caractéristique physique. On voit que certaines sont assez utiles pour séparer les différents animaux, et au contraire, certaines ne le sont pas du tout. Ceci pose des questions sur la pertinence de nos questions."
   ]
  },
  {
   "cell_type": "code",
   "execution_count": 93,
   "metadata": {},
   "outputs": [
    {
     "name": "stdout",
     "output_type": "stream",
     "text": [
      "\n",
      "get_n_leaves : 159\n",
      "\n",
      "Question la plus utile : Votre animal vit-il en troupeau ou en groupe ?\n",
      "\n",
      "Questions les moins utiles : ['Votre animal possède-t-il une queue rayée ?', 'Votre animal a-t-il des plumes ? ', 'Votre animal est-il un poisson ? ', 'Votre animal est-il un amphibien ? ', 'Votre animal est-il un insecte ? ']\n",
      "\n"
     ]
    }
   ],
   "source": [
    "print()\n",
    "print(\"get_n_leaves : {}\".format(clf.get_n_leaves()))\n",
    "importance = clf.feature_importances_\n",
    "\n",
    "ind_max_n_leaves = np.where(importance == np.max(importance))[0]                          # Indice où l'importance est maximum\n",
    "ind_0_n_leaves = np.where(importance == 0)[0]                                             # Indice où l'importance est nulle\n",
    "questions_non_utiles = []\n",
    "\n",
    "for i in ind_0_n_leaves :\n",
    "    questions_non_utiles.append(questions[i])\n",
    "\n",
    "print()\n",
    "print(\"Question la plus utile : {}\".format(questions[ind_max_n_leaves[0]]))\n",
    "print()\n",
    "print(\"Questions les moins utiles : {}\".format(questions_non_utiles))\n",
    "print()"
   ]
  },
  {
   "cell_type": "markdown",
   "metadata": {},
   "source": [
    "On voit ici que la question qui demande si notre animal vit en groupe est celle qui sépare le plus nos données. Au contraire, les questions du dessous, sont celles qui séparent le moins les données. Ceci encore une fois provient de plusieurs choses :\n",
    "\n",
    "+ D'une part notre jeu de donnée : en effet il regroupe beaucoup de mammifères et assez peu les autres classes. Bon nombre de mammifères vivent en groupe, c'est pourquoi cette question permets une bonne séparation du jeu de donnée.\n",
    "+ De la remarque précédente en découle une autre : en effet si la question \"Votre animal chasse-t-il sa nourriture\" est utilisée, alors la question \"Votre animal est-il un mammifère ?\" n'est plus tellement pertinente.\n",
    "\n",
    "Par ailleurs, nous nous rendons compte qu'identifier la classe d'un animal en premier lieu n'est pas forcément plus pertinent : les questions les moins utiles nous indiquent donc que d'autres questions sont plus à même de séparer les données."
   ]
  },
  {
   "cell_type": "markdown",
   "metadata": {},
   "source": [
    "Dans le code ci-dessous, nous allons essayer de voir quels animaux \"posent problème\". En effet, on a vu que certains animaux n'étaient pas séparés les uns des autres. Dans le module sklearn, il existe une commande permettant de retrouver la feuille de l'arbre pour chaques animaux. La feuille d'un arbre de décision est l'emplacement où est stocké l'animal en question, plus il y a de feuilles, et plus nos animaux seront séparés les uns des autres. "
   ]
  },
  {
   "cell_type": "code",
   "execution_count": 94,
   "metadata": {},
   "outputs": [],
   "source": [
    "leaf_animaux = clf.apply(X, check_input = True)                     # Nous donne les feuilles de l'arbre de chaques animaux"
   ]
  },
  {
   "cell_type": "markdown",
   "metadata": {},
   "source": [
    "La définition ci-dessous nous permet de nous afficher tous les animaux qui sont stockés dans la même feuille, qui ne sont donc pas clairement identifiés de manière unique. En effet, elle va boucler sur toutes nos feuilles et dès que l'une d'entre elle contient au moins 2 animaux, elle l'affiche."
   ]
  },
  {
   "cell_type": "code",
   "execution_count": 95,
   "metadata": {},
   "outputs": [],
   "source": [
    "def doublon(X) :\n",
    "    tab = np.arange(min(X), max(X) + 1)\n",
    "    res = []\n",
    "    for i in tab :\n",
    "        ind = np.where(X == i)[0]\n",
    "        if len(ind) == 1 or len(ind) == 0 :\n",
    "            pass\n",
    "        else :    \n",
    "            print(data_copy[ind, 0])\n",
    "    return None"
   ]
  },
  {
   "cell_type": "code",
   "execution_count": 96,
   "metadata": {},
   "outputs": [
    {
     "name": "stdout",
     "output_type": "stream",
     "text": [
      "['Faucon' 'buse' 'Aigle']\n",
      "['Putois' 'Blaireau']\n"
     ]
    }
   ],
   "source": [
    "doublon(leaf_animaux)"
   ]
  },
  {
   "cell_type": "markdown",
   "metadata": {},
   "source": [
    "Après avoir appelé notre fonction, on voit qu'il nous reste deux feuilles où nos animaux ne sont pas clairement identifiés. Dans l'une d'entre elle, il nous reste le faucon, la buse et l'aigle. En effet, ces trois oiseaux se ressemblent énormément, autant au niveau physique qu'au niveau du comportement, il paraît donc logique qu'avec \"seulement\" nos données, l'arbre ne puisse pas faire la différence entre ces ceux-ci. Nous avons le même argument pour le putois et le blaireau, deux animaux qui se ressemble énormément ont plus de chances de se retrouver dans la même feuille de l'arbre."
   ]
  },
  {
   "cell_type": "markdown",
   "metadata": {},
   "source": [
    "### Test de l'arbre"
   ]
  },
  {
   "cell_type": "markdown",
   "metadata": {},
   "source": [
    "Dans la partie précédente, nous avons vu ce que faisait notre arbre de décision et comment il fonctionnait. Maintenant, nous allons essayer d'entrainer notre arbre afin qu'il puisse faire des prédictions. En effet, le but du jeu Akinator est de deviner les animaux auxquels vous pensez, sauf qu'ici, pour deviner un animal, il va falloir donner toutes les caractéristiques de celui-ci, ce qui dans un sens n'est plus de la prédiction mais de la recherche dans une base de donnée. On va donc essayer de prédire la classe d'un animal, c'est-à-dire que l'on va entraîner l'arbre sur un certain nombre d'entrées, puis on essayera de préduire s'il s'agit d'un mammifère, d'un reptile, etc... Pour se faire, on commence déjà par importer un module qui nous permettra de séparer nos données d'entrainements de nos données de tests."
   ]
  },
  {
   "cell_type": "code",
   "execution_count": 97,
   "metadata": {},
   "outputs": [],
   "source": [
    "from sklearn.model_selection import train_test_split"
   ]
  },
  {
   "cell_type": "markdown",
   "metadata": {},
   "source": [
    "Dans la cellule du dessous, nous allons effectuer une boucle qui nous permettra de faire des prédictions sur toutes les classes. Pour chaque tour, nous allons définir notre tableau de données $X$ comme l'ensemble des réponses aux différentes caractéristiques et notre tableau $y$ comme un tableau unidimensionnel pour les classes. On entrainera notre arbre de décision grâce aux données d'entrainements puis nous ferons des prédictions qui seront stockées dans un tableau $y_{pred}$. Enfin, on pourra calculer le score de chaques arbres pour chaque classe. Ensuite, on pourra faire un moyennage des scores obtenus afin d'obtenir 7 différents scores pour chacunes des classes de nos données et ainsi voir si elles sont plutôt bien retrouvées par l'algorithme."
   ]
  },
  {
   "cell_type": "code",
   "execution_count": 98,
   "metadata": {},
   "outputs": [],
   "source": [
    "col_classe = np.arange(43, len(data_copy[0]))\n",
    "nb_tirage = 1000\n",
    "y_pred = []\n",
    "score = np.zeros((nb_tirage, 7))\n",
    "\n",
    "for k in range(nb_tirage) :\n",
    "    for i, j in enumerate(col_classe) :\n",
    "        X = data_copy[:, 1:42]\n",
    "        y = data_copy[:, j]\n",
    "\n",
    "        X = X.astype('int')\n",
    "        y = y.astype('int')\n",
    "\n",
    "        X_train, X_test, y_train, y_test = train_test_split(X, y, test_size = 0.40)\n",
    "    \n",
    "        clf3 = tree.DecisionTreeClassifier(max_depth = None)\n",
    "        clf3 = clf3.fit(X_train, y_train)\n",
    "        y_pred.append(clf3.predict(X_test))\n",
    "        score[k, i] = clf3.score(X_test, y_test)"
   ]
  },
  {
   "cell_type": "code",
   "execution_count": 99,
   "metadata": {},
   "outputs": [],
   "source": [
    "mean = np.zeros(7)\n",
    "for i in range(7) :\n",
    "    mean[i] = score.mean(axis = 0)[i]"
   ]
  },
  {
   "cell_type": "markdown",
   "metadata": {},
   "source": [
    "Nous créons une définition qui affichera le score de chaque arbre en pourcentage de bonne réponse."
   ]
  },
  {
   "cell_type": "code",
   "execution_count": 100,
   "metadata": {},
   "outputs": [],
   "source": [
    "def affichage(X) :\n",
    "    for i in range(len(X)) :\n",
    "        print(\"Score des prédictions pour la classe {} : {} %\".format(categorie[i], np.round(X[i]*100, 1)))\n",
    "def affichage_moy(X) :\n",
    "    for i in range(len(X)) :\n",
    "        print(\"Score des prédictions pour la classe {} sur {} tirages : {} %\".format(categorie[i], nb_tirage, np.round(X[i]*100, 2)))"
   ]
  },
  {
   "cell_type": "code",
   "execution_count": 101,
   "metadata": {},
   "outputs": [
    {
     "name": "stdout",
     "output_type": "stream",
     "text": [
      "Score des prédictions pour la classe Mammifère : 100.0 %\n",
      "Score des prédictions pour la classe Oiseaux : 100.0 %\n",
      "Score des prédictions pour la classe Reptile : 95.4 %\n",
      "Score des prédictions pour la classe Poisson : 100.0 %\n",
      "Score des prédictions pour la classe Amphibien : 100.0 %\n",
      "Score des prédictions pour la classe Insecte : 98.5 %\n",
      "Score des prédictions pour la classe Invertébré : 98.5 %\n",
      "\n",
      "Score des prédictions pour la classe Mammifère sur 1000 tirages : 97.41 %\n",
      "Score des prédictions pour la classe Oiseaux sur 1000 tirages : 99.91 %\n",
      "Score des prédictions pour la classe Reptile sur 1000 tirages : 93.66 %\n",
      "Score des prédictions pour la classe Poisson sur 1000 tirages : 99.4 %\n",
      "Score des prédictions pour la classe Amphibien sur 1000 tirages : 98.05 %\n",
      "Score des prédictions pour la classe Insecte sur 1000 tirages : 97.35 %\n",
      "Score des prédictions pour la classe Invertébré sur 1000 tirages : 96.92 %\n"
     ]
    }
   ],
   "source": [
    "affichage(score[0])\n",
    "print()\n",
    "affichage_moy(mean)"
   ]
  },
  {
   "cell_type": "markdown",
   "metadata": {},
   "source": [
    "Au final, la première définition nous montre que pour chacune des classes, le score est plutôt très bon. L'algorithme arrive très bien à attribuer une classe à une donnée qu'on lui donne. Cependant, quand on observe les résultats sur le moyennage, on voit que les prédictions faites sur les reptiles donnent en moyenne un moins bon résultat (mais qui reste quand même très bien). En effet, ceci vient du fait que nous avons assez peu de reptile dans nos données comparés aux mammifères et que leurs caractéristiques sont proches de celles d'un mammifère. Pour améliorer ce score, on pourrait par exemple d'une part ajouter plus de reptiles dans nos données, ou d'autre part ajouter d'autres caractéristiques afin que l'arbre de décision puisse mieux séparer nos animaux."
   ]
  },
  {
   "cell_type": "markdown",
   "metadata": {},
   "source": [
    "## Random Forest"
   ]
  },
  {
   "cell_type": "markdown",
   "metadata": {},
   "source": [
    "Après avoir vu ce que pouvait faire un seul arbre de décision sur nos données, on remarque donc que celui-ci permet de bien classer nos animaux et permet même de faire quelques prédictions sur certaines classes. Maintenant, on va pouvoir améliorer un peu le modèle en utilisant l'algorithme du Random Forest, celui-ci est basé sur l'entrainement d'une multitude d'arbres aléatoires (d'où le terme random forest). Grâce à cette méthode, nous allons essayer de faire converger notre algorithme un peu plus vite qu'avec un simple arbre de décision. En effet, dans cette partie, nous allons essayer de mieux comprendre ce que fait l'algorithme sur nos données, puis nous allons voir ce qui pourrait être bénéfique dans notre sujet."
   ]
  },
  {
   "cell_type": "markdown",
   "metadata": {},
   "source": [
    "On commence par importer les modules permettant d'utiliser cette méthode."
   ]
  },
  {
   "cell_type": "code",
   "execution_count": 102,
   "metadata": {},
   "outputs": [],
   "source": [
    "from sklearn.ensemble import RandomForestClassifier"
   ]
  },
  {
   "cell_type": "code",
   "execution_count": 103,
   "metadata": {},
   "outputs": [],
   "source": [
    "X = data_copy[:, 1:]\n",
    "y = data_copy[:, 0]"
   ]
  },
  {
   "cell_type": "markdown",
   "metadata": {},
   "source": [
    "De la même manière que pour l'arbre de décision, nous allons ici créer notre \"Random Forest\" en appelant la classe et en spécifiant le nombre d'arbre que l'on veut. Pour commencer, nous prendrons $n_{estimators} = 1$."
   ]
  },
  {
   "cell_type": "code",
   "execution_count": 104,
   "metadata": {},
   "outputs": [],
   "source": [
    "randomforest = RandomForestClassifier(n_estimators = 1)"
   ]
  },
  {
   "cell_type": "markdown",
   "metadata": {},
   "source": [
    "On va ensuite toujours de la même manière entraîner nos données."
   ]
  },
  {
   "cell_type": "code",
   "execution_count": 105,
   "metadata": {},
   "outputs": [],
   "source": [
    "randomforest = randomforest.fit(X, y)"
   ]
  },
  {
   "cell_type": "markdown",
   "metadata": {},
   "source": [
    "Une fois notre méthode créée, on pourra afficher son score pour voir si elle marche plutôt bien ou non."
   ]
  },
  {
   "cell_type": "code",
   "execution_count": 106,
   "metadata": {},
   "outputs": [
    {
     "name": "stdout",
     "output_type": "stream",
     "text": [
      "Pour n_estimators = 1, on a un score de : 0.623\n"
     ]
    }
   ],
   "source": [
    "score = randomforest.score(X, y)\n",
    "print(\"Pour n_estimators = 1, on a un score de : {}\".format(np.round(score, 3)))"
   ]
  },
  {
   "cell_type": "markdown",
   "metadata": {},
   "source": [
    "On voit que ce score n'est pas aussi bien que celui de l'arbre de décision simple, on peut donc essayer d'augmenter le nombre d'arbre que nous avons dans notre forêt. On va maintenant effectuer la même chose, mais en bouclant sur un certains nombre d'arbre."
   ]
  },
  {
   "cell_type": "code",
   "execution_count": 107,
   "metadata": {},
   "outputs": [],
   "source": [
    "index = np.arange(1, 20 + 1)\n",
    "score = []\n",
    "for i in index :\n",
    "    randomforest = RandomForestClassifier(n_estimators=i)\n",
    "    randomforest.fit(X, y)\n",
    "    score.append(randomforest.score(X, y))"
   ]
  },
  {
   "cell_type": "code",
   "execution_count": 108,
   "metadata": {},
   "outputs": [
    {
     "data": {
      "image/png": "[encoded data removed]",
      "text/plain": [
       "<Figure size 432x288 with 1 Axes>"
      ]
     },
     "metadata": {
      "needs_background": "light"
     },
     "output_type": "display_data"
    }
   ],
   "source": [
    "plt.figure()\n",
    "plt.title(\"Evolution du score en fonction du nombre d'arbre\")\n",
    "plt.plot(index, score, label = \"Score du Random Forest\")\n",
    "plt.axhline(score_arbre, ls = '--', c = 'black', label = \"Score de l'arbre de décision\")\n",
    "plt.xlabel(r\"$n_{estimators}$\")\n",
    "plt.ylabel(\"Score\")\n",
    "plt.legend()\n",
    "plt.show()"
   ]
  },
  {
   "cell_type": "markdown",
   "metadata": {},
   "source": [
    "Nous pouvons voir ci-dessus le résultat de ce petit calcul, on voit que plus on rajoute d'arbre dans notre algorithme de Random Forest, plus le score évolue mais cependant, ce score ne dépassera jamais le score que nous avons calculé lors de la partie sur l'arbre de décision simple. En effet, aucun algorithme ne pourra départager les animaux qui se trouvent dans les mêmes feuilles, car il nous faut plus de caractéristiques pour départager ces animaux.\n",
    "Finalement, on voit qu'un arbre de décision simple ainsi que l'algorithme du Random Forest (pour $n_{estimators}$ assez grand) obtiennent des scores équivalents. Le différence entre ces deux types d'algorithmes est que l'arbre de décision va mettre un certains nombre d'étape avant de converger vers notre animal alors que si on passe par un Random Forest, celui-ci mettra beaucoup moins d'itération pour converger vers notre animal. Le Random Forest constitue donc une optimisation d'un arbre de décision.\n",
    "\n",
    "Par ailleurs, comme vous l'avez pu remarquer, nous entraînons les arbres de décisions à reconnaître des classes et non pas des animaux directement. En effet la diversité des caractéristiques des animaux nous limite dans l'entraînement de l'arbre."
   ]
  },
  {
   "cell_type": "markdown",
   "metadata": {},
   "source": [
    "#### Analyse du \"chemin suivis\""
   ]
  },
  {
   "cell_type": "markdown",
   "metadata": {},
   "source": [
    "Créons maintenant un algorithme de Random Forest pour $n_{estimators} = 50$. Après l'avoir entrainé sur nos données (on choisira le tigre ici), nous allons lui demander de nous renvoyer le chemin qu'il a suivi pour chaque arbre de décision qu'il a créé grâce à la commande \"decision_path\". Cette commande nous renvoie deux éléments, le premier étant une matrice sparse remplie de $0$ et de $1$. Ces nombres nous indique pour chaque arbre, si l'animal que nous avons choisi est \"passé\" par ce chemin, le $1$ représentant un 'oui' et le $0$ un 'non'. On rappelle qu'une matrice sparse est un objet contenant les valeurs non-nulle d'une matrice, ainsi que leurs indices. La matrice étant trop grande pour être stockée, il est plus simple de retirer tous les $0$ qui sont inutiles. Le deuxième élement renvoyé par la commande \"decision_path\" est une liste d'indice qui nous indique où commencent et où finissent les différents arbres composant la forêt."
   ]
  },
  {
   "cell_type": "code",
   "execution_count": 109,
   "metadata": {},
   "outputs": [],
   "source": [
    "ind_animal = 24\n",
    "randomforest_50 = RandomForestClassifier(n_estimators = 50)\n",
    "randomforest_50 = randomforest.fit(X, y)\n",
    "\n",
    "(node_indicator, n_node_ptr) = randomforest_50.decision_path(X)"
   ]
  },
  {
   "cell_type": "markdown",
   "metadata": {},
   "source": [
    "On importe ce module qui permet de transformer une matrice sparse en matrice bidimensionnelle."
   ]
  },
  {
   "cell_type": "code",
   "execution_count": 110,
   "metadata": {},
   "outputs": [],
   "source": [
    "from scipy.sparse import coo_matrix"
   ]
  },
  {
   "cell_type": "markdown",
   "metadata": {},
   "source": [
    "On commence par choisir la ligne correspondant à notre animal, ici le tigre est représenté par la ligne 24."
   ]
  },
  {
   "cell_type": "code",
   "execution_count": 111,
   "metadata": {},
   "outputs": [],
   "source": [
    "node_1 = coo_matrix(node_indicator).toarray()[ind_animal]"
   ]
  },
  {
   "cell_type": "markdown",
   "metadata": {},
   "source": [
    "On écrit ici une fonction qui va nous séparer les différents arbres puis compter le nombre de $1$ dans chacuns d'eux. Ceci va nous permettre de compter finalement le nombre d'étapes qu'il faut pour converger vers notre animal. Le but de cette partie est de montrer que notre algorithme va converger plus vite qu'un simple arbre de décision, on va donc, pour tous les arbres de notre Random Forest calculer les nombres d'étapes, puis afficher le minimum."
   ]
  },
  {
   "cell_type": "code",
   "execution_count": 113,
   "metadata": {},
   "outputs": [
    {
     "name": "stdout",
     "output_type": "stream",
     "text": [
      "\n",
      "il faut au minimum 4 étapes pour prédire : Tigre\n",
      "\n"
     ]
    }
   ],
   "source": [
    "def separe(X, ind) :\n",
    "    X_f = []\n",
    "    nb_1 = []\n",
    "    k = 1\n",
    "    while k < len(ind) :\n",
    "        liste = np.arange(ind[k-1], ind[k])\n",
    "        nb_1.append(len(np.where(X[liste] == 1)[0]))\n",
    "        X_f.append(X[liste])\n",
    "        k += 1\n",
    "    return X_f, nb_1\n",
    "\n",
    "X_f, nb_1 = separe(node_1, n_node_ptr)\n",
    "\n",
    "print()\n",
    "print(\"il faut au minimum {} étapes pour prédire : {}\".format(min(nb_1), data_copy[ind_animal, 0]))\n",
    "print()"
   ]
  },
  {
   "cell_type": "markdown",
   "metadata": {},
   "source": [
    "Maintenant, on peut étudier la variation de ce minimum si on change le $n_{estimators}$ du début. Pour ce faire, on va répéter l'opération précédente pour des $n_{estimators}$ différents, et pour chacunes de ces différentes valeurs, on va prendre la moyenne de chaque minimum sur 50 valeurs. Cette opération va nous donner :"
   ]
  },
  {
   "cell_type": "code",
   "execution_count": 114,
   "metadata": {},
   "outputs": [],
   "source": [
    "def plot_min(X, y, ind_animal, n) :\n",
    "    n_esti = []\n",
    "    min_step = []\n",
    "    mean = []\n",
    "    for i in range(1, n) :\n",
    "        tab_mean = []\n",
    "        for k in range(50) :\n",
    "            randomforest = RandomForestClassifier(n_estimators = i)\n",
    "            randomforest.fit(X, y)\n",
    "            (node_indicator, n_node_ptr) = randomforest.decision_path(X)\n",
    "            node_1 = coo_matrix(node_indicator).toarray()[ind_animal]\n",
    "            X_f, nb_1 = separe(node_1, n_node_ptr)\n",
    "            tab_mean.append(min(nb_1))\n",
    "        n_esti.append(i)\n",
    "        min_step.append(min(nb_1))\n",
    "        mean.append(np.mean(tab_mean))\n",
    "    plt.figure(figsize = (8, 8))\n",
    "    plt.title(\"Evolution du nombre d'étape en fonction du nombre d'arbre de décision pour {}\".format(data_copy[ind_animal, 0]))\n",
    "    plt.plot(n_esti, mean, 'o-r')\n",
    "    plt.xlabel(r\"$n_{estimators}$\")\n",
    "    plt.ylabel(\"Nombre d'étapes\")\n",
    "    plt.show()"
   ]
  },
  {
   "cell_type": "code",
   "execution_count": 115,
   "metadata": {},
   "outputs": [
    {
     "data": {
      "image/png": "[encoded data removed]",
      "text/plain": [
       "<Figure size 576x576 with 1 Axes>"
      ]
     },
     "metadata": {
      "needs_background": "light"
     },
     "output_type": "display_data"
    }
   ],
   "source": [
    "plot_min(X, y, ind_animal, 24)"
   ]
  },
  {
   "cell_type": "markdown",
   "metadata": {},
   "source": [
    "On voit sur le graphique ci-dessus que plus on augmente le nombre d'arbres dans notre Random Forest, plus l'algorithme va trouver rapidement notre animal. Cela est normal puisque l'algorithme va lancer plusieurs arbres en même temps, et certains d'entre eux auront des enchaînements de questions quasiment parfait pour converger au plus vite vers notre animal. Plus $n_{estimators}$ est grand, et plus de chance on a de converger vite. En remarque, on pourra dire que si on augmente encore la valeur de $n_{estimators}$, le nombre d'étapes minimum va atteindre un plateau, en effet, il sera compliqué pour l'algorithme de converger plus vite que 2-3 questions, à moins d'avoir peu d'animaux ou bien d'avoir des caractéristiques pertinentes à la séparation."
   ]
  },
  {
   "cell_type": "markdown",
   "metadata": {},
   "source": [
    "# Approche Probabiliste : Inférence Bayésienne"
   ]
  },
  {
   "cell_type": "markdown",
   "metadata": {},
   "source": [
    "Jusqu'à maintenant, nous avons vu une approche déterministe du problème. En effet, nous avions construit plusieurs algorithmes qui retiraient des animaux à chaque fois que l'on répondait oui ou non (1 ou 0). On avait aussi introduit une réponse \"Ne sait pas\" au cas où l'utilisateur ne sache pas répondre, afin qu'il ne soit pas bloqué par une question, seulement, l'utilisation de cette réponse ne modifie pas la probabilité de chaque animal. C'est pourquoi on aimerait construire le même type d'algorithme mais basé sur une approche probabiliste en utilisant l'inférence bayésienne. La mise en place de ce type d'algorithme est assez délicate, de par le fait que la bibliographie n'est pas très clair dessus, à l'exception de quelques articles [[2](#Bibliographie)] qui amènent des approches intéressantes mais finalement n'améliorent pas l'algorithme. Néanmoins certains sites utilisent l'approche bayésienne pour faire un jeu type akinator, et l'expliquent très bien, utilisant un dictionnaire python. C'est donc en s'inspirant du travail de Rogério Chaves [[3](#Bibliographie)] que nous présentons le travail ci-dessous.\n",
    "\n",
    "Dans la méthode précédente, l'utilisation de la réponse \"Ne sait pas\" ne nous donne pas plus de chance de trouver un animal qu'un autre. Ici, le but de cette nouvelle méthode est de prendre en compte ces réponses afin qu'elle change les probabilités de chaque animal et que l'on converge donc plus vite vers l'un d'entre eux. Pour cela, nous avons remplacé la commande \"Ne sait pas\" par les commandes \"probablement\" et \"probablement pas\", ce qui nous permet de trouver la bonne réponse même si l'utilisateur venait à se tromper. Ceci est un aspect non négligeable de l'algorithme. On va donc voir que les nouvelles commandes introduites vont permettent de donner plus de poids dans le calcul de probabilité et ceci permettra de faire des propositions au fur et à mesure du calcul."
   ]
  },
  {
   "cell_type": "markdown",
   "metadata": {},
   "source": [
    "Dans le cas probabiliste, chaque étape nous apporte de l'information, cette information peut être mise à profil afin d'être utilisée pour trouver plus rapidement l'animal auquel le joueur pense. C'est donc naturellement qu'apparaît le théorème de bayes dans notre cas :"
   ]
  },
  {
   "cell_type": "markdown",
   "metadata": {},
   "source": [
    "$$P\\left( A | B \\right) = \\frac{P\\left( B | A \\right) P\\left( A \\right)}{P\\left( B \\right)}$$"
   ]
  },
  {
   "cell_type": "markdown",
   "metadata": {},
   "source": [
    "Explicitons tout ces termes :\n",
    "+ A représente l'animal auquel on pense. \n",
    "+ B est la réponse de notre joueur\n",
    "\n",
    "Nous avons quatres termes différents :\n",
    "\n",
    "   + $P \\left( A | B \\right)$ est la probabilité que l'on cherche : La probabilité que le joueur pense à l'animal A sachant qu'il a donné la réponse B.\n",
    "   + $P\\left( A \\right)$ : La probabilité de trouver l'animal choisi par le joueur, il vaut donc $\\frac{1}{\\text{Nombre d'animaux restant}}$ car les animaux ont autant de chances d'être choisis par le joueur. Autrement dit, c'est le prior.\n",
    "   + $P\\left( B \\right)$ : Le posterior qui est ici la probabilité que le joueur donne la réponse B, il vaut donc $\\frac{1}{4}$ car nous avons 4 réponses, qui ont autant de chances d'être données chacunes.\n",
    "   + $P \\left( B | A \\right)$ : La probabilité que le joueur réponde la réponse B sachant l'animal A. Autrement dit, la likelihood.\n",
    "   \n",
    "Cette likelihood est ici le paramètre déterminant, en effet, elle permettra de modifier le poids des animaux en fonction de la réponse choisie. Par exemple, lorsque la réponse est \"oui\" ou \"non\", notre définition de la likelihood renverra un tableau contenant des 1 et des 0, ces chiffres permettant de conserver ou supprimer les animaux. Lorsque la réponse sera \"probablement\" ou \"probablement pas\", ce tableau se composera de 1 et de 0.5 (ce chiffre a été choisi car c'est la valeur moyenne des deux réponses) et permettra de conserver la probabilité de certains animaux ou de réduire celle d'autres. Ensuite, nous appliquerons une définition qui normalisera l'ensemble du tableau afin qu'on ait :\n",
    "\n",
    "$$\\sum\\limits_{i = 0}^{N} p_i = 1 \\hspace{2cm} \\text{avec } p_i \\text{ la probabilité de chacun des animaux}$$"
   ]
  },
  {
   "cell_type": "code",
   "execution_count": 116,
   "metadata": {},
   "outputs": [],
   "source": [
    "df = pd.read_csv('data_new.csv', delimiter = ';', encoding = \"latin1\")\n",
    "data = pd.DataFrame(df)\n",
    "data = data.to_numpy()\n",
    "data_copy = data.copy()\n",
    "animaux = data[:, 0]"
   ]
  },
  {
   "cell_type": "markdown",
   "metadata": {},
   "source": [
    "Nous allons définir une première fonction qui pourra nous calculer le prior de nos données à une itération donnée. On supposera un prior uniforme sur toutes nos données."
   ]
  },
  {
   "cell_type": "code",
   "execution_count": 117,
   "metadata": {},
   "outputs": [],
   "source": [
    "def prior(animaux) :\n",
    "    return 1/len(animaux)"
   ]
  },
  {
   "cell_type": "markdown",
   "metadata": {},
   "source": [
    "Maintenant, nous allons définir une fonction de likelihood qui nous retournera un tableau de coefficient permettant d'ajuster nos probabilitées en fonction de la réponse donnée et de la question posée."
   ]
  },
  {
   "cell_type": "code",
   "execution_count": 118,
   "metadata": {},
   "outputs": [],
   "source": [
    "tab = np.zeros(len(data_copy))\n",
    "\n",
    "def likelihood(X, reponse, ind) :\n",
    "    for i in range(len(data_copy[:, 0])) :\n",
    "        if data_copy[i, ind] == reponse :\n",
    "            X[i] = 1\n",
    "        elif data_copy[i, ind] != reponse and reponse != 3 and reponse != 4 :\n",
    "            X[i] = 0\n",
    "        elif reponse == 3 :          # Probablement\n",
    "            if data_copy[i, ind] == 0 :\n",
    "                X[i] = 0.5\n",
    "            else :\n",
    "                X[i] = 1\n",
    "        else :\n",
    "            if data_copy[i, ind] == 1 :\n",
    "                X[i] = 0.5\n",
    "            else :\n",
    "                X[i] = 1\n",
    "    return X"
   ]
  },
  {
   "cell_type": "markdown",
   "metadata": {},
   "source": [
    "Enfin, il ne reste plus qu'à définir l'évidence (ou le posterior) qui est simplement la probabilité de chaque réponse. Nous avons ici 4 réponses possibles, donc un posterior de $\\frac{1}{4}$."
   ]
  },
  {
   "cell_type": "code",
   "execution_count": 119,
   "metadata": {},
   "outputs": [],
   "source": [
    "def evidence(possib_rep) :\n",
    "    return 1/len(possib_rep)"
   ]
  },
  {
   "cell_type": "markdown",
   "metadata": {},
   "source": [
    "On pourra donc calculer la probabilité totale pour chaque animal de la liste. Cette probabilité est donnée par la formule de Bayes définie plus tôt."
   ]
  },
  {
   "cell_type": "code",
   "execution_count": 120,
   "metadata": {},
   "outputs": [],
   "source": [
    "def proba(animaux, reponses, ind, possib_rep) : # Proba bayésienne\n",
    "    #Prior : \n",
    "    prior_f = prior(animaux) #Les animaux ont tous le même prior\n",
    "\n",
    "    #Likelihood:\n",
    "    likelihood_f = likelihood(tab, reponses, ind)\n",
    "\n",
    "    # Evidence :\n",
    "    evidence_f = evidence(possib_rep)\n",
    "    \n",
    "    return (likelihood_f * prior_f) / evidence_f"
   ]
  },
  {
   "cell_type": "markdown",
   "metadata": {},
   "source": [
    "Enfin, on définit une fonction qui renormalise le tableau de probabilités afin que la somme de toutes les probabilitées fasse 1."
   ]
  },
  {
   "cell_type": "code",
   "execution_count": 121,
   "metadata": {},
   "outputs": [],
   "source": [
    "def normalisation(X, rep) :\n",
    "    ind_nul = np.where(X == 0)[0]\n",
    "    if rep == 1 :                        # Oui\n",
    "        ind_nn = np.where(X != 0)[0]\n",
    "        nb_nn = len(ind_nn)\n",
    "        proba_normalise = 1/nb_nn\n",
    "        X[ind_nn] = proba_normalise\n",
    "    elif rep == 0 :                      # Non\n",
    "        ind_nn = np.where(X != 0)[0]\n",
    "        nb_nn = len(ind_nn)\n",
    "        proba_normalise = 1/nb_nn\n",
    "        X[ind_nn] = proba_normalise\n",
    "    elif rep == 3 :                      # Probablement\n",
    "        X = X / np.sum(X)\n",
    "    else :                               # Probablement pas\n",
    "        X = X / np.sum(X)\n",
    "    return X"
   ]
  },
  {
   "cell_type": "markdown",
   "metadata": {},
   "source": [
    "On peut donc effectuer notre boucle principale, on prendra comme base l'algorithme de questions dirigées vu plus tôt. Nous aurons juste à introduire les appels de nos fonctions au sein de la boucle afin que les probabilitées de chaque animal se mettent à jour."
   ]
  },
  {
   "cell_type": "code",
   "execution_count": 122,
   "metadata": {},
   "outputs": [],
   "source": [
    "def Akinator_dirige_bayes(X) :\n",
    "    tab_proba = [np.ones(len(X)) * prior(X)]\n",
    "    A = np.arange(len(questions))\n",
    "    data_shape = np.zeros(len(questions))\n",
    "    data_shape = [X.shape[0]]\n",
    "    data_tab = [X]\n",
    "    indice = []\n",
    "    indice_dont_know = []\n",
    "    rep_ind = np.zeros((2, len(questions)))\n",
    "    inf = True\n",
    "    i = 0\n",
    "    i_dont_know = 0\n",
    "    while inf == True :\n",
    "        if i < len(A) and len(X[:, 0]) != 1 :\n",
    "            print()\n",
    "            tab = count(X)                                                       # Compte le nombre de 1 et 0 pour chaque caractéristique physique\n",
    "            diff_tab = abs(tab[0] - tab[1])                                      # Fait la différence des deux\n",
    "            diff_tab[indice_dont_know] = np.nan\n",
    "            ind_question = np.where(diff_tab == min(diff_tab))[0]                # Recherche de la question la plus optimale à poser\n",
    "            indice.append(ind_question[0])                                       # Sauvegarde de l'indice de la question\n",
    "                \n",
    "            rep = ask_question_dirige(indice[-1])\n",
    "            \n",
    "            rep_ind[0, i] = rep\n",
    "            rep_ind[1, i] = indice[-1]\n",
    "            \n",
    "            if rep == 3 or rep == 4 :                                                         # Si on ne sait pas la réponse, sauvegarde l'indice de la question\n",
    "                indice_dont_know.append(indice[-1])\n",
    "                pass\n",
    "\n",
    "            else :\n",
    "                \n",
    "                ### Traitement du tableau en fonction de la réponse donnée\n",
    "\n",
    "                X, inf = choix_rep(X, rep, [indice[-1]], inf)\n",
    "                \n",
    "                \n",
    "                \n",
    "                \n",
    "            #print(indice)\n",
    "            tab_proba.append(normalisation(proba(X[:, 0], rep, indice[-1]+1, [0, 1, 3, 4]), rep) * tab_proba[i])\n",
    "            tab_proba[-1] = tab_proba[i+1] / np.sum(tab_proba[i+1])\n",
    "            \n",
    "            seuil = 0.6                                        \n",
    "            ind_seuil = np.where(tab_proba[-1] > seuil)[0]\n",
    "            if len(ind_seuil) != 0 :\n",
    "                propose = int(input(\"Pensiez vous à {}\".format(data_copy[ind_seuil, 0])))\n",
    "                if propose == 1:\n",
    "                    break\n",
    "                else :\n",
    "                    None\n",
    "            \n",
    "            \n",
    "            print(tab_proba[-1])\n",
    "            data_shape.append(X.shape[0])                                         # Sauvegarde le nombre d'animaux restant à chaques tours\n",
    "            print(\"Vos données ont une dimension de {}\".format(X.shape))\n",
    "            data_tab.append(X)                                                    # Sauvegarde le tableau de données modifiées à chaques tours\n",
    "\n",
    "\n",
    "            ### Conditions d'arrêts de l'algorithme\n",
    "\n",
    "            inf = condition_arret_bis(X, i, inf, data_shape)                   # Condition d'arrêt de la boucle\n",
    "\n",
    "            i += 1\n",
    "        else :\n",
    "            rep_ind = np.delete(rep_ind, np.arange(i, len(questions)), 1)\n",
    "            print(\"Convergence après {} itérations.\".format(i))                   # Affiche le nombre d'itération pour atteindre la convergence\n",
    "            print()\n",
    "            print(\"Voici le résultat : {}\".format(X[:, 0]))                       # Affiche les solutions\n",
    "            inf = False\n",
    "    return X, data_shape, rep_ind, tab_proba"
   ]
  },
  {
   "cell_type": "code",
   "execution_count": 123,
   "metadata": {},
   "outputs": [
    {
     "name": "stdout",
     "output_type": "stream",
     "text": [
      "\n"
     ]
    },
    {
     "name": "stdin",
     "output_type": "stream",
     "text": [
      "Votre animal pond-t-il des oeufs ?  0\n"
     ]
    },
    {
     "name": "stdout",
     "output_type": "stream",
     "text": [
      "[0.01234568 0.01234568 0.01234568 0.01234568 0.01234568 0.01234568\n",
      " 0.         0.01234568 0.01234568 0.01234568 0.01234568 0.01234568\n",
      " 0.01234568 0.01234568 0.01234568 0.         0.01234568 0.\n",
      " 0.01234568 0.         0.         0.         0.         0.01234568\n",
      " 0.01234568 0.01234568 0.01234568 0.         0.01234568 0.01234568\n",
      " 0.         0.01234568 0.01234568 0.01234568 0.01234568 0.\n",
      " 0.01234568 0.01234568 0.         0.         0.         0.\n",
      " 0.         0.01234568 0.01234568 0.         0.         0.01234568\n",
      " 0.         0.         0.         0.01234568 0.01234568 0.\n",
      " 0.01234568 0.         0.01234568 0.01234568 0.         0.\n",
      " 0.         0.         0.01234568 0.01234568 0.         0.01234568\n",
      " 0.01234568 0.01234568 0.         0.         0.         0.\n",
      " 0.         0.         0.         0.         0.01234568 0.\n",
      " 0.01234568 0.01234568 0.01234568 0.01234568 0.01234568 0.01234568\n",
      " 0.01234568 0.01234568 0.         0.01234568 0.01234568 0.\n",
      " 0.         0.         0.         0.         0.         0.\n",
      " 0.         0.01234568 0.         0.01234568 0.         0.\n",
      " 0.         0.         0.         0.         0.         0.\n",
      " 0.         0.         0.         0.         0.         0.\n",
      " 0.01234568 0.         0.         0.         0.         0.\n",
      " 0.         0.01234568 0.         0.         0.         0.\n",
      " 0.         0.01234568 0.01234568 0.01234568 0.01234568 0.01234568\n",
      " 0.01234568 0.01234568 0.         0.         0.         0.\n",
      " 0.         0.         0.         0.         0.         0.\n",
      " 0.01234568 0.01234568 0.01234568 0.01234568 0.01234568 0.01234568\n",
      " 0.01234568 0.01234568 0.01234568 0.01234568 0.01234568 0.01234568\n",
      " 0.01234568 0.01234568 0.01234568 0.01234568 0.01234568 0.01234568]\n",
      "Vos données ont une dimension de (81, 50)\n",
      "\n"
     ]
    },
    {
     "name": "stdin",
     "output_type": "stream",
     "text": [
      "Votre animal chasse-t-il sa nourriture ?  1\n"
     ]
    },
    {
     "name": "stdout",
     "output_type": "stream",
     "text": [
      "[0.         0.         0.         0.         0.         0.\n",
      " 0.         0.02941176 0.         0.         0.         0.\n",
      " 0.         0.         0.         0.         0.         0.\n",
      " 0.         0.         0.         0.         0.         0.\n",
      " 0.02941176 0.         0.         0.         0.02941176 0.\n",
      " 0.         0.02941176 0.02941176 0.         0.         0.\n",
      " 0.         0.02941176 0.         0.         0.         0.\n",
      " 0.         0.         0.02941176 0.         0.         0.\n",
      " 0.         0.         0.         0.         0.         0.\n",
      " 0.         0.         0.         0.         0.         0.\n",
      " 0.         0.         0.02941176 0.02941176 0.         0.02941176\n",
      " 0.02941176 0.02941176 0.         0.         0.         0.\n",
      " 0.         0.         0.         0.         0.02941176 0.\n",
      " 0.02941176 0.         0.02941176 0.02941176 0.02941176 0.02941176\n",
      " 0.         0.02941176 0.         0.02941176 0.02941176 0.\n",
      " 0.         0.         0.         0.         0.         0.\n",
      " 0.         0.         0.         0.02941176 0.         0.\n",
      " 0.         0.         0.         0.         0.         0.\n",
      " 0.         0.         0.         0.         0.         0.\n",
      " 0.         0.         0.         0.         0.         0.\n",
      " 0.         0.         0.         0.         0.         0.\n",
      " 0.         0.         0.02941176 0.02941176 0.02941176 0.\n",
      " 0.         0.02941176 0.         0.         0.         0.\n",
      " 0.         0.         0.         0.         0.         0.\n",
      " 0.02941176 0.02941176 0.02941176 0.02941176 0.         0.02941176\n",
      " 0.         0.         0.02941176 0.         0.         0.\n",
      " 0.         0.02941176 0.         0.         0.02941176 0.        ]\n",
      "Vos données ont une dimension de (34, 50)\n",
      "\n"
     ]
    },
    {
     "name": "stdin",
     "output_type": "stream",
     "text": [
      "Votre animal pèse-t-il au moins deux hommes ? 3\n"
     ]
    },
    {
     "name": "stdout",
     "output_type": "stream",
     "text": [
      "[0.         0.         0.         0.         0.         0.\n",
      " 0.         0.04545455 0.         0.         0.         0.\n",
      " 0.         0.         0.         0.         0.         0.\n",
      " 0.         0.         0.         0.         0.         0.\n",
      " 0.04545455 0.         0.         0.         0.02272727 0.\n",
      " 0.         0.04545455 0.04545455 0.         0.         0.\n",
      " 0.         0.02272727 0.         0.         0.         0.\n",
      " 0.         0.         0.04545455 0.         0.         0.\n",
      " 0.         0.         0.         0.         0.         0.\n",
      " 0.         0.         0.         0.         0.         0.\n",
      " 0.         0.         0.02272727 0.04545455 0.         0.02272727\n",
      " 0.02272727 0.02272727 0.         0.         0.         0.\n",
      " 0.         0.         0.         0.         0.02272727 0.\n",
      " 0.02272727 0.         0.02272727 0.02272727 0.02272727 0.02272727\n",
      " 0.         0.02272727 0.         0.04545455 0.04545455 0.\n",
      " 0.         0.         0.         0.         0.         0.\n",
      " 0.         0.         0.         0.02272727 0.         0.\n",
      " 0.         0.         0.         0.         0.         0.\n",
      " 0.         0.         0.         0.         0.         0.\n",
      " 0.         0.         0.         0.         0.         0.\n",
      " 0.         0.         0.         0.         0.         0.\n",
      " 0.         0.         0.02272727 0.02272727 0.02272727 0.\n",
      " 0.         0.02272727 0.         0.         0.         0.\n",
      " 0.         0.         0.         0.         0.         0.\n",
      " 0.02272727 0.02272727 0.02272727 0.02272727 0.         0.02272727\n",
      " 0.         0.         0.04545455 0.         0.         0.\n",
      " 0.         0.02272727 0.         0.         0.04545455 0.        ]\n",
      "Vos données ont une dimension de (34, 50)\n",
      "\n"
     ]
    },
    {
     "name": "stdin",
     "output_type": "stream",
     "text": [
      "Votre animal vit-il à proximité d’une source aquatique ? 0\n"
     ]
    },
    {
     "name": "stdout",
     "output_type": "stream",
     "text": [
      "[0.         0.         0.         0.         0.         0.\n",
      " 0.         0.         0.         0.         0.         0.\n",
      " 0.         0.         0.         0.         0.         0.\n",
      " 0.         0.         0.         0.         0.         0.\n",
      " 0.06896552 0.         0.         0.         0.03448276 0.\n",
      " 0.         0.06896552 0.06896552 0.         0.         0.\n",
      " 0.         0.03448276 0.         0.         0.         0.\n",
      " 0.         0.         0.         0.         0.         0.\n",
      " 0.         0.         0.         0.         0.         0.\n",
      " 0.         0.         0.         0.         0.         0.\n",
      " 0.         0.         0.03448276 0.06896552 0.         0.03448276\n",
      " 0.         0.03448276 0.         0.         0.         0.\n",
      " 0.         0.         0.         0.         0.03448276 0.\n",
      " 0.03448276 0.         0.         0.03448276 0.03448276 0.03448276\n",
      " 0.         0.03448276 0.         0.         0.         0.\n",
      " 0.         0.         0.         0.         0.         0.\n",
      " 0.         0.         0.         0.03448276 0.         0.\n",
      " 0.         0.         0.         0.         0.         0.\n",
      " 0.         0.         0.         0.         0.         0.\n",
      " 0.         0.         0.         0.         0.         0.\n",
      " 0.         0.         0.         0.         0.         0.\n",
      " 0.         0.         0.         0.03448276 0.03448276 0.\n",
      " 0.         0.03448276 0.         0.         0.         0.\n",
      " 0.         0.         0.         0.         0.         0.\n",
      " 0.03448276 0.03448276 0.03448276 0.03448276 0.         0.03448276\n",
      " 0.         0.         0.         0.         0.         0.\n",
      " 0.         0.03448276 0.         0.         0.         0.        ]\n",
      "Vos données ont une dimension de (25, 50)\n",
      "\n"
     ]
    },
    {
     "name": "stdin",
     "output_type": "stream",
     "text": [
      "Votre animal est-il un félin ? 1\n"
     ]
    },
    {
     "name": "stdout",
     "output_type": "stream",
     "text": [
      "[0.         0.         0.         0.         0.         0.\n",
      " 0.         0.         0.         0.         0.         0.\n",
      " 0.         0.         0.         0.         0.         0.\n",
      " 0.         0.         0.         0.         0.         0.\n",
      " 0.18181818 0.         0.         0.         0.         0.\n",
      " 0.         0.         0.         0.         0.         0.\n",
      " 0.         0.09090909 0.         0.         0.         0.\n",
      " 0.         0.         0.         0.         0.         0.\n",
      " 0.         0.         0.         0.         0.         0.\n",
      " 0.         0.         0.         0.         0.         0.\n",
      " 0.         0.         0.09090909 0.18181818 0.         0.09090909\n",
      " 0.         0.         0.         0.         0.         0.\n",
      " 0.         0.         0.         0.         0.         0.\n",
      " 0.         0.         0.         0.09090909 0.09090909 0.\n",
      " 0.         0.         0.         0.         0.         0.\n",
      " 0.         0.         0.         0.         0.         0.\n",
      " 0.         0.         0.         0.         0.         0.\n",
      " 0.         0.         0.         0.         0.         0.\n",
      " 0.         0.         0.         0.         0.         0.\n",
      " 0.         0.         0.         0.         0.         0.\n",
      " 0.         0.         0.         0.         0.         0.\n",
      " 0.         0.         0.         0.         0.09090909 0.\n",
      " 0.         0.         0.         0.         0.         0.\n",
      " 0.         0.         0.         0.         0.         0.\n",
      " 0.         0.         0.09090909 0.         0.         0.\n",
      " 0.         0.         0.         0.         0.         0.\n",
      " 0.         0.         0.         0.         0.         0.        ]\n",
      "Vos données ont une dimension de (9, 50)\n",
      "\n"
     ]
    },
    {
     "name": "stdin",
     "output_type": "stream",
     "text": [
      "Votre animal provient-il de la savane africaine ? 4\n"
     ]
    },
    {
     "name": "stdout",
     "output_type": "stream",
     "text": [
      "[0.     0.     0.     0.     0.     0.     0.     0.     0.     0.\n",
      " 0.     0.     0.     0.     0.     0.     0.     0.     0.     0.\n",
      " 0.     0.     0.     0.     0.25   0.     0.     0.     0.     0.\n",
      " 0.     0.     0.     0.     0.     0.     0.     0.0625 0.     0.\n",
      " 0.     0.     0.     0.     0.     0.     0.     0.     0.     0.\n",
      " 0.     0.     0.     0.     0.     0.     0.     0.     0.     0.\n",
      " 0.     0.     0.0625 0.125  0.     0.0625 0.     0.     0.     0.\n",
      " 0.     0.     0.     0.     0.     0.     0.     0.     0.     0.\n",
      " 0.     0.125  0.125  0.     0.     0.     0.     0.     0.     0.\n",
      " 0.     0.     0.     0.     0.     0.     0.     0.     0.     0.\n",
      " 0.     0.     0.     0.     0.     0.     0.     0.     0.     0.\n",
      " 0.     0.     0.     0.     0.     0.     0.     0.     0.     0.\n",
      " 0.     0.     0.     0.     0.     0.     0.     0.     0.     0.\n",
      " 0.125  0.     0.     0.     0.     0.     0.     0.     0.     0.\n",
      " 0.     0.     0.     0.     0.     0.     0.0625 0.     0.     0.\n",
      " 0.     0.     0.     0.     0.     0.     0.     0.     0.     0.\n",
      " 0.     0.    ]\n",
      "Vos données ont une dimension de (9, 50)\n",
      "\n"
     ]
    },
    {
     "name": "stdin",
     "output_type": "stream",
     "text": [
      "Votre animal possède-t-il de longues griffes acérées ? 1\n"
     ]
    },
    {
     "name": "stdout",
     "output_type": "stream",
     "text": [
      "[0.         0.         0.         0.         0.         0.\n",
      " 0.         0.         0.         0.         0.         0.\n",
      " 0.         0.         0.         0.         0.         0.\n",
      " 0.         0.         0.         0.         0.         0.\n",
      " 0.33333333 0.         0.         0.         0.         0.\n",
      " 0.         0.         0.         0.         0.         0.\n",
      " 0.         0.08333333 0.         0.         0.         0.\n",
      " 0.         0.         0.         0.         0.         0.\n",
      " 0.         0.         0.         0.         0.         0.\n",
      " 0.         0.         0.         0.         0.         0.\n",
      " 0.         0.         0.         0.16666667 0.         0.08333333\n",
      " 0.         0.         0.         0.         0.         0.\n",
      " 0.         0.         0.         0.         0.         0.\n",
      " 0.         0.         0.         0.16666667 0.16666667 0.\n",
      " 0.         0.         0.         0.         0.         0.\n",
      " 0.         0.         0.         0.         0.         0.\n",
      " 0.         0.         0.         0.         0.         0.\n",
      " 0.         0.         0.         0.         0.         0.\n",
      " 0.         0.         0.         0.         0.         0.\n",
      " 0.         0.         0.         0.         0.         0.\n",
      " 0.         0.         0.         0.         0.         0.\n",
      " 0.         0.         0.         0.         0.         0.\n",
      " 0.         0.         0.         0.         0.         0.\n",
      " 0.         0.         0.         0.         0.         0.\n",
      " 0.         0.         0.         0.         0.         0.\n",
      " 0.         0.         0.         0.         0.         0.\n",
      " 0.         0.         0.         0.         0.         0.        ]\n",
      "Vos données ont une dimension de (6, 50)\n",
      "\n"
     ]
    },
    {
     "name": "stdin",
     "output_type": "stream",
     "text": [
      "Votre animal peut-il vivre dans la jungle ? 1\n",
      "Pensiez vous à ['Tigre'] 1\n"
     ]
    }
   ],
   "source": [
    "X, Y, Z, proba = Akinator_dirige_bayes(data_copy)"
   ]
  },
  {
   "cell_type": "markdown",
   "metadata": {},
   "source": [
    "On pourra remarquer que grâce à toutes nos probabilités, nous avons rajouté une condition d'arrêt, non plus sur le nombre de données restantes, mais sur la plus grande probabilité du tableau. En effet, on définit une probabilité seuil $p_{seuil}$ telle que si $p > p_{seuil}$ alors on propose à l'interlocuteur l'animal en question. En effet, il y aura beaucoup de chance que ce soit cet animal que l'interlocuteur aura choisi. Plusieurs avantages donc à opter pour l'approche probabiliste :\n",
    "   \n",
    "   + D'une part selon les réponses, on peut converger plus rapidement que l'approche déterministe car dans le cas ou il ne reste que peu d'animaux, on peux proposer celui qui a la probabilité la plus grande.\n",
    "   + D'autre part le choix de réponse plus élaboré dans notre cas qui fait en sorte que même si le joueur se trompe sur les options \"probablement\" et \"probablement pas\", il reste quand même une chance de trouver l'animal en question.\n",
    "   \n",
    "Quand on regarde en détail notre approche probabiliste réside au coeur des réponses \"probablement\" et \"probablement pas\". En effet, en dehors de ces réponses on retombe sur l'approche déterministe, et donc sur l'algorithme des questions dirigées vu précedemment."
   ]
  },
  {
   "cell_type": "markdown",
   "metadata": {},
   "source": [
    "# Méthodes de visualisation / Classifications"
   ]
  },
  {
   "cell_type": "markdown",
   "metadata": {},
   "source": [
    "## PCA"
   ]
  },
  {
   "cell_type": "markdown",
   "metadata": {},
   "source": [
    "Une façon de visualiser les données que l'on a est de faire une analyse de composantes principales (PCA) sur celles-ci. Ici on réduit notre dimension des questions (ici 49) à un espace ou l'on peux visualiser nos données (on prendra 3). Cette opération parait risquée car réduire 49 dimension à 3 nous fait perdre potentiellement beaucoup d'informations. Néanmoins il sera peut être possible que les animaux qui ont les mêmes caractéristiques soient regroupés dans un certaine portion de l'espace."
   ]
  },
  {
   "cell_type": "code",
   "execution_count": 157,
   "metadata": {},
   "outputs": [
    {
     "data": {
      "image/png": "[encoded data removed]",
      "text/plain": [
       "<Figure size 432x288 with 1 Axes>"
      ]
     },
     "metadata": {
      "needs_background": "light"
     },
     "output_type": "display_data"
    }
   ],
   "source": [
    "from mpl_toolkits.mplot3d import Axes3D\n",
    "from sklearn import decomposition\n",
    "\n",
    "%matplotlib inline\n",
    "\n",
    "data_class = data_copy[:, 43:]                                                 # On récupère les dernière colonnes des datas qui contiennent les classes d'animaux :\n",
    "ind_1 = np.where(data_class == 1)[1]                                           # Mammifères, Insectes, Reptiles, Oiseaux, Invertébrés, Poissons et Amphibiens.\n",
    "ind_1 = ind_1 + 1\n",
    "class_animal = ind_1                                                           # Class_animal regroupes les animaux qui appartient aux classes mammifères, oiseaux....\n",
    "\n",
    "pca = decomposition.PCA(n_components = 3)                                      # Créer la PCA\n",
    "data_t = pca.fit_transform(data_copy[:, 1:])                                   # L'applique aux données\n",
    "\n",
    "fig = plt.figure()\n",
    "ax = Axes3D(fig)\n",
    "\n",
    "plt.title(\"PCA en 3D\")\n",
    "ax.scatter(data_t[:,0], data_t[:,1], data_t[:,2], c = class_animal)\n",
    "ax.set_xlabel(\"x'\")\n",
    "ax.set_ylabel(\"y'\")\n",
    "ax.set_zlabel(\"z'\")\n",
    "plt.show()"
   ]
  },
  {
   "cell_type": "markdown",
   "metadata": {},
   "source": [
    "On voit sur la figure ci-dessus que chaque couleur représente une classe différentes (mammifères, reptiles, etc...), On observe que certaines classes sont assez bien séparées des autres."
   ]
  },
  {
   "cell_type": "markdown",
   "metadata": {},
   "source": [
    "## Kmeans"
   ]
  },
  {
   "cell_type": "markdown",
   "metadata": {},
   "source": [
    "On pourra maintenant s'imaginer que nous avons nos données, mais que nous ne connaissons pas les classes de chacuns des animaux, nous allons essayer de voir si, appliquer un algorithme de K-Means s'avère efficace afin de retrouver ces différentes classes."
   ]
  },
  {
   "cell_type": "markdown",
   "metadata": {},
   "source": [
    "Tout d'abord, rappelons ce qu'est un algorithme de K-Means. Ce dernier permet de retrouver des regroupements de données, il calcule les centres de chaque clusters en calculant la distance entre chaque points de données des centres déjà placés (aléatoirement au début). On a vu en TP que cette technique fonctionne plutôt bien pour des clusters bien séparés les uns des autres. Dans notre cas, on voit que cet algorithme fonctionnera plutôt bien pour certaines classes mais pas pour d'autres. En effet, on voit que certaines de nos données sont à cheval entre deux clusters, ceci viens du fait que certains animaux d'une classe possèdent des caractéristiques d'autres classes (chauves-souris, ornithorynque..). On pourra quand même essayer de prédire ces clusters et regarder l'efficacité de cette méthode."
   ]
  },
  {
   "cell_type": "markdown",
   "metadata": {},
   "source": [
    "On commence par afficher nos données sans leurs classes. On ne peut donc plus distinguer les animaux d'une classe ou d'une autre."
   ]
  },
  {
   "cell_type": "code",
   "execution_count": 158,
   "metadata": {},
   "outputs": [
    {
     "data": {
      "image/png": "[encoded data removed]",
      "text/plain": [
       "<Figure size 432x288 with 1 Axes>"
      ]
     },
     "metadata": {
      "needs_background": "light"
     },
     "output_type": "display_data"
    }
   ],
   "source": [
    "fig = plt.figure()\n",
    "ax = Axes3D(fig)\n",
    "plt.title(\"Données sans classes\")\n",
    "ax.scatter(data_t[:,0], data_t[:,1], data_t[:,2])                   # Plot des datas sans les couleurs\n",
    "ax.set_xlabel(\"x'\")\n",
    "ax.set_ylabel(\"y'\")\n",
    "ax.set_zlabel(\"z'\")\n",
    "plt.show()"
   ]
  },
  {
   "cell_type": "markdown",
   "metadata": {},
   "source": [
    "On commence par importer le module de sklearn permettant de faire un K-Means."
   ]
  },
  {
   "cell_type": "code",
   "execution_count": 159,
   "metadata": {},
   "outputs": [],
   "source": [
    "from sklearn.cluster import KMeans"
   ]
  },
  {
   "cell_type": "markdown",
   "metadata": {},
   "source": [
    "On appelle la fonction K-means, on doit lui donner le nombre de classe que l'on a, ici 7. Ensuite, on doit préciser un random state = 2 afin que le résultat soit meilleur."
   ]
  },
  {
   "cell_type": "code",
   "execution_count": 160,
   "metadata": {},
   "outputs": [],
   "source": [
    "kmeans = KMeans(n_clusters = 7, random_state = 2).fit(data_t)                                 # Application du kmeans"
   ]
  },
  {
   "cell_type": "markdown",
   "metadata": {},
   "source": [
    "On peut donc afficher les résultats après avoir récupéré les coordonnées des centres de chaques clusters."
   ]
  },
  {
   "cell_type": "code",
   "execution_count": 161,
   "metadata": {},
   "outputs": [
    {
     "data": {
      "image/png": "[encoded data removed]",
      "text/plain": [
       "<Figure size 432x288 with 1 Axes>"
      ]
     },
     "metadata": {
      "needs_background": "light"
     },
     "output_type": "display_data"
    }
   ],
   "source": [
    "centers = kmeans.cluster_centers_   # Récupérations des centres\n",
    "\n",
    "fig = plt.figure()\n",
    "ax = Axes3D(fig)\n",
    "plt.title(\"K-Means\")\n",
    "ax.scatter(data_t[:,0], data_t[:,1], data_t[:,2], c = kmeans.labels_)                           # Plot des datas avec les labels attribués par le K-Means\n",
    "ax.scatter(centers[:,0], centers[:,1], centers[:,2], c = \"red\", marker = \"x\", s = 100)          # Plot des centres\n",
    "ax.set_xlabel(\"x'\")\n",
    "ax.set_ylabel(\"y'\")\n",
    "ax.set_zlabel(\"z'\")\n",
    "plt.show()"
   ]
  },
  {
   "cell_type": "code",
   "execution_count": 162,
   "metadata": {},
   "outputs": [
    {
     "name": "stdout",
     "output_type": "stream",
     "text": [
      "Voici le pourcentage de bon résultats : 66.05 %\n"
     ]
    }
   ],
   "source": [
    "rep = class_animal == kmeans.labels_                                                     # Vérification de la bonne association des animaux à la bonne classe\n",
    " \n",
    "ind_true = np.where(rep == True)[0]                                                      # Indice des True\n",
    "\n",
    "pourcent = len(ind_true) * 100 / len(rep)                                                # Pourcentage de True par rapport au nombre de donnée\n",
    "\n",
    "print(\"Voici le pourcentage de bon résultats : {} %\".format(np.round(pourcent, 2)))"
   ]
  },
  {
   "cell_type": "markdown",
   "metadata": {},
   "source": [
    "En comparant le résultat aux données réelles dont on dispose, on peut calculer le pourcentage de bonne estimation, qui ici est de $66 \\%$. On voit que ce résultat est moyen, ce qui colle avec notre hypothèse de départ qui est que notre clusters sont trop rapprochés, ce qui montre que certains de nos animaux sont à cheval entre deux classes."
   ]
  },
  {
   "cell_type": "markdown",
   "metadata": {},
   "source": [
    "# Ouverture"
   ]
  },
  {
   "cell_type": "markdown",
   "metadata": {},
   "source": [
    "Nous avons donc fini d'analyser nos données, nous allons pourvoir maintenant parler de concepts et de méthodes que nous aurions voulu mettre en place si nous avions eu plus de temps. En effet, nous aurions pu parler de la visualisation de la classification de notre Random Forest et arbre de décision. Nous aurions voulu écrire une fonction permettant de montrer les \"frontières\" entre nos différentes classes comme on le verra ci-dessous. En effet, le temps nous ayant manqué, nous avons pris et adapté une définition prise sur un site internet qui explique assez bien la méthode [[4]](#Bibliographie). Cette définition nous permet de montrer les frontières de nos données pour différents algorithmes, ici un RandomForest et un arbre de décision simple. Tout d'abord, il nous faut refaire une réduction de dimension pour passer de notre espace initial à un espace de 2 dimensions. On obtient donc :"
   ]
  },
  {
   "cell_type": "code",
   "execution_count": 153,
   "metadata": {},
   "outputs": [],
   "source": [
    "from sklearn.tree import DecisionTreeClassifier"
   ]
  },
  {
   "cell_type": "code",
   "execution_count": 163,
   "metadata": {},
   "outputs": [
    {
     "data": {
      "image/png": "[encoded data removed]",
      "text/plain": [
       "<Figure size 432x288 with 1 Axes>"
      ]
     },
     "metadata": {
      "needs_background": "light"
     },
     "output_type": "display_data"
    }
   ],
   "source": [
    "data_class = data_copy[:, 43:]                               # On récupère les dernière colonnes des datas qui contiennent les classes d'animaux :\n",
    "ind_1 = np.where(data_class == 1)[1]                         # Mammifères, Insectes, Reptiles, Oiseaux, Invertébrés, Poissons et Amphibiens.\n",
    "ind_1 = ind_1 + 1\n",
    "class_animal = ind_1                                         # class_animal regroupes les animaux qui appartient aux classes mammifères, oiseaux....\n",
    "\n",
    "pca = decomposition.PCA(n_components = 2)                    # Réduction à 2 dimensions\n",
    "data_t = pca.fit_transform(data_copy[:, 1:]) \n",
    "\n",
    "plt.figure(1)\n",
    "plt.scatter(data_t[:,0], data_t[:,1], c = class_animal)\n",
    "plt.title(\"PCA en 2 dimensions\")\n",
    "plt.xlabel(\"x'\")\n",
    "plt.ylabel(\"y'\")\n",
    "plt.show()"
   ]
  },
  {
   "cell_type": "markdown",
   "metadata": {},
   "source": [
    "Ici, on recrée un arbre de décision qui a été entrainé sur nos données."
   ]
  },
  {
   "cell_type": "code",
   "execution_count": 138,
   "metadata": {},
   "outputs": [],
   "source": [
    "X = data_t\n",
    "y = class_animal\n",
    "tree = DecisionTreeClassifier().fit(X, y)"
   ]
  },
  {
   "cell_type": "markdown",
   "metadata": {},
   "source": [
    "Enfin, voici la définition dont on parle ci-dessus, elle prend en entrée le modèle que l'on choisit de visualiser, ainsi que nos données X et y. Cette définition fonctionne sur le principe de prédiction du modèle choisi. Ainsi, grâce aux deux tableaux d'indices \"xx\" et \"yy\", leurs prédictions va créer des frontières sur notre graphique."
   ]
  },
  {
   "cell_type": "code",
   "execution_count": 164,
   "metadata": {},
   "outputs": [],
   "source": [
    "def visualize_classifier(model, X, y, ax=None):\n",
    "    fig = plt.figure()\n",
    "    ax = ax or plt.gca()\n",
    "    # Plot the training points\n",
    "    plt.scatter(X[:, 0], X[:, 1], c=y, s=30, zorder = 3)\n",
    "    ax.axis('tight')\n",
    "    ax.axis('off')\n",
    "    xlim = ax.get_xlim()\n",
    "    ylim = ax.get_ylim()\n",
    "    \n",
    "    # fit the estimator\n",
    "    model.fit(X, y)\n",
    "    xx, yy = np.meshgrid(np.linspace(*xlim, num=500),\n",
    "                         np.linspace(*ylim, num=500))\n",
    "    \n",
    "    Z = model.predict(np.c_[xx.ravel(), yy.ravel()]).reshape(xx.shape)\n",
    "\n",
    "    # Create a color plot with the results\n",
    "    n_classes = len(np.unique(y))\n",
    "    contours = plt.contourf(xx, yy, Z, alpha=0.3, levels=np.arange(n_classes + 1) - 0.5, zorder=1)\n",
    "\n",
    "    ax.set(xlim=xlim, ylim=ylim)"
   ]
  },
  {
   "cell_type": "code",
   "execution_count": 165,
   "metadata": {},
   "outputs": [
    {
     "data": {
      "image/png": "[encoded data removed]",
      "text/plain": [
       "<Figure size 432x288 with 1 Axes>"
      ]
     },
     "metadata": {
      "needs_background": "light"
     },
     "output_type": "display_data"
    }
   ],
   "source": [
    "visualize_classifier(DecisionTreeClassifier(), X, y)"
   ]
  },
  {
   "cell_type": "markdown",
   "metadata": {},
   "source": [
    "Ci-dessus, on voit la carte des frontières obtenus, on voit que celles-ci sont composées de lignes droite. En effet, notre modèle est un arbre de décision simple, dont avec un choix de réponse binaire (Vrai ou faux). Ce type de réponse nous donne donc des frontières de type \"binaire\", donc en ligne droite. En revanche, si l'on refait la même opération pour un Random Forest qui lui est composé de 50 arbres de décisions, on va voir que ces frontières vont changer, elles seront plus précise."
   ]
  },
  {
   "cell_type": "code",
   "execution_count": 166,
   "metadata": {},
   "outputs": [
    {
     "data": {
      "image/png": "[encoded data removed]",
      "text/plain": [
       "<Figure size 432x288 with 1 Axes>"
      ]
     },
     "metadata": {
      "needs_background": "light"
     },
     "output_type": "display_data"
    }
   ],
   "source": [
    "X = data_t\n",
    "y = class_animal\n",
    "model = RandomForestClassifier(n_estimators = 50)\n",
    "visualize_classifier(model, X, y)"
   ]
  },
  {
   "cell_type": "markdown",
   "metadata": {},
   "source": [
    "# Retour sur le mini projet"
   ]
  },
  {
   "cell_type": "markdown",
   "metadata": {},
   "source": [
    "## <font color ='green'> Inconvénients <font>"
   ]
  },
  {
   "cell_type": "markdown",
   "metadata": {},
   "source": [
    "Le premier inconvénient de notre sujet a été de compléter manuellement notre tableau de données, en effet, il n'existait pas de tableau déjà défini comme on le souhaitait. Nous avons donc du créer notre propre base de donnée ce qui a été quelque chose de fastidieux à faire et qui nous a donc pris du temps sur la phase de réflexion et d'analyse des données. \n",
    "\n",
    "Le second inconvénient de notre sujet a été d'établir nos différentes méthodes de convergence. En effet, il a été assez compliqué de créer un code assez clair pour la compréhension d'autres personnes, nous avons essayé d'écrire le code le plus clair et concis possible tout en y ajoutant quelques options d'optimisations tels que le retour en arrière ou  encore la réponse \"Ne sait pas\" qui permet de débloquer l'interlocuteur.\n",
    "\n",
    "Enfin, le dernier inconvénient a été dans l'analyse des données, en effet, nous avions très peu de piste au début, l'approche probabiliste a été dure à mettre en place, les articles en rapport avec l'approche bayésienne sur akinator étant très théoriques. La bibliographie sur ce sujet n'était pas très précise et se répétant souvent pour différentes sources."
   ]
  },
  {
   "cell_type": "markdown",
   "metadata": {},
   "source": [
    "## <font color ='green'>Avantages : Résumé des choses apprises <font>"
   ]
  },
  {
   "cell_type": "markdown",
   "metadata": {},
   "source": [
    "Grâce à ce sujet, nous avons pu appliquer tout un panel de méthode vu pendant cet UE. Ainsi, certaines de ces méthodes n'étant pas très claires à première vue, nous avons donc pu les appliquer dans un cas concret, ce qui facilite grandement la compréhension. De plus, ce mini projet nous a permis de nous améliorer dans l'usage du language Python et de ces méthodes. Finalement, ceci nous a permis d'entreprendre une réflexion approfondie dans le travail par projet, sur un sujet intéressant et simple en première approche, mais qui relève d'une complexité de par la manipulation des données et l'analyse de celles-ci, les méthodes choisies et finalement l'optimisation de ces dernières."
   ]
  },
  {
   "cell_type": "markdown",
   "metadata": {},
   "source": [
    "# Bibliographie"
   ]
  },
  {
   "cell_type": "markdown",
   "metadata": {},
   "source": [
    "##### Akinator-Wikipédia [1](https://fr.wikipedia.org/wiki/Akinator_:_Le_G%C3%A9nie_du_web)\n",
    "##### Akinator Bayésien [2](https://medium.com/analytics-vidhya/building-akinator-with-python-using-bayes-theorem-216253c98daa) \n",
    "##### Stratégies Bayésiennes [3](https://dukespace.lib.duke.edu/dspace/bitstream/handle/10161/16414/Suresh_duke_0066N_14270.pdf?sequence=1)\n",
    "##### Decision Tree - Random Forest [4](https://jakevdp.github.io/PythonDataScienceHandbook/05.08-random-forests.html)\n",
    "##### Dataset - Kaggle [5](https://www.kaggle.com/uciml/zoo-animal-classification)"
   ]
  }
 ],
 "metadata": {
  "kernelspec": {
   "display_name": "Python 3",
   "language": "python",
   "name": "python3"
  },
  "language_info": {
   "codemirror_mode": {
    "name": "ipython",
    "version": 3
   },
   "file_extension": ".py",
   "mimetype": "text/x-python",
   "name": "python",
   "nbconvert_exporter": "python",
   "pygments_lexer": "ipython3",
   "version": "3.7.3"
  },
  "widgets": {
   "application/vnd.jupyter.widget-state+json": {
    "state": {},
    "version_major": 2,
    "version_minor": 0
   }
  }
 },
 "nbformat": 4,
 "nbformat_minor": 4
}
